{
 "cells": [
  {
   "cell_type": "markdown",
   "id": "9e6588a8-3fe5-4394-9dfe-2ab48834c5dc",
   "metadata": {
    "jp-MarkdownHeadingCollapsed": true
   },
   "source": [
    "### Question 1"
   ]
  },
  {
   "cell_type": "markdown",
   "id": "b5ae316a-dcd7-408e-839c-b40aefbe41de",
   "metadata": {
    "scrolled": true
   },
   "source": [
    "Write a **recursive function** `factorial(n)` to calculate the factorial of non-negative numbers"
   ]
  },
  {
   "cell_type": "markdown",
   "id": "2f209bb2-6e87-4d3d-a06c-906f8aac2c7d",
   "metadata": {},
   "source": [
    "- if `n` is 0 or 1, stops the recursion"
   ]
  },
  {
   "cell_type": "markdown",
   "id": "81d8b419-b89f-4957-b030-26f70ff7885e",
   "metadata": {
    "jp-MarkdownHeadingCollapsed": true
   },
   "source": [
    "### Question 2"
   ]
  },
  {
   "cell_type": "markdown",
   "id": "d795873b-7dee-475d-a547-a26532a5d73b",
   "metadata": {},
   "source": [
    "Write a **recursive function** to calculate the Greatest Commmon Divisor (GCD) of two positive integers using the Euclidean algorithm."
   ]
  },
  {
   "cell_type": "markdown",
   "id": "546cdf96-d4ea-4ce4-82e8-3d3877f0f712",
   "metadata": {},
   "source": [
    "### Question 3\n",
    "Given the 3 numpy arrays, perform necessary manipulations to get the **expected result**"
   ]
  },
  {
   "cell_type": "code",
   "execution_count": 7,
   "id": "ccc3143b-ff5b-4ab3-b2a6-25592d66413c",
   "metadata": {},
   "outputs": [],
   "source": [
    "import numpy as np\n",
    "import pandas as pd\n",
    "# Given data\n",
    "days = np.arange(1, 31)\n",
    "sales = np.random.randint(1000, 5000, size=30)\n",
    "expenses = np.random.randint(500, 2000, size=30)"
   ]
  },
  {
   "cell_type": "code",
   "execution_count": 5,
   "id": "1b799c5f-b61f-4c7b-8d33-53a93d631c92",
   "metadata": {},
   "outputs": [],
   "source": [
    "# Expected Output\n",
    "#     Day  Sales  Expenses  Profit  Cumulative_Profit\n",
    "# 0     1   3689      1272    2417               2417\n",
    "# 1     2   1672      1809    -137               2280\n",
    "# 2     3   3685      1075    2610               4890\n",
    "# 3     4   2251       567    1684               6574\n",
    "# 4     5   4494      1254    3240               9814\n",
    "# 5     6   4572      1437    3135              12949\n",
    "# 6     7   4023      1135    2888              15837\n",
    "# 7     8   3745       978    2767              18604\n",
    "# 8     9   4655      1750    2905              21509\n",
    "# 9    10   1794       836     958              22467\n",
    "# 10   11   1543      1284     259              22726\n",
    "# 11   12   4231      1859    2372              25098\n",
    "# 12   13   3519      1268    2251              27349\n",
    "# 13   14   3365      1322    2043              29392\n",
    "# 14   15   1016       613     403              29795\n",
    "# 15   16   4143      1208    2935              32730\n",
    "# 16   17   4052      1324    2728              35458\n",
    "# 17   18   2730       508    2222              37680\n",
    "# 18   19   1813      1307     506              38186\n",
    "# 19   20   2304       741    1563              39749\n",
    "# 20   21   3987      1606    2381              42130\n",
    "# 21   22   1617      1989    -372              41758\n",
    "# 22   23   4294      1588    2706              44464\n",
    "# 23   24   3723       938    2785              47249\n",
    "# 24   25   3633       894    2739              49988\n",
    "# 25   26   4827       790    4037              54025\n",
    "# 26   27   3506       829    2677              56702\n",
    "# 27   28   2750      1873     877              57579\n",
    "# 28   29   1104      1313    -209              57370\n",
    "# 29   30   1206      1026     180              57550"
   ]
  },
  {
   "cell_type": "markdown",
   "id": "12d481c2-54fd-4d09-8c8f-539c2beb3c6f",
   "metadata": {},
   "source": [
    "### Question 4"
   ]
  },
  {
   "cell_type": "code",
   "execution_count": 8,
   "id": "af753d6f-b19a-43e2-b426-5ff5204e03f2",
   "metadata": {},
   "outputs": [
    {
     "name": "stdout",
     "output_type": "stream",
     "text": [
      "15\n"
     ]
    }
   ],
   "source": [
    "add_ten = lambda x: x + 10\n",
    "print(add_ten(5))  # Output: 15"
   ]
  },
  {
   "cell_type": "code",
   "execution_count": 9,
   "id": "91f39f89-42f9-4778-84ff-37a777aaafec",
   "metadata": {},
   "outputs": [],
   "source": [
    "# Based on the example above about lambda, please create a lambda that can perform cube\n",
    "# eg: cube_num(2) = 8"
   ]
  },
  {
   "cell_type": "code",
   "execution_count": null,
   "id": "c5e6ceeb-74fc-488b-845b-261f7e36c95d",
   "metadata": {},
   "outputs": [],
   "source": []
  }
 ],
 "metadata": {
  "kernelspec": {
   "display_name": "ciast_ai01",
   "language": "python",
   "name": "ciast_ai01"
  },
  "language_info": {
   "codemirror_mode": {
    "name": "ipython",
    "version": 3
   },
   "file_extension": ".py",
   "mimetype": "text/x-python",
   "name": "python",
   "nbconvert_exporter": "python",
   "pygments_lexer": "ipython3",
   "version": "3.10.14"
  }
 },
 "nbformat": 4,
 "nbformat_minor": 5
}
