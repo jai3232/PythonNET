{
 "cells": [
  {
   "cell_type": "markdown",
   "id": "d495ab54-34fa-490e-b41c-0d43a055acd3",
   "metadata": {},
   "source": [
    "# Day 7: Pandas"
   ]
  },
  {
   "cell_type": "markdown",
   "id": "ca07fdf6-d656-47fc-b3a9-c3d45bb8b75b",
   "metadata": {},
   "source": [
    "### Section 1: Creating DataFrames\n",
    "Description: This section covers the creation of DataFrames using different Pandas functions. Pandas provides several methods to initialize DataFrames from various data structures.\n",
    "\n",
    "Creating DataFrames:\n",
    "- pandas.DataFrame(): Create DataFrames from dictionaries, lists, or other data structures.\n",
    "- pandas.read_csv(): Read data from a CSV file.\n",
    "- pandas.read_excel(): Read data from an Excel file.\n",
    "- pandas.Series(): Create Series, which are one-dimensional labeled arrays."
   ]
  },
  {
   "cell_type": "markdown",
   "id": "ff51ed97-bd0c-40d5-a4b3-85d7afaea939",
   "metadata": {},
   "source": [
    "What is the differences between Pandas DataFrame vs Pandas Series\n",
    "- Panda Series: used for operations that only need 1D data, which can lead to faster performance\n",
    "- Panda Dataframe: suitable for more coplex operations that involve multiple dimensions of data "
   ]
  },
  {
   "cell_type": "code",
   "execution_count": 1,
   "id": "d82e17ae-e73c-4a5c-bc6e-8053d5ce9bd7",
   "metadata": {
    "editable": true,
    "slideshow": {
     "slide_type": ""
    },
    "tags": []
   },
   "outputs": [
    {
     "name": "stdout",
     "output_type": "stream",
     "text": [
      "DataFrame from dictionary:\n",
      "       Name  Age\n",
      "0    Alice   25\n",
      "1      Bob   30\n",
      "2  Charlie   35\n"
     ]
    }
   ],
   "source": [
    "import pandas as pd\n",
    "\n",
    "# pandas.DataFrame(): Create DataFrames from dictionaries, lists, or other data structures.\n",
    "data_dict = {'Name': ['Alice', 'Bob', 'Charlie'], 'Age': [25, 30, 35]}\n",
    "df_dict = pd.DataFrame(data_dict)\n",
    "print(\"DataFrame from dictionary:\\n\", df_dict)"
   ]
  },
  {
   "cell_type": "code",
   "execution_count": 8,
   "id": "4f1f8593-8159-4eaf-bf1e-cbd68e20880c",
   "metadata": {
    "editable": true,
    "slideshow": {
     "slide_type": ""
    },
    "tags": []
   },
   "outputs": [
    {
     "name": "stdout",
     "output_type": "stream",
     "text": [
      "     name   age\n",
      "0     Ali    23\n",
      "1   Mamat    76\n",
      "2   Chong    23\n",
      "3  Ab Loi    33\n"
     ]
    },
    {
     "ename": "ImportError",
     "evalue": "Missing optional dependency 'openpyxl'.  Use pip or conda to install openpyxl.",
     "output_type": "error",
     "traceback": [
      "\u001b[1;31m---------------------------------------------------------------------------\u001b[0m",
      "\u001b[1;31mModuleNotFoundError\u001b[0m                       Traceback (most recent call last)",
      "File \u001b[1;32m~\\AppData\\Local\\anaconda3\\envs\\ciast_ai01\\Lib\\site-packages\\pandas\\compat\\_optional.py:135\u001b[0m, in \u001b[0;36mimport_optional_dependency\u001b[1;34m(name, extra, errors, min_version)\u001b[0m\n\u001b[0;32m    134\u001b[0m \u001b[38;5;28;01mtry\u001b[39;00m:\n\u001b[1;32m--> 135\u001b[0m     module \u001b[38;5;241m=\u001b[39m importlib\u001b[38;5;241m.\u001b[39mimport_module(name)\n\u001b[0;32m    136\u001b[0m \u001b[38;5;28;01mexcept\u001b[39;00m \u001b[38;5;167;01mImportError\u001b[39;00m:\n",
      "File \u001b[1;32m~\\AppData\\Local\\anaconda3\\envs\\ciast_ai01\\Lib\\importlib\\__init__.py:90\u001b[0m, in \u001b[0;36mimport_module\u001b[1;34m(name, package)\u001b[0m\n\u001b[0;32m     89\u001b[0m         level \u001b[38;5;241m+\u001b[39m\u001b[38;5;241m=\u001b[39m \u001b[38;5;241m1\u001b[39m\n\u001b[1;32m---> 90\u001b[0m \u001b[38;5;28;01mreturn\u001b[39;00m _bootstrap\u001b[38;5;241m.\u001b[39m_gcd_import(name[level:], package, level)\n",
      "File \u001b[1;32m<frozen importlib._bootstrap>:1387\u001b[0m, in \u001b[0;36m_gcd_import\u001b[1;34m(name, package, level)\u001b[0m\n",
      "File \u001b[1;32m<frozen importlib._bootstrap>:1360\u001b[0m, in \u001b[0;36m_find_and_load\u001b[1;34m(name, import_)\u001b[0m\n",
      "File \u001b[1;32m<frozen importlib._bootstrap>:1324\u001b[0m, in \u001b[0;36m_find_and_load_unlocked\u001b[1;34m(name, import_)\u001b[0m\n",
      "\u001b[1;31mModuleNotFoundError\u001b[0m: No module named 'openpyxl'",
      "\nDuring handling of the above exception, another exception occurred:\n",
      "\u001b[1;31mImportError\u001b[0m                               Traceback (most recent call last)",
      "Cell \u001b[1;32mIn[8], line 5\u001b[0m\n\u001b[0;32m      3\u001b[0m df_csv \u001b[38;5;241m=\u001b[39m pd\u001b[38;5;241m.\u001b[39mread_csv(\u001b[38;5;124m\"\u001b[39m\u001b[38;5;124minfo.csv\u001b[39m\u001b[38;5;124m\"\u001b[39m)\n\u001b[0;32m      4\u001b[0m \u001b[38;5;28mprint\u001b[39m(df_csv)\n\u001b[1;32m----> 5\u001b[0m df_xls \u001b[38;5;241m=\u001b[39m pd\u001b[38;5;241m.\u001b[39mread_excel(\u001b[38;5;124m\"\u001b[39m\u001b[38;5;124minfo1.xlsx\u001b[39m\u001b[38;5;124m\"\u001b[39m)\n\u001b[0;32m      6\u001b[0m pd\u001b[38;5;241m.\u001b[39mread_\n\u001b[0;32m      7\u001b[0m \u001b[38;5;28mprint\u001b[39m(df_xls)\n",
      "File \u001b[1;32m~\\AppData\\Local\\anaconda3\\envs\\ciast_ai01\\Lib\\site-packages\\pandas\\io\\excel\\_base.py:495\u001b[0m, in \u001b[0;36mread_excel\u001b[1;34m(io, sheet_name, header, names, index_col, usecols, dtype, engine, converters, true_values, false_values, skiprows, nrows, na_values, keep_default_na, na_filter, verbose, parse_dates, date_parser, date_format, thousands, decimal, comment, skipfooter, storage_options, dtype_backend, engine_kwargs)\u001b[0m\n\u001b[0;32m    493\u001b[0m \u001b[38;5;28;01mif\u001b[39;00m \u001b[38;5;129;01mnot\u001b[39;00m \u001b[38;5;28misinstance\u001b[39m(io, ExcelFile):\n\u001b[0;32m    494\u001b[0m     should_close \u001b[38;5;241m=\u001b[39m \u001b[38;5;28;01mTrue\u001b[39;00m\n\u001b[1;32m--> 495\u001b[0m     io \u001b[38;5;241m=\u001b[39m ExcelFile(\n\u001b[0;32m    496\u001b[0m         io,\n\u001b[0;32m    497\u001b[0m         storage_options\u001b[38;5;241m=\u001b[39mstorage_options,\n\u001b[0;32m    498\u001b[0m         engine\u001b[38;5;241m=\u001b[39mengine,\n\u001b[0;32m    499\u001b[0m         engine_kwargs\u001b[38;5;241m=\u001b[39mengine_kwargs,\n\u001b[0;32m    500\u001b[0m     )\n\u001b[0;32m    501\u001b[0m \u001b[38;5;28;01melif\u001b[39;00m engine \u001b[38;5;129;01mand\u001b[39;00m engine \u001b[38;5;241m!=\u001b[39m io\u001b[38;5;241m.\u001b[39mengine:\n\u001b[0;32m    502\u001b[0m     \u001b[38;5;28;01mraise\u001b[39;00m \u001b[38;5;167;01mValueError\u001b[39;00m(\n\u001b[0;32m    503\u001b[0m         \u001b[38;5;124m\"\u001b[39m\u001b[38;5;124mEngine should not be specified when passing \u001b[39m\u001b[38;5;124m\"\u001b[39m\n\u001b[0;32m    504\u001b[0m         \u001b[38;5;124m\"\u001b[39m\u001b[38;5;124man ExcelFile - ExcelFile already has the engine set\u001b[39m\u001b[38;5;124m\"\u001b[39m\n\u001b[0;32m    505\u001b[0m     )\n",
      "File \u001b[1;32m~\\AppData\\Local\\anaconda3\\envs\\ciast_ai01\\Lib\\site-packages\\pandas\\io\\excel\\_base.py:1567\u001b[0m, in \u001b[0;36mExcelFile.__init__\u001b[1;34m(self, path_or_buffer, engine, storage_options, engine_kwargs)\u001b[0m\n\u001b[0;32m   1564\u001b[0m \u001b[38;5;28mself\u001b[39m\u001b[38;5;241m.\u001b[39mengine \u001b[38;5;241m=\u001b[39m engine\n\u001b[0;32m   1565\u001b[0m \u001b[38;5;28mself\u001b[39m\u001b[38;5;241m.\u001b[39mstorage_options \u001b[38;5;241m=\u001b[39m storage_options\n\u001b[1;32m-> 1567\u001b[0m \u001b[38;5;28mself\u001b[39m\u001b[38;5;241m.\u001b[39m_reader \u001b[38;5;241m=\u001b[39m \u001b[38;5;28mself\u001b[39m\u001b[38;5;241m.\u001b[39m_engines[engine](\n\u001b[0;32m   1568\u001b[0m     \u001b[38;5;28mself\u001b[39m\u001b[38;5;241m.\u001b[39m_io,\n\u001b[0;32m   1569\u001b[0m     storage_options\u001b[38;5;241m=\u001b[39mstorage_options,\n\u001b[0;32m   1570\u001b[0m     engine_kwargs\u001b[38;5;241m=\u001b[39mengine_kwargs,\n\u001b[0;32m   1571\u001b[0m )\n",
      "File \u001b[1;32m~\\AppData\\Local\\anaconda3\\envs\\ciast_ai01\\Lib\\site-packages\\pandas\\io\\excel\\_openpyxl.py:552\u001b[0m, in \u001b[0;36mOpenpyxlReader.__init__\u001b[1;34m(self, filepath_or_buffer, storage_options, engine_kwargs)\u001b[0m\n\u001b[0;32m    534\u001b[0m \u001b[38;5;129m@doc\u001b[39m(storage_options\u001b[38;5;241m=\u001b[39m_shared_docs[\u001b[38;5;124m\"\u001b[39m\u001b[38;5;124mstorage_options\u001b[39m\u001b[38;5;124m\"\u001b[39m])\n\u001b[0;32m    535\u001b[0m \u001b[38;5;28;01mdef\u001b[39;00m \u001b[38;5;21m__init__\u001b[39m(\n\u001b[0;32m    536\u001b[0m     \u001b[38;5;28mself\u001b[39m,\n\u001b[1;32m   (...)\u001b[0m\n\u001b[0;32m    539\u001b[0m     engine_kwargs: \u001b[38;5;28mdict\u001b[39m \u001b[38;5;241m|\u001b[39m \u001b[38;5;28;01mNone\u001b[39;00m \u001b[38;5;241m=\u001b[39m \u001b[38;5;28;01mNone\u001b[39;00m,\n\u001b[0;32m    540\u001b[0m ) \u001b[38;5;241m-\u001b[39m\u001b[38;5;241m>\u001b[39m \u001b[38;5;28;01mNone\u001b[39;00m:\n\u001b[0;32m    541\u001b[0m \u001b[38;5;250m    \u001b[39m\u001b[38;5;124;03m\"\"\"\u001b[39;00m\n\u001b[0;32m    542\u001b[0m \u001b[38;5;124;03m    Reader using openpyxl engine.\u001b[39;00m\n\u001b[0;32m    543\u001b[0m \n\u001b[1;32m   (...)\u001b[0m\n\u001b[0;32m    550\u001b[0m \u001b[38;5;124;03m        Arbitrary keyword arguments passed to excel engine.\u001b[39;00m\n\u001b[0;32m    551\u001b[0m \u001b[38;5;124;03m    \"\"\"\u001b[39;00m\n\u001b[1;32m--> 552\u001b[0m     import_optional_dependency(\u001b[38;5;124m\"\u001b[39m\u001b[38;5;124mopenpyxl\u001b[39m\u001b[38;5;124m\"\u001b[39m)\n\u001b[0;32m    553\u001b[0m     \u001b[38;5;28msuper\u001b[39m()\u001b[38;5;241m.\u001b[39m\u001b[38;5;21m__init__\u001b[39m(\n\u001b[0;32m    554\u001b[0m         filepath_or_buffer,\n\u001b[0;32m    555\u001b[0m         storage_options\u001b[38;5;241m=\u001b[39mstorage_options,\n\u001b[0;32m    556\u001b[0m         engine_kwargs\u001b[38;5;241m=\u001b[39mengine_kwargs,\n\u001b[0;32m    557\u001b[0m     )\n",
      "File \u001b[1;32m~\\AppData\\Local\\anaconda3\\envs\\ciast_ai01\\Lib\\site-packages\\pandas\\compat\\_optional.py:138\u001b[0m, in \u001b[0;36mimport_optional_dependency\u001b[1;34m(name, extra, errors, min_version)\u001b[0m\n\u001b[0;32m    136\u001b[0m \u001b[38;5;28;01mexcept\u001b[39;00m \u001b[38;5;167;01mImportError\u001b[39;00m:\n\u001b[0;32m    137\u001b[0m     \u001b[38;5;28;01mif\u001b[39;00m errors \u001b[38;5;241m==\u001b[39m \u001b[38;5;124m\"\u001b[39m\u001b[38;5;124mraise\u001b[39m\u001b[38;5;124m\"\u001b[39m:\n\u001b[1;32m--> 138\u001b[0m         \u001b[38;5;28;01mraise\u001b[39;00m \u001b[38;5;167;01mImportError\u001b[39;00m(msg)\n\u001b[0;32m    139\u001b[0m     \u001b[38;5;28;01mreturn\u001b[39;00m \u001b[38;5;28;01mNone\u001b[39;00m\n\u001b[0;32m    141\u001b[0m \u001b[38;5;66;03m# Handle submodules: if we have submodule, grab parent module from sys.modules\u001b[39;00m\n",
      "\u001b[1;31mImportError\u001b[0m: Missing optional dependency 'openpyxl'.  Use pip or conda to install openpyxl."
     ]
    }
   ],
   "source": [
    "# Pandas.read_csv(): Read data from csv file.\n",
    "import pandas as pd\n",
    "df_csv = pd.read_csv(\"info.csv\")\n",
    "print(df_csv)\n",
    "df_xls = pd.read_excel(\"info1.xlsx\")\n",
    "pd.read_\n",
    "print(df_xls)"
   ]
  },
  {
   "cell_type": "code",
   "execution_count": 29,
   "id": "9d1c679d-b4f3-4061-8c47-e5fcc89b443a",
   "metadata": {},
   "outputs": [
    {
     "name": "stdout",
     "output_type": "stream",
     "text": [
      "     name   age\n",
      "0     Ali    23\n",
      "1   Mamat    76\n",
      "2   Chong    23\n",
      "3  Ab Loi    33\n",
      "   No.    Name  Age   Weight\n",
      "0    1    Siti    45     135\n",
      "1    2    Sami    47     141\n",
      "2    3  Meenah    49      98\n",
      "3    4    John    51      51\n",
      "4    5    Bros    53      53\n"
     ]
    },
    {
     "data": {
      "text/plain": [
       "<Axes: >"
      ]
     },
     "execution_count": 29,
     "metadata": {},
     "output_type": "execute_result"
    },
    {
     "data": {
      "image/png": "[encoded data removed]",
      "text/plain": [
       "<Figure size 640x480 with 1 Axes>"
      ]
     },
     "metadata": {},
     "output_type": "display_data"
    }
   ],
   "source": [
    "# Pandas.read_csv(): Read data from csv file.\n",
    "import pandas as pd\n",
    "import matplotlib.pyplot as plt\n",
    "df_csv = pd.read_csv(\"info.csv\")\n",
    "print(df_csv)\n",
    "df_xls = pd.read_excel(\"info1.xlsx\")\n",
    "print(df_xls)\n",
    "df_xls.plot()"
   ]
  },
  {
   "cell_type": "code",
   "execution_count": 2,
   "id": "835ab842-c901-46e2-8591-acff05f1abd7",
   "metadata": {},
   "outputs": [],
   "source": [
    "# pandas.read_csv(): Read data from a CSV file.\n",
    "# df_csv = pd.read_csv('path_to_file.csv')\n",
    "# print(\"DataFrame from CSV:\\n\", df_csv)\n",
    "\n",
    "# pandas.read_excel(): Read data from an Excel file.\n",
    "# df_excel = pd.read_excel('path_to_file.xlsx')\n",
    "# print(\"DataFrame from Excel:\\n\", df_excel)"
   ]
  },
  {
   "cell_type": "code",
   "execution_count": 3,
   "id": "7f50b22e-6b26-44c8-bd65-cb125827b794",
   "metadata": {},
   "outputs": [
    {
     "name": "stdout",
     "output_type": "stream",
     "text": [
      "Series:\n",
      " a    1\n",
      "b    2\n",
      "c    3\n",
      "d    4\n",
      "dtype: int64\n"
     ]
    }
   ],
   "source": [
    "# pandas.Series(): Create Series, which are one-dimensional labeled arrays.\n",
    "series = pd.Series([1, 2, 3, 4], index=['a', 'b', 'c', 'd'])\n",
    "print(\"Series:\\n\", series)"
   ]
  },
  {
   "cell_type": "markdown",
   "id": "c93fd191-9fc5-4707-bf3c-769d6fef68ff",
   "metadata": {},
   "source": [
    "#### Section 1: Creating DataFrames"
   ]
  },
  {
   "cell_type": "markdown",
   "id": "b63e671b-4844-4b5c-887a-086a8cfd4954",
   "metadata": {
    "jp-MarkdownHeadingCollapsed": true
   },
   "source": [
    "Exercise 1.1: Create DataFrames\n",
    "1. Create a DataFrame from a list of lists.\n",
    "2. Create a DataFrame from a dictionary of lists, but with custom row indices.\n",
    "3. Create a DataFrame using pd.read_csv() from a CSV file (you can use any sample CSV file available).\n",
    "4. Create a DataFrame using pd.read_excel() from an Excel file (you can use any sample Excel file available).\n",
    "\n",
    "Exercise 1.2: Create Series\n",
    "1. Create a Series from a list of integers.\n",
    "2. Create a Series from a dictionary.\n",
    "3. Create a Series with a custom index and perform basic arithmetic operations on it."
   ]
  },
  {
   "cell_type": "code",
   "execution_count": 11,
   "id": "064f3e79-d2f6-4f67-9abb-093ed15d3bfe",
   "metadata": {
    "editable": true,
    "slideshow": {
     "slide_type": ""
    },
    "tags": []
   },
   "outputs": [
    {
     "name": "stdout",
     "output_type": "stream",
     "text": [
      "    Cars Country\n",
      "0  volvo      SW\n",
      "1  honda      JP\n",
      "2   ford      US\n",
      "    name  height\n",
      "0   Kate      56\n",
      "1   Mali      67\n",
      "2  Kinas     145\n",
      "     name   age\n",
      "0     Ali    23\n",
      "1   Mamat    76\n",
      "2   Chong    23\n",
      "3  Ab Loi    33\n",
      "   No.    Name  Age   Weight\n",
      "0    1    Siti    45     135\n",
      "1    2    Sami    47     141\n",
      "2    3  Meenah    49      98\n",
      "3    4    John    51      51\n",
      "4    5    Bros    53      53\n",
      "x      3\n",
      "y      4\n",
      "z      4\n",
      "zz    56\n",
      "dtype: int64\n"
     ]
    }
   ],
   "source": [
    "import pandas as pd\n",
    "# Exer 1.1 - 1\n",
    "cars = [[\"volvo\", \"SW\"], [\"honda\", \"JP\"], [\"ford\", \"US\"]]\n",
    "df = pd.DataFrame(cars, columns=['Cars', 'Country'])\n",
    "print(df)\n",
    "\n",
    "# Exer 1.1 - 2\n",
    "student = {\"name\" : [\"Kate\", \"Mali\", \"Kinas\"], \"height\" : [56, 67,145]}\n",
    "df = pd.DataFrame(student)\n",
    "print(df)\n",
    "\n",
    "# Exer 1.1 - 3\n",
    "data_csv = pd.read_csv(\"info.csv\")\n",
    "print(data_csv)\n",
    "\n",
    "# Exer 1.1 - 4\n",
    "data_excel = pd.read_excel(\"info1.xlsx\")\n",
    "print(data_excel)\n",
    "\n",
    "\n",
    "# exer 1.2 - 1\n",
    "int = [3, 4, 4, 56]\n",
    "series = pd.Series(int, index=['x', 'y', 'z', 'zz'])\n",
    "print(series)"
   ]
  },
  {
   "cell_type": "markdown",
   "id": "6730ca9b-e911-49c6-8ac1-788325532a48",
   "metadata": {},
   "source": [
    "### Section 2: DataFrame Operations\n",
    "Description: This section illustrates various operations that can be performed on Pandas DataFrames, including arithmetic operations, aggregation functions, and applying functions.\n",
    "\n",
    "DataFrame Operations:\n",
    "- Arithmetic operations: Addition, subtraction, multiplication, division.\n",
    "- Aggregation functions: sum(), mean(), std(), min(), max().\n",
    "- Applying functions: apply(), map(), applymap()."
   ]
  },
  {
   "cell_type": "code",
   "execution_count": 5,
   "id": "226a6c50-994b-4b79-9d99-73e191689602",
   "metadata": {},
   "outputs": [
    {
     "name": "stdout",
     "output_type": "stream",
     "text": [
      "DataFrame after addition:\n",
      "    A  B  C\n",
      "0  1  4  5\n",
      "1  2  5  7\n",
      "2  3  6  9\n"
     ]
    }
   ],
   "source": [
    "import pandas as pd\n",
    "\n",
    "df = pd.DataFrame({'A': [1, 2, 3], 'B': [4, 5, 6]})\n",
    "\n",
    "# Arithmetic operations: Addition, subtraction, multiplication, division.\n",
    "df['C'] = df['A'] + df['B']\n",
    "print(\"DataFrame after addition:\\n\", df)"
   ]
  },
  {
   "cell_type": "code",
   "execution_count": 6,
   "id": "4751546f-dcb9-468d-a887-7522438a21f0",
   "metadata": {},
   "outputs": [
    {
     "name": "stdout",
     "output_type": "stream",
     "text": [
      "Sum value: 6\n",
      "Mean value: 2.0\n",
      "Max value: 3\n"
     ]
    }
   ],
   "source": [
    "# Aggregation functions: sum(), mean(), std(), min(), max().\n",
    "sum_value = df['A'].sum()\n",
    "mean_value = df['A'].mean()\n",
    "max_value = df['A'].max()\n",
    "print(\"Sum value:\", sum_value)\n",
    "print(\"Mean value:\", mean_value)\n",
    "print(\"Max value:\", max_value)"
   ]
  },
  {
   "cell_type": "code",
   "execution_count": 7,
   "id": "7dcfde6f-48a1-4a04-81a2-cf8d8180b5df",
   "metadata": {},
   "outputs": [
    {
     "name": "stdout",
     "output_type": "stream",
     "text": [
      "DataFrame after applying function:\n",
      "    A  B  C  D\n",
      "0  1  4  5  1\n",
      "1  2  5  7  4\n",
      "2  3  6  9  9\n"
     ]
    }
   ],
   "source": [
    "# Applying functions: apply(), map(), applymap().\n",
    "df['D'] = df['A'].apply(lambda x: x ** 2)\n",
    "print(\"DataFrame after applying function:\\n\", df)"
   ]
  },
  {
   "cell_type": "markdown",
   "id": "48840a35-0299-4d0b-8d15-a50f2b579f2c",
   "metadata": {},
   "source": [
    "#### Section 2: DataFrame Operations"
   ]
  },
  {
   "cell_type": "markdown",
   "id": "0e0fdb51-e0b5-4cdb-bc24-8ae32a7c9a0e",
   "metadata": {},
   "source": [
    "Exercise 2.1: Arithmetic Operations\n",
    "1. Perform element-wise addition and subtraction on two DataFrames of the same shape.\n",
    "2. Perform element-wise multiplication and division on a DataFrame and a Series.\n",
    "\n",
    "Exercise 2.2: Aggregation Functions\n",
    "1. Use sum(), mean(), std(), min(), and max() on a DataFrame column.\n",
    "2. Use describe() to get a summary of statistics for a DataFrame."
   ]
  },
  {
   "cell_type": "code",
   "execution_count": 26,
   "id": "35eedf4f-4585-476d-9413-0f8c8c4abe74",
   "metadata": {},
   "outputs": [
    {
     "name": "stdout",
     "output_type": "stream",
     "text": [
      "0    16\n",
      "1    23\n",
      "2    11\n",
      "dtype: int64\n",
      "0   -10\n",
      "1   -19\n",
      "2     1\n",
      "dtype: int64\n",
      "0    39\n",
      "1    42\n",
      "2    30\n",
      "dtype: int64\n",
      "0    0.230769\n",
      "1    0.095238\n",
      "2    1.200000\n",
      "dtype: float64\n",
      "11\n",
      "    X   Y\n",
      "0  13  13\n",
      "1  21  11\n",
      "2   3   5\n",
      "SUM:\n",
      "  X    11\n",
      "Y    39\n",
      "dtype: int64\n",
      "X    12.333333\n",
      "Y     9.666667\n",
      "dtype: float64\n"
     ]
    }
   ],
   "source": [
    "import pandas as pd\n",
    "# Exer 2.1 - 1:2\n",
    "df1 = pd.DataFrame({\"X\": [3, 2, 6], \"Y\": [13, 21, 5]})\n",
    "df2 = pd.DataFrame({\"X\": [13, 21, 3], \"Y\": [13, 11, 5]})\n",
    "df3_plus = df1[\"X\"] + df1[\"Y\"]\n",
    "df3_minus = df1[\"X\"] - df1[\"Y\"]\n",
    "df3_mul = df1[\"X\"] * df1[\"Y\"]\n",
    "df3_div = df1[\"X\"] / df1[\"Y\"]\n",
    "print(df3_plus)\n",
    "print(df3_minus)\n",
    "print(df3_mul)\n",
    "print(df3_div)\n",
    "sum_df1 = df1[\"X\"].sum()\n",
    "print(sum_df1)\n",
    "\n",
    "# Exer 2.2 - 1\n",
    "print(df2)\n",
    "sum = df1.sum()\n",
    "print(\"SUM:\\n \", sum)\n",
    "mean = df2.mean()\n",
    "print(mean)"
   ]
  },
  {
   "cell_type": "markdown",
   "id": "5c43cf41-a873-4c29-926a-0d47dcd4971d",
   "metadata": {
    "editable": true,
    "slideshow": {
     "slide_type": ""
    },
    "tags": []
   },
   "source": [
    "### Section 3: Indexing and Selecting Data\n",
    "Description: This section covers how to access and modify data within Pandas DataFrames using indexing and selecting techniques.\n",
    "\n",
    "Indexing and Selecting Data:\n",
    "- Accessing columns and rows.\n",
    "- Boolean indexing.\n",
    "- Using loc[] and iloc[]."
   ]
  },
  {
   "cell_type": "code",
   "execution_count": 9,
   "id": "f3f902d4-afee-4d9f-9c4f-bcd54f988d97",
   "metadata": {},
   "outputs": [
    {
     "name": "stdout",
     "output_type": "stream",
     "text": [
      "Column A:\n",
      " 0    1\n",
      "1    2\n",
      "2    3\n",
      "Name: A, dtype: int64\n",
      "Row 0:\n",
      " A    1\n",
      "B    4\n",
      "Name: 0, dtype: int64\n"
     ]
    }
   ],
   "source": [
    "import pandas as pd\n",
    "\n",
    "df = pd.DataFrame({'A': [1, 2, 3], 'B': [4, 5, 6]})\n",
    "\n",
    "# Accessing columns and rows.\n",
    "column_a = df['A']\n",
    "row_0 = df.iloc[0]\n",
    "print(\"Column A:\\n\", column_a)\n",
    "print(\"Row 0:\\n\", row_0)"
   ]
  },
  {
   "cell_type": "code",
   "execution_count": 10,
   "id": "56a5b84f-e0e7-48b9-9d9b-fbc47a0e9ad0",
   "metadata": {},
   "outputs": [
    {
     "name": "stdout",
     "output_type": "stream",
     "text": [
      "Filtered DataFrame:\n",
      "    A  B\n",
      "1  2  5\n",
      "2  3  6\n"
     ]
    }
   ],
   "source": [
    "# Boolean indexing.\n",
    "filtered_df = df[df['A'] > 1]\n",
    "print(\"Filtered DataFrame:\\n\", filtered_df)"
   ]
  },
  {
   "cell_type": "code",
   "execution_count": 11,
   "id": "482b3eba-9b92-46dd-b575-3fdd94678a61",
   "metadata": {},
   "outputs": [
    {
     "name": "stdout",
     "output_type": "stream",
     "text": [
      "loc selection:\n",
      " 0    1\n",
      "1    2\n",
      "Name: A, dtype: int64\n",
      "iloc selection:\n",
      " 0    1\n",
      "1    2\n",
      "Name: A, dtype: int64\n"
     ]
    }
   ],
   "source": [
    "# Using loc[] and iloc[].\n",
    "loc_selection = df.loc[0:1, 'A']\n",
    "iloc_selection = df.iloc[0:2, 0]\n",
    "print(\"loc selection:\\n\", loc_selection)\n",
    "print(\"iloc selection:\\n\", iloc_selection)"
   ]
  },
  {
   "cell_type": "markdown",
   "id": "aaff7515-8674-42af-9f4b-15b922beaf8d",
   "metadata": {},
   "source": [
    "#### Section 3: Indexing and Selecting Data"
   ]
  },
  {
   "cell_type": "markdown",
   "id": "7cbea43a-ef28-4b4b-9d9c-125af662f05b",
   "metadata": {},
   "source": [
    "Exercise 3.1: Selecting Data\n",
    "1. Select a specific column from a DataFrame.\n",
    "2. Select multiple columns from a DataFrame.\n",
    "3. Select a specific row using iloc and loc.\n",
    "\n",
    "Exercise 3.2: Filtering Data\n",
    "1. Filter a DataFrame based on a condition on one of its columns.\n",
    "2. Filter a DataFrame based on multiple conditions.\n",
    "\n",
    "Exercise 3.3: Setting Index\n",
    "1. Set a column as the index of a DataFrame.\n",
    "2. Reset the index of a DataFrame."
   ]
  },
  {
   "cell_type": "code",
   "execution_count": 35,
   "id": "b9b4563a-091c-45e2-814d-7ad75e7c384e",
   "metadata": {},
   "outputs": [
    {
     "name": "stdout",
     "output_type": "stream",
     "text": [
      "   A  B  C\n",
      "0  1  4  7\n",
      "1  2  5  8\n",
      "2  3  6  9\n",
      "A    3\n",
      "B    6\n",
      "C    9\n",
      "Name: 2, dtype: int64\n",
      "A    3\n",
      "B    6\n",
      "C    9\n",
      "Name: 2, dtype: int64\n"
     ]
    }
   ],
   "source": [
    "# Use []\n",
    "import pandas as pd\n",
    "\n",
    "df = pd.DataFrame({'A': [1, 2, 3], 'B': [4, 5, 6], 'C': [7, 8, 9]})\n",
    "print(df)\n",
    "\n",
    "row2 = df.loc[2]\n",
    "print(row2)\n",
    "row2 = df.iloc[2]\n",
    "print(row2)"
   ]
  },
  {
   "cell_type": "code",
   "execution_count": 40,
   "id": "c95feeeb-5698-485e-b173-bed4e24b2ded",
   "metadata": {},
   "outputs": [
    {
     "name": "stdout",
     "output_type": "stream",
     "text": [
      "   A  B  C\n",
      "1  2  5  8\n",
      "2  3  6  9\n",
      "   A  B  C\n",
      "1  2  5  8\n"
     ]
    }
   ],
   "source": [
    "# Exer 3.2\n",
    "import pandas as pd\n",
    "\n",
    "df = pd.DataFrame({'A': [1, 2, 3], 'B': [4, 5, 6], 'C': [7, 8, 9]})\n",
    "B_larger_4 = df[df['B'] > 4]\n",
    "print(B_larger_4)\n",
    "\n",
    "multi_filter = df[(df['B'] > 4) & (df['B'] < 6)]\n",
    "print(multi_filter)"
   ]
  },
  {
   "cell_type": "markdown",
   "id": "ddbfaa75-5856-4538-a820-6cbfe899fcfd",
   "metadata": {},
   "source": [
    "### Section 4: Data Manipulation\n",
    "Description: This section demonstrates how to manipulate data within Pandas DataFrames, including adding, deleting, and updating columns and rows.\n",
    "\n",
    "Data Manipulation:\n",
    "- Adding columns and rows.\n",
    "- Deleting columns and rows.\n",
    "- Updating values."
   ]
  },
  {
   "cell_type": "code",
   "execution_count": 12,
   "id": "2ff3f460-56d4-4972-b72c-ee5b0deca8e4",
   "metadata": {},
   "outputs": [
    {
     "name": "stdout",
     "output_type": "stream",
     "text": [
      "DataFrame after adding column and row:\n",
      "    A  B   C\n",
      "0  1  4   7\n",
      "1  2  5   8\n",
      "2  3  6   9\n",
      "3  4  7  10\n"
     ]
    }
   ],
   "source": [
    "import pandas as pd\n",
    "\n",
    "df = pd.DataFrame({'A': [1, 2, 3], 'B': [4, 5, 6]})\n",
    "\n",
    "# Adding columns and rows.\n",
    "df['C'] = [7, 8, 9]\n",
    "new_row = pd.DataFrame({'A': [4], 'B': [7], 'C': [10]})\n",
    "df = pd.concat([df, new_row], ignore_index=True)\n",
    "print(\"DataFrame after adding column and row:\\n\", df)"
   ]
  },
  {
   "cell_type": "code",
   "execution_count": 13,
   "id": "bf79c49c-88c0-4be0-ab77-fd51789e40ad",
   "metadata": {},
   "outputs": [
    {
     "name": "stdout",
     "output_type": "stream",
     "text": [
      "DataFrame after deleting column and row:\n",
      "    A  B\n",
      "1  2  5\n",
      "2  3  6\n",
      "3  4  7\n"
     ]
    }
   ],
   "source": [
    "# Deleting columns and rows.\n",
    "df = df.drop('C', axis=1)\n",
    "df = df.drop(0, axis=0)\n",
    "print(\"DataFrame after deleting column and row:\\n\", df)"
   ]
  },
  {
   "cell_type": "code",
   "execution_count": 14,
   "id": "e770e035-db13-4ed0-bbb7-fa02999adb09",
   "metadata": {},
   "outputs": [
    {
     "name": "stdout",
     "output_type": "stream",
     "text": [
      "DataFrame after updating value:\n",
      "     A  B\n",
      "1  10  5\n",
      "2   3  6\n",
      "3   4  7\n"
     ]
    }
   ],
   "source": [
    "# Updating values.\n",
    "df.loc[1, 'A'] = 10\n",
    "print(\"DataFrame after updating value:\\n\", df)"
   ]
  },
  {
   "cell_type": "markdown",
   "id": "979a4a9a-2cd8-49c0-b194-0e515cc963a5",
   "metadata": {},
   "source": [
    "#### Section 4: Merging and Joining"
   ]
  },
  {
   "cell_type": "markdown",
   "id": "f304b40d-0076-4235-a355-dc500e8b5c96",
   "metadata": {},
   "source": [
    "Exercise 4.1: Concatenation\n",
    "1. Concatenate two DataFrames along rows.\n",
    "2. Concatenate two DataFrames along columns.\n",
    "    \n",
    "Exercise 4.2: Merging\n",
    "1. Perform an inner merge on two DataFrames.\n",
    "2. Perform a left merge on two DataFrames.\n",
    "3. Perform a right merge on two DataFrames.\n",
    "4. Perform an outer merge on two DataFrames."
   ]
  },
  {
   "cell_type": "markdown",
   "id": "95d56c3c-8dec-46ee-81e4-23473da3ce03",
   "metadata": {},
   "source": [
    "### Section 5: Statistical Functions\n",
    "Description: This section introduces various statistical functions provided by Pandas, including descriptive statistics and correlation.\n",
    "\n",
    "Statistical Functions:\n",
    "- Descriptive statistics: describe(), mean(), median(), std().\n",
    "- Correlation: corr()."
   ]
  },
  {
   "cell_type": "code",
   "execution_count": 15,
   "id": "fc96ed08-df38-4ac1-a91d-8e3638198381",
   "metadata": {},
   "outputs": [
    {
     "name": "stdout",
     "output_type": "stream",
     "text": [
      "Descriptive statistics:\n",
      "               A         B\n",
      "count  4.000000  4.000000\n",
      "mean   2.500000  5.500000\n",
      "std    1.290994  1.290994\n",
      "min    1.000000  4.000000\n",
      "25%    1.750000  4.750000\n",
      "50%    2.500000  5.500000\n",
      "75%    3.250000  6.250000\n",
      "max    4.000000  7.000000\n",
      "Mean value: 2.5\n",
      "Median value: 2.5\n",
      "Standard deviation: 1.2909944487358056\n"
     ]
    }
   ],
   "source": [
    "df = pd.DataFrame({'A': [1, 2, 3, 4], 'B': [4, 5, 6, 7]})\n",
    "\n",
    "# Descriptive statistics: describe(), mean(), median(), std().\n",
    "desc_stats = df.describe()\n",
    "mean_value = df['A'].mean()\n",
    "median_value = df['A'].median()\n",
    "std_value = df['A'].std()\n",
    "print(\"Descriptive statistics:\\n\", desc_stats)\n",
    "print(\"Mean value:\", mean_value)\n",
    "print(\"Median value:\", median_value)\n",
    "print(\"Standard deviation:\", std_value)"
   ]
  },
  {
   "cell_type": "code",
   "execution_count": 16,
   "id": "8305b55c-41a8-42b1-b647-0324d87f15e1",
   "metadata": {},
   "outputs": [
    {
     "name": "stdout",
     "output_type": "stream",
     "text": [
      "Correlation matrix:\n",
      "      A    B\n",
      "A  1.0  1.0\n",
      "B  1.0  1.0\n"
     ]
    }
   ],
   "source": [
    "# Correlation: corr().\n",
    "correlation = df.corr()\n",
    "print(\"Correlation matrix:\\n\", correlation)"
   ]
  },
  {
   "cell_type": "markdown",
   "id": "a194baaf-ed02-4c85-8977-03b05d0644a0",
   "metadata": {
    "jp-MarkdownHeadingCollapsed": true
   },
   "source": [
    "#### Section 5: Handling Missing Data"
   ]
  },
  {
   "cell_type": "markdown",
   "id": "f82a39e0-d309-42e3-a8a9-50b015d69143",
   "metadata": {
    "jp-MarkdownHeadingCollapsed": true
   },
   "source": [
    "Exercise 5.1: Detecting Missing Data\n",
    "1. Detect missing values in a DataFrame.\n",
    "\n",
    "Exercise 5.2: Handling Missing Data\n",
    "1. Fill missing values with a specified value.\n",
    "2. Drop rows with any missing values.\n",
    "3. Drop rows with all missing values.\n",
    "4. Drop columns with any missing values."
   ]
  },
  {
   "cell_type": "markdown",
   "id": "e9b96b72-42d9-45d3-9fa4-7216c1f0dc9d",
   "metadata": {},
   "source": [
    "### Section 6: Basic Data Exploration\n",
    "Description: This section illustrates basic data exploration techniques, including viewing the first few rows, the last few rows, and summary statistics.\n",
    "\n",
    "Basic Data Exploration:\n",
    "- head(): View the first few rows of the DataFrame.\n",
    "- tail(): View the last few rows of the DataFrame.\n",
    "- describe(): Get summary statistics of the DataFrame."
   ]
  },
  {
   "cell_type": "code",
   "execution_count": 17,
   "id": "b6213527-3cb4-48c9-91b8-1f7dee166152",
   "metadata": {},
   "outputs": [
    {
     "name": "stdout",
     "output_type": "stream",
     "text": [
      "First few rows:\n",
      "       Name  Age  Salary\n",
      "0    Alice   25   50000\n",
      "1      Bob   30   60000\n",
      "2  Charlie   35   70000\n",
      "3    David   40   80000\n",
      "4      Eva   45   90000\n"
     ]
    }
   ],
   "source": [
    "import pandas as pd\n",
    "\n",
    "# Sample DataFrame for exploration\n",
    "data_dict = {'Name': ['Alice', 'Bob', 'Charlie', 'David', 'Eva'],\n",
    "             'Age': [25, 30, 35, 40, 45],\n",
    "             'Salary': [50000, 60000, 70000, 80000, 90000]}\n",
    "df = pd.DataFrame(data_dict)\n",
    "\n",
    "# Viewing the first few rows\n",
    "print(\"First few rows:\\n\", df.head())"
   ]
  },
  {
   "cell_type": "code",
   "execution_count": 18,
   "id": "a6b41def-6a98-434a-b1c5-ab81ec6d0466",
   "metadata": {},
   "outputs": [
    {
     "name": "stdout",
     "output_type": "stream",
     "text": [
      "Last few rows:\n",
      "       Name  Age  Salary\n",
      "0    Alice   25   50000\n",
      "1      Bob   30   60000\n",
      "2  Charlie   35   70000\n",
      "3    David   40   80000\n",
      "4      Eva   45   90000\n"
     ]
    }
   ],
   "source": [
    "# Viewing the last few rows\n",
    "print(\"Last few rows:\\n\", df.tail())"
   ]
  },
  {
   "cell_type": "code",
   "execution_count": 19,
   "id": "23c671bd-29fb-481d-865f-9fc949636015",
   "metadata": {},
   "outputs": [
    {
     "name": "stdout",
     "output_type": "stream",
     "text": [
      "Summary statistics:\n",
      "              Age        Salary\n",
      "count   5.000000      5.000000\n",
      "mean   35.000000  70000.000000\n",
      "std     7.905694  15811.388301\n",
      "min    25.000000  50000.000000\n",
      "25%    30.000000  60000.000000\n",
      "50%    35.000000  70000.000000\n",
      "75%    40.000000  80000.000000\n",
      "max    45.000000  90000.000000\n"
     ]
    }
   ],
   "source": [
    "# Getting summary statistics\n",
    "print(\"Summary statistics:\\n\", df.describe())"
   ]
  },
  {
   "cell_type": "markdown",
   "id": "0e0f8202-d736-4b76-a8ed-aa8401face1e",
   "metadata": {
    "jp-MarkdownHeadingCollapsed": true
   },
   "source": [
    "#### Section 6: Grouping and Aggregating"
   ]
  },
  {
   "cell_type": "markdown",
   "id": "3b882257-363b-4d5c-9f94-841fe6319ff7",
   "metadata": {},
   "source": [
    "Exercise 6.1: Grouping Data\n",
    "1. Group a DataFrame by a column and calculate the mean of each group.\n",
    "\n",
    "Exercise 6.2: Aggregating Data\n",
    "1. Use different aggregation functions (sum, count, min, max) on groups.\n",
    "\n",
    "Exercise 6.3: Applying Custom Functions\n",
    "1. Apply a custom aggregation function to groups."
   ]
  },
  {
   "cell_type": "markdown",
   "id": "449e31a3-0f76-48a3-a769-d39759caf3dd",
   "metadata": {},
   "source": [
    "### Section 7: Handling Missing Values\n",
    "Description: This section demonstrates how to handle missing values in Pandas DataFrames.\n",
    "\n",
    "Handling Missing Values:\n",
    "- isna(): Detect missing values.\n",
    "- fillna(): Fill missing values with a specified value.\n",
    "- dropna(): Remove rows or columns with missing values."
   ]
  },
  {
   "cell_type": "code",
   "execution_count": 20,
   "id": "23a68c9e-314c-4fd5-a605-3f65cb81dcd4",
   "metadata": {},
   "outputs": [
    {
     "name": "stdout",
     "output_type": "stream",
     "text": [
      "Missing values:\n",
      "     Name    Age  Salary\n",
      "0  False  False   False\n",
      "1  False   True   False\n",
      "2  False  False    True\n",
      "3  False  False   False\n",
      "4  False   True   False\n"
     ]
    }
   ],
   "source": [
    "import pandas as pd\n",
    "import numpy as np\n",
    "\n",
    "# Sample DataFrame with missing values\n",
    "data_dict = {'Name': ['Alice', 'Bob', 'Charlie', 'David', 'Eva'],\n",
    "             'Age': [25, np.nan, 35, 40, np.nan],\n",
    "             'Salary': [50000, 60000, np.nan, 80000, 90000]}\n",
    "df = pd.DataFrame(data_dict)\n",
    "\n",
    "# Detecting missing values\n",
    "print(\"Missing values:\\n\", df.isna())"
   ]
  },
  {
   "cell_type": "code",
   "execution_count": 21,
   "id": "3ec582cb-9961-4940-ba38-957f50b7044a",
   "metadata": {},
   "outputs": [
    {
     "name": "stdout",
     "output_type": "stream",
     "text": [
      "DataFrame after filling missing values:\n",
      "       Name        Age   Salary\n",
      "0    Alice  25.000000  50000.0\n",
      "1      Bob  33.333333  60000.0\n",
      "2  Charlie  35.000000      0.0\n",
      "3    David  40.000000  80000.0\n",
      "4      Eva  33.333333  90000.0\n"
     ]
    }
   ],
   "source": [
    "# Filling missing values\n",
    "df_filled = df.fillna({'Age': df['Age'].mean(), 'Salary': 0})\n",
    "print(\"DataFrame after filling missing values:\\n\", df_filled)"
   ]
  },
  {
   "cell_type": "code",
   "execution_count": 22,
   "id": "65700ef3-5256-4aed-b794-184f94efed4f",
   "metadata": {},
   "outputs": [
    {
     "name": "stdout",
     "output_type": "stream",
     "text": [
      "DataFrame after dropping rows with missing values:\n",
      "     Name   Age   Salary\n",
      "0  Alice  25.0  50000.0\n",
      "3  David  40.0  80000.0\n"
     ]
    }
   ],
   "source": [
    "# Dropping rows with missing values\n",
    "df_dropped = df.dropna()\n",
    "print(\"DataFrame after dropping rows with missing values:\\n\", df_dropped)"
   ]
  },
  {
   "cell_type": "markdown",
   "id": "40836ef7-5fad-43ba-86fc-6d14203624f0",
   "metadata": {},
   "source": [
    "#### Section 7: Time Series Analysis"
   ]
  },
  {
   "cell_type": "markdown",
   "id": "a0a2bb52-6b1f-4d29-b67c-3e2cc8e3f05f",
   "metadata": {},
   "source": [
    "Exercise 7.1: Creating Time Series Data\n",
    "1. Create a time series DataFrame with a date range index.\n",
    "\n",
    "Exercise 7.2: Resampling Time Series Data\n",
    "1. Resample the time series data to a different frequency (e.g., daily to monthly).\n",
    "\n",
    "Exercise 7.3: Rolling and Expanding Windows\n",
    "1. Calculate the rolling mean of a time series data.\n",
    "2. Calculate the expanding mean of a time series data."
   ]
  },
  {
   "cell_type": "code",
   "execution_count": 45,
   "id": "ee2bfa4e-072e-4fad-a44e-35e539e6488c",
   "metadata": {},
   "outputs": [
    {
     "name": "stdout",
     "output_type": "stream",
     "text": [
      "49    a\n",
      "48    b\n",
      "47    c\n",
      "0     d\n",
      "1     e\n",
      "2     f\n",
      "dtype: object\n",
      "f\n",
      "c\n"
     ]
    }
   ],
   "source": [
    "import pandas as pd\n",
    "s = pd.Series(list(\"abcdef\"), index=[49, 48, 47, 0, 1, 2]) \n",
    "print(s)\n",
    "print(s.loc[2])\n",
    "print(s.iloc[2])"
   ]
  },
  {
   "cell_type": "code",
   "execution_count": 54,
   "id": "27beb794-1cd8-4fd4-97b1-6c4f77cb99da",
   "metadata": {},
   "outputs": [
    {
     "name": "stdout",
     "output_type": "stream",
     "text": [
      "     names  cities  ages\n",
      "1     John  London    24\n",
      "2  Micheal   Paris    54\n",
      "3    Sarah  Moscow    33\n",
      "2nd row: \n",
      " names     Micheal\n",
      "cities      Paris\n",
      "ages           54\n",
      "Name: 2, dtype: object\n",
      "3rd row: \n",
      " names      Sarah\n",
      "cities    Moscow\n",
      "ages          33\n",
      "Name: 3, dtype: object\n"
     ]
    }
   ],
   "source": [
    "# Ex: Create a df with 3 names, 3 cities and 3 ages, index 1,2,3\n",
    "info = pd.DataFrame({\n",
    "    \"names\" : [\"John\", \"Micheal\", \"Sarah\"],\n",
    "    \"cities\": [\"London\", \"Paris\", \"Moscow\"],\n",
    "    \"ages\": [24, 54, 33]\n",
    "}, index=[1,2,3])\n",
    "print(info)\n",
    "# 1st row\n",
    "print(\"2nd row: \\n\", info.loc[2])\n",
    "print(\"3rd row: \\n\", info.iloc[2])"
   ]
  },
  {
   "cell_type": "code",
   "execution_count": 59,
   "id": "157ea0d2-0795-4d54-8f54-c32fee958f15",
   "metadata": {},
   "outputs": [
    {
     "name": "stdout",
     "output_type": "stream",
     "text": [
      "Selected Jupyter core packages...\n",
      "IPython          : 8.25.0\n",
      "ipykernel        : 6.28.0\n",
      "ipywidgets       : not installed\n",
      "jupyter_client   : 8.6.0\n",
      "jupyter_core     : 5.7.2\n",
      "jupyter_server   : 2.14.1\n",
      "jupyterlab       : 4.2.3\n",
      "nbclient         : 0.8.0\n",
      "nbconvert        : 7.10.0\n",
      "nbformat         : 5.9.2\n",
      "notebook         : 7.0.8\n",
      "qtconsole        : not installed\n",
      "traitlets        : 5.14.3\n"
     ]
    }
   ],
   "source": [
    "!jupyter --version"
   ]
  },
  {
   "cell_type": "code",
   "execution_count": 72,
   "id": "776b5057-e40e-4488-8ae2-6fb7de802dd9",
   "metadata": {},
   "outputs": [
    {
     "name": "stdout",
     "output_type": "stream",
     "text": [
      "   grades gender\n",
      "0       3      M\n",
      "1       4      M\n",
      "2       6      F\n"
     ]
    }
   ],
   "source": [
    "# Slicing rows and coluns by indices using iloc()\n",
    "# create a df containing 5 studnes, 5 grades, 5 gender\n",
    "import pandas as pd\n",
    "students = pd.DataFrame({\n",
    "    \"students\": ['Joe', 'Mike', 'Sarah', 'Jenifer', 'Ana'],\n",
    "    \"grades\": [3, 4, 6, 5, 2],\n",
    "    \"gender\": [\"M\", \"M\", \"F\", \"F\", \"F\"]\n",
    "})\n",
    "# first 2 rows and first 2 columns\n",
    "selected = students.iloc[0:3, [1,2]]\n",
    "print(selected)"
   ]
  },
  {
   "cell_type": "code",
   "execution_count": 113,
   "id": "7e71fbc5-c3ac-48f6-b2f5-58ea4720c58c",
   "metadata": {},
   "outputs": [
    {
     "name": "stdout",
     "output_type": "stream",
     "text": [
      "    cars prices\n",
      "0  Honda   140K\n",
      "1    BMW   230K\n",
      "2    BYD   180K\n",
      "    cars prices Origin\n",
      "0  Honda   140K     JP\n",
      "1    BMW   230K     DE\n",
      "2    BYD   180K     CN\n",
      "    cars prices Origin\n",
      "0  Honda   140K     JP\n",
      "1    BMW   230K     DE\n",
      "2    BYD   180K     CN\n",
      "3   Ford   110K     US\n"
     ]
    }
   ],
   "source": [
    "# Cretea a df for 3 cars and 3 car prices\n",
    "df = pd.DataFrame({\n",
    "    \"cars\": [\"Honda\", \"BMW\", \"BYD\"],\n",
    "    \"prices\": [\"140K\", \"230K\", \"180K\"]\n",
    "})\n",
    "print(df)\n",
    "# Add new column\n",
    "df['Origin'] = [\"JP\", \"DE\", \"CN\"]\n",
    "print(df)\n",
    "# Add new row\n",
    "df.loc[len(df)] = [\"Ford\", \"110K\", \"US\"]\n",
    "print(df)"
   ]
  },
  {
   "cell_type": "code",
   "execution_count": 114,
   "id": "6bba6170-c79e-43f3-be35-18a3044e2630",
   "metadata": {},
   "outputs": [
    {
     "name": "stdout",
     "output_type": "stream",
     "text": [
      "    cars prices\n",
      "0  Honda   140K\n",
      "1    BMW   230K\n",
      "2    BYD   180K\n",
      "3   Ford   110K\n"
     ]
    }
   ],
   "source": [
    "# Delete column origin\n",
    "df = df.drop('Origin', axis=1)\n",
    "print(df)"
   ]
  },
  {
   "cell_type": "code",
   "execution_count": 115,
   "id": "accc0e9c-ee0f-474b-a306-0784d6c52809",
   "metadata": {},
   "outputs": [
    {
     "name": "stdout",
     "output_type": "stream",
     "text": [
      "    cars prices\n",
      "0  Honda   140K\n",
      "1    BMW   230K\n",
      "3   Ford   110K\n"
     ]
    }
   ],
   "source": [
    "# Delete row BYD\n",
    "df = df.drop(2) # just tell the index\n",
    "print(df)"
   ]
  },
  {
   "cell_type": "code",
   "execution_count": 109,
   "id": "f0e55d19-5f7d-40a0-863d-73ca3b739aeb",
   "metadata": {},
   "outputs": [
    {
     "name": "stdout",
     "output_type": "stream",
     "text": [
      "cars      Honda\n",
      "prices     140K\n",
      "Name: 0, dtype: object\n"
     ]
    }
   ],
   "source": [
    "print(df.loc[0])"
   ]
  },
  {
   "cell_type": "code",
   "execution_count": 117,
   "id": "c7f4fb8c-e89e-41d4-b72f-7189438c09a3",
   "metadata": {},
   "outputs": [
    {
     "name": "stdout",
     "output_type": "stream",
     "text": [
      "    cars prices\n",
      "0  Honda   176K\n",
      "1    BMW   230K\n",
      "3   Ford   110K\n"
     ]
    }
   ],
   "source": [
    "df.loc[0] = {\"cars\": \"Honda\", \"prices\": \"176K\"}\n",
    "print(df)"
   ]
  },
  {
   "cell_type": "code",
   "execution_count": 122,
   "id": "569daf21-8427-40e1-a40d-3c84feda1c5d",
   "metadata": {},
   "outputs": [
    {
     "name": "stdout",
     "output_type": "stream",
     "text": [
      "       Name  Weight(Kg)  Height(cm)\n",
      "0      Alex          67         167\n",
      "1      Ryan          56         156\n",
      "2     Moris          87         187\n",
      "3      Zara          98         198\n",
      "4       Mac          33         133\n",
      "5       Zul          77         177\n",
      "6    Ronald          54         154\n",
      "7  Vladimir          90         190\n",
      "8      Mike          49         150\n",
      "9       Jen         130         155\n"
     ]
    }
   ],
   "source": [
    "# Creaeta a datafrome for 8 kids, col:nane, weights(kg), heights(cm)\n",
    "df = pd.DataFrame({\n",
    "    'Name': ['Alex', 'Ryan', 'Moris', 'Zara', 'Mac', 'Zul', 'Ronald', 'Vladimir', \"Mike\", \"Jen\"],\n",
    "    'Weight(Kg)': [67, 56, 87, 98, 33, 77, 54, 90, 49, 130],\n",
    "    'Height(cm)': [167, 156, 187, 198, 133, 177, 154, 190, 150, 155]\n",
    "})\n",
    "print(df)"
   ]
  },
  {
   "cell_type": "code",
   "execution_count": 136,
   "id": "01ccde4f-400b-4ec9-99d2-f9cd6eb9ff4e",
   "metadata": {},
   "outputs": [
    {
     "name": "stdout",
     "output_type": "stream",
     "text": [
      "Weight mean: 74.1\n",
      "Height media: 161.5\n",
      "Std of Height: 20.73135038749017\n"
     ]
    }
   ],
   "source": [
    "# find mean of weights\n",
    "weight_mean = df['Weight(Kg)'].mean()\n",
    "height_median = df['Height(cm)'].median()\n",
    "print(\"Weight mean:\", weight_mean)\n",
    "print(\"Height media:\", height_median)\n",
    "print(\"Std of Height:\", df[\"Height(cm)\"].std())"
   ]
  },
  {
   "cell_type": "code",
   "execution_count": 138,
   "id": "a3e039ac-081a-4e03-bdd1-92f700a87a1a",
   "metadata": {},
   "outputs": [
    {
     "name": "stdout",
     "output_type": "stream",
     "text": [
      "   temps  sales\n",
      "0    100    200\n",
      "1     80    150\n",
      "2     85    160\n",
      "3     90    180\n",
      "4    120    150\n",
      "5    150    300\n",
      "6    145    280\n",
      "7    110    220\n",
      "8     60    130\n",
      "9     90    170\n"
     ]
    }
   ],
   "source": [
    "# Create a df with the following info:\n",
    "# temperature: [100,80,85,90,120,150,145,110,60,90]\n",
    "# cold drink sales = [200,150,160,180,150,300,280,220,130,170]\n",
    "df = pd.DataFrame({\n",
    "    \"temps\": [100,80,85,90,120,150,145,110,60,90],\n",
    "    \"sales\": [200,150,160,180,150,300,280,220,130,170]\n",
    "})\n",
    "print(df)"
   ]
  },
  {
   "cell_type": "code",
   "execution_count": 141,
   "id": "889930c7-db8d-4399-9dc4-5aa0cda0c978",
   "metadata": {},
   "outputs": [
    {
     "name": "stdout",
     "output_type": "stream",
     "text": [
      "   Student  Grade  Weight\n",
      "0    False  False   False\n",
      "1    False   True   False\n",
      "2    False  False   False\n",
      "3    False   True    True\n",
      "4    False   True    True\n",
      "   Student  Grade  Weight\n",
      "0    False  False   False\n",
      "1    False   True   False\n",
      "2    False  False   False\n",
      "3    False   True    True\n",
      "4    False   True    True\n"
     ]
    }
   ],
   "source": [
    "df = pd.DataFrame({\n",
    "    \"Student\": [False, False, False, False, False],\n",
    "    \"Grade\": [False, True, False, True, True],\n",
    "    \"Weight\": [False, False, False, True, True]\n",
    "})\n",
    "print(df)\n",
    "df_fill = df.fillna({'Grade': 'U', 'Weight': 0})\n",
    "print(df_fill)"
   ]
  },
  {
   "cell_type": "code",
   "execution_count": 156,
   "id": "8178f784-aa0e-4038-a28c-4d3442d008ba",
   "metadata": {},
   "outputs": [
    {
     "name": "stdout",
     "output_type": "stream",
     "text": [
      "    Name  Weight Grade\n",
      "0   Alex      67     A\n",
      "1   Ryan      56     B\n",
      "2  Moris      87    A+\n",
      "3   Zara      98    B+\n",
      "4    Mac      33    B-\n",
      "5    Zul      77    A+\n",
      "Mean weight:  69.66666666666667\n",
      "Grade mode: 0    A+\n",
      "Name: Grade, dtype: object\n",
      "    Name  Weight Grade\n",
      "0   Alex      67     A\n",
      "1   Ryan      56   NaN\n",
      "2  Moris      87    A+\n",
      "3   Zara      98    B+\n",
      "4    Mac      33    B-\n",
      "5    Zul      77    A+\n",
      "    Name  Weight Grade\n",
      "0   Alex      67     A\n",
      "1   Ryan      56     #\n",
      "2  Moris      87    A+\n",
      "3   Zara      98    B+\n",
      "4    Mac      33    B-\n",
      "5    Zul      77    A+\n"
     ]
    }
   ],
   "source": [
    "# Calculate the mean value of weights, calculate the mode of grade\n",
    "# fill misiing value of wigths with mena weight, missing grade with mode grade\n",
    "# Creaeta a datafrome for 8 kids, col:nane, weights(kg), heights(cm)\n",
    "import numpy as np\n",
    "\n",
    "df = pd.DataFrame({\n",
    "    'Name': ['Alex', 'Ryan', 'Moris', 'Zara', 'Mac', 'Zul', ],\n",
    "    'Weight': [67, 56, 87, 98, 33, 77],\n",
    "    'Grade': ['A', 'B', 'A+', 'B+', 'B-', 'A+']\n",
    "})\n",
    "print(df)\n",
    "mean_weights = df['Weight'].mean();\n",
    "print('Mean weight: ', mean_weights)\n",
    "mode_grade = df['Grade'].mode()\n",
    "print(\"Grade mode:\", mode_grade)\n",
    "df.loc[df[\"Name\"] == \"Ryan\", \"Grade\"] = np.nan\n",
    "print(df)\n",
    "df = df.fillna(\"#\")\n",
    "print(df)"
   ]
  },
  {
   "cell_type": "code",
   "execution_count": 173,
   "id": "b340352c-07ab-4a3c-aa2e-5a9b5c17fd81",
   "metadata": {},
   "outputs": [
    {
     "name": "stdout",
     "output_type": "stream",
     "text": [
      "            max_speed  shield\n",
      "cobra               1       2\n",
      "viper               4       5\n",
      "sidewinder          7       8\n",
      "max_speed    4\n",
      "shield       5\n",
      "Name: viper, dtype: int64\n",
      "4\n",
      "       max_speed  shield\n",
      "viper          4       5\n",
      "cobra          1       2\n",
      "            max_speed\n",
      "cobra               1\n",
      "sidewinder          7\n",
      "            max_speed  shield\n",
      "viper               4       5\n",
      "cobra               1       2\n",
      "sidewinder          7       8\n",
      "            max_speed  shield\n",
      "cobra               2       4\n",
      "viper               8      10\n",
      "sidewinder         14      16\n"
     ]
    }
   ],
   "source": [
    "# Creaeta a datafrome for 8 kids, col:nane, weights(kg), heights(cm)\n",
    "df = pd.DataFrame([[1, 2], [4, 5], [7, 8]],\n",
    "                  index=['cobra', 'viper', 'sidewinder'],\n",
    "                  columns=['max_speed', 'shield'])\n",
    "print(df)\n",
    "print(df.loc['viper'])\n",
    "print(df.loc['viper', 'max_speed'])\n",
    "print(df.loc[['viper', 'cobra']])\n",
    "print(df.loc[[True, False, True], [True, False]])\n",
    "shuffled_df = df.loc[[\"viper\", \"cobra\", \"sidewinder\"]]\n",
    "print(shuffled_df)\n",
    "df.loc[:] += shuffled_df\n",
    "print(df)"
   ]
  },
  {
   "cell_type": "code",
   "execution_count": 205,
   "id": "b1f81d0d-2001-4a92-a834-091bf8272a15",
   "metadata": {},
   "outputs": [
    {
     "name": "stdout",
     "output_type": "stream",
     "text": [
      "      Name  Age  Salari  Senior\n",
      "0    Alice   25   50000   False\n",
      "1      Bod   30   60000   False\n",
      "2  Charlie   35   70000    True\n"
     ]
    }
   ],
   "source": [
    "df = pd.DataFrame({\n",
    "    \"Name\": [\"Alice\", \"Bod\", \"Charlie\"],\n",
    "    \"Age\": [25, 30, 35],\n",
    "    \"Salari\": [50000, 60000, 70000],\n",
    "    \"Senior\": [False, False, True]\n",
    "})\n",
    "print(df)"
   ]
  },
  {
   "cell_type": "code",
   "execution_count": 207,
   "id": "18a42e22-4358-45c0-aa1d-4e14b9c3e6b0",
   "metadata": {},
   "outputs": [
    {
     "data": {
      "text/html": [
       "<div>\n",
       "<style scoped>\n",
       "    .dataframe tbody tr th:only-of-type {\n",
       "        vertical-align: middle;\n",
       "    }\n",
       "\n",
       "    .dataframe tbody tr th {\n",
       "        vertical-align: top;\n",
       "    }\n",
       "\n",
       "    .dataframe thead th {\n",
       "        text-align: right;\n",
       "    }\n",
       "</style>\n",
       "<table border=\"1\" class=\"dataframe\">\n",
       "  <thead>\n",
       "    <tr style=\"text-align: right;\">\n",
       "      <th></th>\n",
       "      <th>Name</th>\n",
       "      <th>Age</th>\n",
       "      <th>Salari</th>\n",
       "    </tr>\n",
       "  </thead>\n",
       "  <tbody>\n",
       "    <tr>\n",
       "      <th>0</th>\n",
       "      <td>Alice</td>\n",
       "      <td>25</td>\n",
       "      <td>50000</td>\n",
       "    </tr>\n",
       "    <tr>\n",
       "      <th>1</th>\n",
       "      <td>Bod</td>\n",
       "      <td>30</td>\n",
       "      <td>65000</td>\n",
       "    </tr>\n",
       "    <tr>\n",
       "      <th>2</th>\n",
       "      <td>Charlie</td>\n",
       "      <td>35</td>\n",
       "      <td>70000</td>\n",
       "    </tr>\n",
       "  </tbody>\n",
       "</table>\n",
       "</div>"
      ],
      "text/plain": [
       "      Name  Age  Salari\n",
       "0    Alice   25   50000\n",
       "1      Bod   30   65000\n",
       "2  Charlie   35   70000"
      ]
     },
     "execution_count": 207,
     "metadata": {},
     "output_type": "execute_result"
    }
   ],
   "source": [
    "# Remove column seniour\n",
    "df.drop(\"Senior\", axis=1)"
   ]
  },
  {
   "cell_type": "code",
   "execution_count": 208,
   "id": "d0cd50b2-1f26-4475-8395-e1de890499b3",
   "metadata": {},
   "outputs": [],
   "source": [
    "df.loc[df[\"Name\"] == \"Bod\", \"Salari\"] = 65000"
   ]
  },
  {
   "cell_type": "code",
   "execution_count": 209,
   "id": "32889988-61a6-40fb-b75e-5e133a698d49",
   "metadata": {},
   "outputs": [
    {
     "name": "stdout",
     "output_type": "stream",
     "text": [
      "      Name  Age  Salari  Senior\n",
      "0    Alice   25   50000   False\n",
      "1      Bod   30   65000   False\n",
      "2  Charlie   35   70000    True\n"
     ]
    }
   ],
   "source": [
    "print(df)\n"
   ]
  },
  {
   "cell_type": "code",
   "execution_count": 210,
   "id": "af567fdd-a2b4-40b7-bb35-e27930e32258",
   "metadata": {},
   "outputs": [],
   "source": [
    "# Rename all columns\n",
    "df = df.rename(columns={'Name': 'Employee Name', 'Age': 'Employee Age', 'Salari': 'Employee Salari'})"
   ]
  },
  {
   "cell_type": "code",
   "execution_count": 200,
   "id": "4744910c-6ece-41b4-8e33-a01b9b653e9a",
   "metadata": {},
   "outputs": [
    {
     "name": "stdout",
     "output_type": "stream",
     "text": [
      "  Employee Name  Employee Age  Employee Salari  Senior\n",
      "0         Alice            25            50000   False\n",
      "1           Bod            30            65000   False\n",
      "2       Charlie            35            70000    True\n"
     ]
    }
   ],
   "source": [
    "# df.drop(\"Senior\", axis=1)\n",
    "# df.drop(\"salari\", axis=1)\n",
    "print(df)"
   ]
  },
  {
   "cell_type": "code",
   "execution_count": 213,
   "id": "1c5411f9-5f76-45ff-8d3c-9e75c112e368",
   "metadata": {},
   "outputs": [
    {
     "name": "stdout",
     "output_type": "stream",
     "text": [
      "Mean: Employee Age          30.000000\n",
      "Employee Salari    61666.666667\n",
      "dtype: float64\n"
     ]
    }
   ],
   "source": [
    "print(\"Mean:\", df[['Employee Age', 'Employee Salari']].mean())"
   ]
  },
  {
   "cell_type": "code",
   "execution_count": 214,
   "id": "9c0c94e2-007b-485f-b8b8-d94504ccdc18",
   "metadata": {},
   "outputs": [
    {
     "name": "stdout",
     "output_type": "stream",
     "text": [
      "Employee Name      0\n",
      "Employee Age       0\n",
      "Employee Salari    0\n",
      "Senior             0\n",
      "dtype: int64\n"
     ]
    }
   ],
   "source": [
    "print(df.isna().sum())"
   ]
  },
  {
   "cell_type": "code",
   "execution_count": 216,
   "id": "745ddfa8-b671-4206-9a44-b506b1031738",
   "metadata": {},
   "outputs": [
    {
     "name": "stdout",
     "output_type": "stream",
     "text": [
      "0\n"
     ]
    }
   ],
   "source": [
    "print(df[\"Employee Age\"].isna().sum())"
   ]
  },
  {
   "cell_type": "code",
   "execution_count": null,
   "id": "e0777422-b2d9-4488-9931-6c499ee00449",
   "metadata": {},
   "outputs": [],
   "source": []
  }
 ],
 "metadata": {
  "kernelspec": {
   "display_name": "ciast_ai01",
   "language": "python",
   "name": "ciast_ai01"
  },
  "language_info": {
   "codemirror_mode": {
    "name": "ipython",
    "version": 3
   },
   "file_extension": ".py",
   "mimetype": "text/x-python",
   "name": "python",
   "nbconvert_exporter": "python",
   "pygments_lexer": "ipython3",
   "version": "3.12.4"
  }
 },
 "nbformat": 4,
 "nbformat_minor": 5
}
