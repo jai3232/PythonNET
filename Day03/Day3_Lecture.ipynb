{
 "cells": [
  {
   "cell_type": "markdown",
   "id": "223e4cd1-41f9-4cb4-9edf-35e69f3954e7",
   "metadata": {},
   "source": [
    "# Day 3: Functions & Modules\n",
    "## Section 1: Creating functions\n",
    "Description: Function in Python allow you to encapsulate logic that can be resused throughout your programm. This promotes code reuse and modularity. Functions are defined using the 'def', followed by the function name and parenthese '( )'.\n",
    "\n",
    "Creating function:\n",
    "- `def function_name(parameters):` Define a function with optional parameters\n",
    "- `return`: Exit the function and optinally return a value"
   ]
  },
  {
   "cell_type": "code",
   "execution_count": 1,
   "id": "2b471d77-9f4b-4e6e-96e1-93ea2ed52ed2",
   "metadata": {},
   "outputs": [
    {
     "name": "stdout",
     "output_type": "stream",
     "text": [
      "hello wolrd\n"
     ]
    }
   ],
   "source": [
    "# Define a simple function\n",
    "def hello_world():\n",
    "    print(\"hello wolrd\")\n",
    "\n",
    "# call the function with empty arguments\n",
    "hello_world()"
   ]
  },
  {
   "cell_type": "code",
   "execution_count": 3,
   "id": "2f618d92-a614-4851-b35a-732a98f7e7b6",
   "metadata": {},
   "outputs": [
    {
     "name": "stdout",
     "output_type": "stream",
     "text": [
      "Name is John\n"
     ]
    }
   ],
   "source": [
    "# Exercise: create a function to introduce yourself and call it\n",
    "def name():\n",
    "    print(\"Name is John\")\n",
    "\n",
    "name()\n"
   ]
  },
  {
   "cell_type": "code",
   "execution_count": 15,
   "id": "192cf0c4-143e-4898-b410-fa0d16d5a14b",
   "metadata": {},
   "outputs": [
    {
     "name": "stdin",
     "output_type": "stream",
     "text": [
      "Enter first number: 2\n",
      "Enter second number: 2\n"
     ]
    },
    {
     "name": "stdout",
     "output_type": "stream",
     "text": [
      "4\n"
     ]
    }
   ],
   "source": [
    "# Sample: create a function to add 2 numbers from the user\n",
    "num1 = int(input(\"Enter first number:\"))\n",
    "num2 = int(input(\"Enter second number:\"))\n",
    "\n",
    "def sum1(n1, n2):\n",
    "    return n1 + n2\n",
    "\n",
    "print(sum1(num1, num2))"
   ]
  },
  {
   "cell_type": "code",
   "execution_count": 6,
   "id": "f8b5a9ee-ebba-48d1-829d-101de99cfe12",
   "metadata": {},
   "outputs": [
    {
     "name": "stdout",
     "output_type": "stream",
     "text": [
      "[2, 3, 5, 7, 11]\n"
     ]
    }
   ],
   "source": [
    "# Exer: create a function that output first 5 prime numbers\n",
    "# store in in a variable and print it\n",
    "\n",
    "def first5prime():\n",
    "    return [x for x in range(2, 100) if not [t for t in range(2, x) if not x % t ]][:5]\n",
    "\n",
    "primes = first5prime()\n",
    "print(primes)"
   ]
  },
  {
   "cell_type": "code",
   "execution_count": 1,
   "id": "d2d23bd0-e2cd-4c38-a232-4c488293a5a6",
   "metadata": {},
   "outputs": [
    {
     "data": {
      "text/plain": [
       "3"
      ]
     },
     "execution_count": 1,
     "metadata": {},
     "output_type": "execute_result"
    }
   ],
   "source": [
    "def addition(*args):\n",
    "    return sum(args)\n",
    "\n",
    "addition(1,2)\n"
   ]
  },
  {
   "cell_type": "code",
   "execution_count": 10,
   "id": "82d368dc-95bf-4b3b-a806-d9a1cd846d29",
   "metadata": {},
   "outputs": [
    {
     "name": "stdout",
     "output_type": "stream",
     "text": [
      "Help on function sum in module __main__:\n",
      "\n",
      "sum(n1, n2)\n",
      "\n"
     ]
    }
   ],
   "source": [
    "help(sum)\n"
   ]
  },
  {
   "cell_type": "code",
   "execution_count": 3,
   "id": "1fe51dad-541f-435f-b0aa-1dd4d10069e3",
   "metadata": {},
   "outputs": [
    {
     "name": "stdout",
     "output_type": "stream",
     "text": [
      "I am from Japan\n"
     ]
    }
   ],
   "source": [
    "# Exer: create a function that return I am from (country)\n",
    "def intro_country(country):\n",
    "    # msg = f\"I am from (country)\"\n",
    "    msg = \"I am from \" + country\n",
    "    return msg\n",
    "result = intro_country(\"Japan\")\n",
    "print(result)"
   ]
  },
  {
   "cell_type": "code",
   "execution_count": 4,
   "id": "56a2131f-719d-4c1f-b73c-26aa1f7d5716",
   "metadata": {},
   "outputs": [
    {
     "name": "stdout",
     "output_type": "stream",
     "text": [
      " he is John Cena\n"
     ]
    }
   ],
   "source": [
    "# Learn about string\n",
    "name = \"John Cena\"\n",
    "txt = f\" he is {name}\"\n",
    "print(txt)"
   ]
  },
  {
   "cell_type": "code",
   "execution_count": 8,
   "id": "d18198a3-ff98-43fb-8dfa-577bb5bbc6df",
   "metadata": {},
   "outputs": [
    {
     "name": "stdout",
     "output_type": "stream",
     "text": [
      "7\n"
     ]
    }
   ],
   "source": [
    "# Exer: Create a function that return  the sum of any 2 numbers\n",
    "def add2number(n1, n2):\n",
    "    return (n1 + n2)\n",
    "\n",
    "print(add2number(3, 4))"
   ]
  },
  {
   "cell_type": "markdown",
   "id": "d83e1914-7518-4e38-9909-a51fdb7e36ec",
   "metadata": {},
   "source": [
    "Function Parameter:\n",
    "- Positional Arguments: Argument are assigned to parameters based on their position\n",
    "- Keyword Arguments: arguments asre assigned to paremters by explicitly naming them\n",
    "- Default Argument: Parameters have default values if no argument is inserted\n",
    "- Aribitary Arguments: Allow passing a variable number  of arguments (EXTRA)"
   ]
  },
  {
   "cell_type": "code",
   "execution_count": 10,
   "id": "2b072a07-b2c1-44da-b732-8e80ff84c0e0",
   "metadata": {},
   "outputs": [
    {
     "name": "stdout",
     "output_type": "stream",
     "text": [
      "I have hamster named Harry\n",
      "I have harry named Hamster\n"
     ]
    }
   ],
   "source": [
    "# Positional Argument\n",
    "def describe_pet(animal_type, pet_name):\n",
    "    \"\"\"\n",
    "    This function takes the type of animal and its name, then print a description\n",
    "    \"\"\"\n",
    "    print(f\"I have {animal_type} named {pet_name}\")\n",
    "\n",
    "describe_pet('hamster', 'Harry')\n",
    "describe_pet('harry', 'Hamster')"
   ]
  },
  {
   "cell_type": "code",
   "execution_count": 11,
   "id": "48f31118-37f3-4c6d-bbfb-db8b71d9e0d6",
   "metadata": {},
   "outputs": [
    {
     "name": "stdout",
     "output_type": "stream",
     "text": [
      "I have hamster named Harry\n"
     ]
    }
   ],
   "source": [
    "# Keyword Argument\n",
    "# call with keyword arguments\n",
    "describe_pet(pet_name='Harry', animal_type='hamster')"
   ]
  },
  {
   "cell_type": "code",
   "execution_count": 12,
   "id": "41a62d90-3cea-48d9-9018-5ff395286ec2",
   "metadata": {},
   "outputs": [
    {
     "name": "stdout",
     "output_type": "stream",
     "text": [
      "Hamster\n"
     ]
    }
   ],
   "source": [
    "# Default argument\n",
    "def pet_name(n = 'Hamster'):\n",
    "    return n\n",
    "\n",
    "print(pet_name())"
   ]
  },
  {
   "cell_type": "code",
   "execution_count": 13,
   "id": "4fda81bc-f570-4de7-8eec-c428d6ef0da4",
   "metadata": {},
   "outputs": [
    {
     "name": "stdout",
     "output_type": "stream",
     "text": [
      "Make a pizza with the following topping:\n",
      "-pepperoni\n",
      "-mushrom\n",
      "-green peepers\n",
      "-extra cheese\n"
     ]
    }
   ],
   "source": [
    "# Arbitrary Argument\n",
    "def make_pizza(*toppings) :\n",
    "    \"\"\"\n",
    "    This function takes an arbitrary number of tippings dan rpints them\n",
    "    \"\"\"\n",
    "    print(\"Make a pizza with the following topping:\")\n",
    "    for topping in toppings:\n",
    "        print(f\"-{topping}\")\n",
    "# call the function\n",
    "make_pizza(\"pepperoni\", \"mushrom\", \"green peepers\", \"extra cheese\")"
   ]
  },
  {
   "cell_type": "code",
   "execution_count": 14,
   "id": "cc1e91e2-6575-40f3-9985-49d4a085d60f",
   "metadata": {},
   "outputs": [
    {
     "name": "stdout",
     "output_type": "stream",
     "text": [
      "I am a barista. Making the followintg coffees: \n",
      "flavor Americano\n",
      "flavor green tea latte\n",
      "flavor CAppuccino\n",
      "flavor expresso\n"
     ]
    }
   ],
   "source": [
    "# Exercise: define a function with arbitrary argument to print any flovors of coffe\n",
    "# eg: make_coffe(a, b, c, d..)\n",
    "# result\n",
    "# flavor a\n",
    "# flavor b\n",
    "def make_coffee(*flavors):\n",
    "    \"\"\"\n",
    "    This function takes an arbitrary number of coffe floavors and prints them\n",
    "    \"\"\"\n",
    "    print(\"I am a barista. Making the followintg coffees: \")\n",
    "    for flavor in flavors:\n",
    "        print(f\"flavor {flavor}\")\n",
    "make_coffee(\"Americano\", \"green tea latte\", \"CAppuccino\", \"expresso\")"
   ]
  },
  {
   "cell_type": "markdown",
   "id": "a8bae010-4b47-4d03-8188-03f541526414",
   "metadata": {},
   "source": [
    "## Part 2: Modules\n",
    "Description: modules in Python are files containing Python definitions and statments. The file name is the module name with the suffix '.py'. Modules help to break down large programs into smaller, manageable and organized files.\n",
    "\n",
    "Creting and Using Modules:\n",
    "1. **Importing Modules**: use `imort` to bring a module into another script\n",
    "2. **Importing Specific Functions**: Use `from module_name import function_name` to imort specific functions\n",
    "3. **Aliasing Modules**: Use `imort module_name as alias` to shorten module names\n",
    "4. **built-In Modules**: Python comes with many built-in modules that you can use right away."
   ]
  },
  {
   "cell_type": "code",
   "execution_count": 15,
   "id": "59197d59-023c-4460-a6c2-62538a1f6325",
   "metadata": {},
   "outputs": [
    {
     "data": {
      "text/plain": [
       "'Hello, Ahmad'"
      ]
     },
     "execution_count": 15,
     "metadata": {},
     "output_type": "execute_result"
    }
   ],
   "source": [
    "def greeting(name):\n",
    "    \"\"\"\n",
    "    This function prints Hello, {your name}\n",
    "    \"\"\"\n",
    "    msg = f\"Hello, {name}\"\n",
    "    return msg\n",
    "\n",
    "greeting(\"Ahmad\")"
   ]
  },
  {
   "cell_type": "markdown",
   "id": "0067a36d-65fd-41fe-a321-05a1dd6b08ff",
   "metadata": {},
   "source": [
    "Create custom module\n",
    "1. OPen notepad\n",
    "2. Copy greeting()\n",
    "3. Save as .py"
   ]
  },
  {
   "cell_type": "code",
   "execution_count": 16,
   "id": "1bdb6f8e-e25e-447b-a792-75d921dcf466",
   "metadata": {},
   "outputs": [
    {
     "name": "stdout",
     "output_type": "stream",
     "text": [
      "Hello, CIAST\n"
     ]
    }
   ],
   "source": [
    "# import first custome module\n",
    "import my_first_module\n",
    "\n",
    "msg_from_module = my_first_module.greeting(\"CIAST\")\n",
    "print(msg_from_module)"
   ]
  },
  {
   "cell_type": "code",
   "execution_count": 24,
   "id": "b2628496-c0f3-47ad-a06c-4c45faa40900",
   "metadata": {},
   "outputs": [
    {
     "name": "stdout",
     "output_type": "stream",
     "text": [
      "I am a barista. Making the followintg coffees: \n",
      "flavor Cap Ayam\n",
      "flavor Kampung\n"
     ]
    }
   ],
   "source": [
    "# Exercise: Create a module for make_coffe() function that we defined in the prview exercise\n",
    "# Import the module\n",
    "import coffee\n",
    "\n",
    "my_coffee = coffee.make_coffee(\"Cap Ayam\", \"Kampung\")"
   ]
  },
  {
   "cell_type": "code",
   "execution_count": 30,
   "id": "b33e73e8-e622-497a-b177-2161b2cf9bfe",
   "metadata": {
    "slideshow": {
     "slide_type": ""
    },
    "tags": []
   },
   "outputs": [
    {
     "name": "stdout",
     "output_type": "stream",
     "text": [
      "Hello, SHRDC\n"
     ]
    }
   ],
   "source": [
    "# Importing specific functions\n",
    "from my_first_module import greeting\n",
    "\n",
    "response = greeting(\"SHRDC\")\n",
    "print(response)"
   ]
  },
  {
   "cell_type": "code",
   "execution_count": 36,
   "id": "0aadd925-8372-4923-8e32-306ff74cd8e2",
   "metadata": {
    "editable": true,
    "slideshow": {
     "slide_type": ""
    },
    "tags": []
   },
   "outputs": [
    {
     "name": "stdout",
     "output_type": "stream",
     "text": [
      "I am a barista. Making the followintg coffees: \n",
      "flavor Coffee Hijau\n"
     ]
    }
   ],
   "source": [
    "# Exercise: import specific function \"make_coffee()\" from module \"my_second_module\"\n",
    "# Ask your barista to make a coffee.py\n",
    "from coffee import make_coffee\n",
    "\n",
    "make_coffee(\"Coffee Hijau\")\n",
    "#print(my_coffee)"
   ]
  },
  {
   "cell_type": "code",
   "execution_count": 39,
   "id": "d6e617f9-d9c9-4911-99f1-030850ef32b2",
   "metadata": {},
   "outputs": [
    {
     "name": "stdout",
     "output_type": "stream",
     "text": [
      "I am a barista. Making the followintg coffees: \n",
      "flavor Musang\n"
     ]
    }
   ],
   "source": [
    "# Exercise: Alias \n",
    "import coffee  as kopi\n",
    "\n",
    "kopi.make_coffee(\"Musang\")"
   ]
  },
  {
   "cell_type": "code",
   "execution_count": 40,
   "id": "418e15f4-3ca1-4840-b10a-0de1f1e2bf1d",
   "metadata": {},
   "outputs": [
    {
     "name": "stdout",
     "output_type": "stream",
     "text": [
      "2.0\n"
     ]
    }
   ],
   "source": [
    "import math\n",
    "print(math.sqrt(4))"
   ]
  },
  {
   "cell_type": "code",
   "execution_count": 41,
   "id": "c0ecee70-2003-467c-b15a-fc62192b5e2b",
   "metadata": {},
   "outputs": [
    {
     "name": "stdout",
     "output_type": "stream",
     "text": [
      "25.0\n"
     ]
    }
   ],
   "source": [
    "# Exercise: google for method from python math module to calculate square\n",
    "# calculate square(5)\n",
    "print(math.pow(5, 2))"
   ]
  },
  {
   "cell_type": "markdown",
   "id": "8d3a40cf-4446-483d-aaba-654837fee8ad",
   "metadata": {},
   "source": [
    "## Part2: Built-in Modules\n",
    "Description: Python includes a variety of built-in modules that provide a wide range of functions from mathermatical operatioan to file handling and system interactions. These modules are readily available and do not require any additional installation\n",
    "\n",
    "Common Built-in Modules\n",
    "1. **math**: Provides math\n",
    "2.  **datetime**: Manipulate dates and times\n",
    "3.  **os**: Interacts with the operating system\n",
    "4.  **random**: Generates random numbers"
   ]
  },
  {
   "cell_type": "code",
   "execution_count": 43,
   "id": "764de02e-b51d-4b21-8ab9-1704ffdb775a",
   "metadata": {},
   "outputs": [
    {
     "name": "stdout",
     "output_type": "stream",
     "text": [
      "1.0\n",
      "3.141592653589793\n"
     ]
    }
   ],
   "source": [
    "# Calculate cosine of 0\n",
    "print(math.cos(0))\n",
    "print(math.pi)"
   ]
  },
  {
   "cell_type": "code",
   "execution_count": 44,
   "id": "1223ccc5-825a-45f8-a3a0-bdf476647e75",
   "metadata": {},
   "outputs": [
    {
     "name": "stdout",
     "output_type": "stream",
     "text": [
      "2024-06-27 11:07:08.697524\n"
     ]
    }
   ],
   "source": [
    "# datetime\n",
    "from datetime import datetime, timedelta\n",
    "\n",
    "now = datetime.now()\n",
    "print(now)"
   ]
  },
  {
   "cell_type": "code",
   "execution_count": 46,
   "id": "2ccec4c4-f82c-47ad-8606-9fafaf3a2244",
   "metadata": {},
   "outputs": [
    {
     "name": "stdout",
     "output_type": "stream",
     "text": [
      "2020-03-09 00:00:00\n"
     ]
    }
   ],
   "source": [
    "# Create a specific date\n",
    "specifi_date = datetime(2020, 3, 9)\n",
    "print(specifi_date)"
   ]
  },
  {
   "cell_type": "code",
   "execution_count": 47,
   "id": "042db445-968e-4496-b11f-37bc4218524a",
   "metadata": {},
   "outputs": [
    {
     "name": "stdout",
     "output_type": "stream",
     "text": [
      "C:\\Users\\suhaimi\\Desktop\\CIAST_AI_PART1\\Day03\n"
     ]
    }
   ],
   "source": [
    "import os\n",
    "\n",
    "# Get the currrent working directory\n",
    "print(os.getcwd())"
   ]
  },
  {
   "cell_type": "code",
   "execution_count": 49,
   "id": "80ae6d33-31f2-4611-b91d-9c4b6aa2653b",
   "metadata": {},
   "outputs": [
    {
     "ename": "PermissionError",
     "evalue": "[WinError 5] Access is denied: 'test'",
     "output_type": "error",
     "traceback": [
      "\u001b[1;31m---------------------------------------------------------------------------\u001b[0m",
      "\u001b[1;31mPermissionError\u001b[0m                           Traceback (most recent call last)",
      "Cell \u001b[1;32mIn[49], line 1\u001b[0m\n\u001b[1;32m----> 1\u001b[0m os\u001b[38;5;241m.\u001b[39mremove(\u001b[38;5;124m\"\u001b[39m\u001b[38;5;124mtest\u001b[39m\u001b[38;5;124m\"\u001b[39m)\n",
      "\u001b[1;31mPermissionError\u001b[0m: [WinError 5] Access is denied: 'test'"
     ]
    }
   ],
   "source": [
    "os.remove(\"test\")"
   ]
  },
  {
   "cell_type": "code",
   "execution_count": 52,
   "id": "d438b5fe-18f7-4552-9845-de5c8fd938ca",
   "metadata": {},
   "outputs": [],
   "source": [
    "os.removedirs(\"test\")"
   ]
  },
  {
   "cell_type": "code",
   "execution_count": 53,
   "id": "92250bb7-8f0a-47fc-a105-cef087db4d07",
   "metadata": {},
   "outputs": [
    {
     "name": "stdout",
     "output_type": "stream",
     "text": [
      "164\n"
     ]
    }
   ],
   "source": [
    "import random\n",
    "print(random.randrange(9, 222))"
   ]
  },
  {
   "cell_type": "markdown",
   "id": "da0a4490-b44b-45ed-ac30-b161687a48ac",
   "metadata": {},
   "source": [
    "## Sample (Before Hands-on Activity)\n",
    "Before you are given a complex project dealing with calculator, let's start with a simpler version only performs add and subtract operations. This will help you to understand the basic structure of functions needed to complete this project"
   ]
  },
  {
   "cell_type": "code",
   "execution_count": 58,
   "id": "d30d2d0f-eb27-4554-b776-2af9e8e84ed9",
   "metadata": {},
   "outputs": [
    {
     "name": "stdout",
     "output_type": "stream",
     "text": [
      "-72.9\n",
      "82.1\n",
      "Error: invalid operation\n"
     ]
    }
   ],
   "source": [
    "def basic_calculator(num1, num2, op):\n",
    "    \"\"\"\n",
    "    A simple calculator function that performs add and substract\n",
    "    Parameters\n",
    "    num1(float): first number\n",
    "    num2(float): second number\n",
    "    operation(str): operation to perform (add, substract)\n",
    "\n",
    "    Return:\n",
    "    float: result of calculation, or a message is the operation is invalid\n",
    "    \n",
    "    \"\"\"\n",
    "    if op == '+':\n",
    "        return num1 + num2\n",
    "    elif op == '-':\n",
    "        return num1 - num2\n",
    "    else:\n",
    "        return 'Error: invalid operation'\n",
    "\n",
    "# Test\n",
    "print(basic_calculator(4.6, 77.5, '-'))\n",
    "print(basic_calculator(4.6, 77.5, '+'))\n",
    "print(basic_calculator(4.6, 77.5, 'xxx'))\n",
    "    "
   ]
  },
  {
   "cell_type": "markdown",
   "id": "8b6c4e31-0037-4fa9-accb-e8fadcbb3055",
   "metadata": {},
   "source": [
    "### User Friendly Interface\n",
    "Add a loop to continously prompt the user for input until they decide to exit"
   ]
  },
  {
   "cell_type": "code",
   "execution_count": 61,
   "id": "8ff719ff-262f-4270-9965-10094bc9178d",
   "metadata": {},
   "outputs": [
    {
     "name": "stdout",
     "output_type": "stream",
     "text": [
      "Simple arithmetic calculator\n",
      "Operation: +, -\n"
     ]
    },
    {
     "name": "stdin",
     "output_type": "stream",
     "text": [
      "Enter first number:  9\n",
      "Enter second number:  6\n",
      "enter the operation (+/-): +\n"
     ]
    },
    {
     "name": "stdout",
     "output_type": "stream",
     "text": [
      "Result: 15.0\n"
     ]
    },
    {
     "name": "stdin",
     "output_type": "stream",
     "text": [
      "Continue (Y/N) ? n\n"
     ]
    },
    {
     "name": "stdout",
     "output_type": "stream",
     "text": [
      "Bye\n"
     ]
    }
   ],
   "source": [
    "print(\"Simple arithmetic calculator\")\n",
    "print(\"Operation: +, -\")\n",
    "while True:\n",
    "    num1 = float(input(\"Enter first number: \"))\n",
    "    num2 = float(input(\"Enter second number: \"))\n",
    "    op = input(\"enter the operation (+/-):\").lower()\n",
    "    result = basic_calculator(num1, num2, op)\n",
    "    print(f\"Result: {result}\")\n",
    "    proceed = input(\"Continue (Y/N) ?\").lower()\n",
    "    if proceed == 'n':\n",
    "        print(\"Bye\")\n",
    "        break;"
   ]
  },
  {
   "cell_type": "markdown",
   "id": "07d3a30d-025b-4b51-b966-20b53ebfe03e",
   "metadata": {},
   "source": [
    "## Hands-On Activity\n",
    "Build a complex calculator with the following requirements\n",
    "- Operations: +, -, x, &#247; &nbsp;, remainder, exponention\n",
    "- User python math\n",
    "- create module called `my_calculator` to stor your function\n",
    "- import your custom module\n",
    "- prompt user for input\n",
    "- call the function **through custom module** only\n",
    "- BONUS: do something to prevent crach due to \"math error\"\n",
    "\n",
    "Discuss at 2:05 pm"
   ]
  },
  {
   "cell_type": "code",
   "execution_count": 14,
   "id": "644832d7-670e-4044-a710-c5659ebc1a53",
   "metadata": {
    "editable": true,
    "slideshow": {
     "slide_type": ""
    },
    "tags": []
   },
   "outputs": [
    {
     "data": {
      "text/plain": [
       "27"
      ]
     },
     "execution_count": 14,
     "metadata": {},
     "output_type": "execute_result"
    }
   ],
   "source": [
    "def my_calculator(n1, n2, op):\n",
    "    return eval((str(n1) + op + str(n2)))\n",
    "    # while True:\n",
    "        # n1 = str(input(\"Enter first number: \"))\n",
    "        # n2 = str(input(\"Enter Second number: \"))\n",
    "        # op = str(input(\"Enter operation (+: Addtion, '-': Subtraction, '*': Multiplication, '/': Division, '%': Remainder, '^': Exponention): \"))\n",
    "        # ans = eval((str(n1) + op + str(n2)))\n",
    "    \n",
    "    # return eval((str(n1) + op + str(n2)))\n",
    "my_calculator(3, 3, '**')"
   ]
  },
  {
   "cell_type": "code",
   "execution_count": 3,
   "id": "2ce231b8-cc2d-4371-a0c7-78aa1b364e7e",
   "metadata": {
    "editable": true,
    "scrolled": true,
    "slideshow": {
     "slide_type": ""
    },
    "tags": []
   },
   "outputs": [
    {
     "name": "stdin",
     "output_type": "stream",
     "text": [
      "Enter first number:  1\n",
      "Enter Second number:  6\n",
      "Enter operation (+: Addtion, '-': Subtraction, '*': Multiplication, '/': Division, '%': Remainder, '**': Exponention):  *\n"
     ]
    },
    {
     "name": "stdout",
     "output_type": "stream",
     "text": [
      "Ans: 6\n"
     ]
    },
    {
     "name": "stdin",
     "output_type": "stream",
     "text": [
      "Continue (Y/N) ? n\n"
     ]
    },
    {
     "name": "stdout",
     "output_type": "stream",
     "text": [
      "Bye\n"
     ]
    }
   ],
   "source": [
    "import calc\n",
    "while True:\n",
    "    n1 = str(input(\"Enter first number: \"))\n",
    "    n2 = str(input(\"Enter Second number: \"))\n",
    "    op = str(input(\"Enter operation (+: Addtion, '-': Subtraction, '*': Multiplication, '/': Division, '%': Remainder, '**': Exponention): \"))\n",
    "    if(n2 == '0' and op == '/'):\n",
    "        print(\"Division by zero\")\n",
    "        break;?\n",
    "    ans = calc.my_calculator(n1, n2, op)\n",
    "    print(\"Ans: \" + str(ans))\n",
    "    cont = input(\"Continue (Y/N) ?\").lower()\n",
    "    if(cont == 'n'):\n",
    "        print(\"Bye\")\n",
    "        break"
   ]
  },
  {
   "cell_type": "code",
   "execution_count": null,
   "id": "812b6d89-03bf-4403-a588-5334a625beb9",
   "metadata": {
    "editable": true,
    "slideshow": {
     "slide_type": ""
    },
    "tags": []
   },
   "outputs": [],
   "source": []
  }
 ],
 "metadata": {
  "kernelspec": {
   "display_name": "Python 3 (ipykernel)",
   "language": "python",
   "name": "python3"
  },
  "language_info": {
   "codemirror_mode": {
    "name": "ipython",
    "version": 3
   },
   "file_extension": ".py",
   "mimetype": "text/x-python",
   "name": "python",
   "nbconvert_exporter": "python",
   "pygments_lexer": "ipython3",
   "version": "3.12.4"
  }
 },
 "nbformat": 4,
 "nbformat_minor": 5
}
