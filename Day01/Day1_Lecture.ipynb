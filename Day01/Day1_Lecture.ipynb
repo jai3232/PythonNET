{
 "cells": [
  {
   "cell_type": "markdown",
   "id": "d1497e46-9904-4f48-ba1c-bd847b4843e9",
   "metadata": {},
   "source": [
    "# Day 1\n",
    "## Data Types"
   ]
  },
  {
   "cell_type": "code",
   "execution_count": 1,
   "id": "24b07766-2afd-4f70-879a-63ab492948eb",
   "metadata": {},
   "outputs": [
    {
     "name": "stdout",
     "output_type": "stream",
     "text": [
      "123\n",
      "<class 'int'>\n"
     ]
    }
   ],
   "source": [
    "# Data type Integer\n",
    "my_int = 123\n",
    "print(my_int)\n",
    "print(type(my_int))"
   ]
  },
  {
   "cell_type": "code",
   "execution_count": 2,
   "id": "50adaf72-9cd7-4550-a8c8-9a55f7a06dad",
   "metadata": {},
   "outputs": [
    {
     "name": "stdout",
     "output_type": "stream",
     "text": [
      "7\n",
      "<class 'int'>\n"
     ]
    }
   ],
   "source": [
    "# EXER: Create one variable with data type integer, print the value * its data type\n",
    "num = 7\n",
    "print(num)\n",
    "print(type(num))"
   ]
  },
  {
   "cell_type": "code",
   "execution_count": 3,
   "id": "39636223-7b53-4165-954f-33d64037a41a",
   "metadata": {},
   "outputs": [
    {
     "name": "stdout",
     "output_type": "stream",
     "text": [
      "133.22\n",
      "<class 'float'>\n"
     ]
    }
   ],
   "source": [
    "# data type FLOAT\n",
    "my_float = 133.22\n",
    "print(my_float)\n",
    "print(type(my_float))"
   ]
  },
  {
   "cell_type": "code",
   "execution_count": 4,
   "id": "849299cc-8fa8-4843-ae52-8c1113796940",
   "metadata": {},
   "outputs": [
    {
     "name": "stdout",
     "output_type": "stream",
     "text": [
      "3.4\n",
      "<class 'float'>\n"
     ]
    }
   ],
   "source": [
    "# EXER: Create one variable wit hdata type float, print value and its type\n",
    "pi = 3.4\n",
    "print(pi)\n",
    "print(type(pi))"
   ]
  },
  {
   "cell_type": "code",
   "execution_count": 8,
   "id": "067859c1-7dd7-4eb0-a796-156eaff425c9",
   "metadata": {},
   "outputs": [
    {
     "name": "stdout",
     "output_type": "stream",
     "text": [
      "Apple\n",
      "<class 'str'>\n"
     ]
    }
   ],
   "source": [
    "# data type STRING\n",
    "s_type1 = '''Apple'''\n",
    "s_type2 = \"\"\"Apple\"\"\"\n",
    "s_type3 = 'Apple'\n",
    "s_type4 = \"Apple\"\n",
    "print(s_type1)\n",
    "print(type(s_type1))\n",
    "# EXER: PRINT the value and data type of s_types2 to s_type4"
   ]
  },
  {
   "cell_type": "code",
   "execution_count": 6,
   "id": "c3b37077-6c07-4f8d-8a73-58a573b1c6e4",
   "metadata": {},
   "outputs": [
    {
     "name": "stdout",
     "output_type": "stream",
     "text": [
      "Apple\n",
      "<class 'str'>\n",
      "Apple\n",
      "<class 'str'>\n",
      "Apple\n",
      "<class 'str'>\n"
     ]
    }
   ],
   "source": [
    "print(s_type2)\n",
    "print(type(s_type2))\n",
    "print(s_type3)\n",
    "print(type(s_type3))\n",
    "print(s_type4)\n",
    "print(type(s_type4))"
   ]
  },
  {
   "cell_type": "code",
   "execution_count": 9,
   "id": "fc1685fb-45ec-41b1-92e6-6003e2e05c51",
   "metadata": {},
   "outputs": [
    {
     "name": "stdout",
     "output_type": "stream",
     "text": [
      "This is\n",
      "multiline stiring\n"
     ]
    }
   ],
   "source": [
    "# extra: data type STRING\n",
    "s_multiline = '''This is\n",
    "multiline stiring'''\n",
    "print(s_multiline)"
   ]
  },
  {
   "cell_type": "code",
   "execution_count": 12,
   "id": "69761c5e-6f43-4a12-a18a-12243db10c0c",
   "metadata": {},
   "outputs": [
    {
     "name": "stdout",
     "output_type": "stream",
     "text": [
      "True\n",
      "<class 'bool'>\n"
     ]
    }
   ],
   "source": [
    "# data type BOLEAN\n",
    "bool1 = True\n",
    "bool2 = False\n",
    "print(bool1)\n",
    "print(type(bool1))"
   ]
  },
  {
   "cell_type": "code",
   "execution_count": 20,
   "id": "93ed202f-255b-4c4d-922d-6b473d577caa",
   "metadata": {},
   "outputs": [
    {
     "name": "stdout",
     "output_type": "stream",
     "text": [
      "True\n",
      "<class 'bool'>\n"
     ]
    }
   ],
   "source": [
    "# EXER: Create one variable with dat atype BOOLEAN and print value and its type\n",
    "healthy = True\n",
    "print(healthy)\n",
    "print(type(healthy))"
   ]
  },
  {
   "cell_type": "code",
   "execution_count": 22,
   "id": "7b9b93e1-6c25-4946-9d42-47c4c76b65c1",
   "metadata": {},
   "outputs": [
    {
     "name": "stdout",
     "output_type": "stream",
     "text": [
      "False\n",
      "<class 'bool'>\n"
     ]
    }
   ],
   "source": [
    "my_bool3 = (1 + 2 == 2 + 2)\n",
    "print(my_bool3)\n",
    "print(type(my_bool3))"
   ]
  },
  {
   "cell_type": "markdown",
   "id": "e199682b-c2c2-40e2-8a2c-e3ed2129cec9",
   "metadata": {},
   "source": [
    "## Rules to create Identifiers\n",
    "An **identifier** is a name given to entities like **class, functions, variables, etc**. <br>\n",
    "Think of **identifier** as a label you put on a box."
   ]
  },
  {
   "cell_type": "markdown",
   "id": "802b19e0-c0e8-4044-9a8b-a51f1f0c6e29",
   "metadata": {},
   "source": [
    "<ol>\n",
    "<li>**Identifier** can be combination of letters in lowecase (a to z) or uppercase (A to Z) or digits (0 t0 9) or na underscore '-'.</li>\n",
    "<li>An identifier **CANNOT START WITH DIGIT** is invalid, but **variable1** is valid.</li>\n",
    "<li>Python keywords cannot be uses as identifiers.</li>\n",
    "</ol>\n"
   ]
  },
  {
   "cell_type": "markdown",
   "id": "91951968-4af4-410f-8b05-baaf3a1abbac",
   "metadata": {},
   "source": [
    "## Python Operators\n",
    "Python has 2 kinds of operators:\n",
    "- Aritmetic operators (**MATHS**)\n",
    "- Comparison/Relational Operators (**BOOLEAN**)"
   ]
  },
  {
   "cell_type": "markdown",
   "id": "32ec027f-c44e-4f6c-bfc8-6e07bb2e7315",
   "metadata": {},
   "source": [
    "# Arithmetic Operator"
   ]
  },
  {
   "cell_type": "code",
   "execution_count": 34,
   "id": "fcf8c596-9793-49e9-a726-aaca07e68cbb",
   "metadata": {},
   "outputs": [
    {
     "name": "stdout",
     "output_type": "stream",
     "text": [
      "8\n",
      "8\n"
     ]
    }
   ],
   "source": [
    "# Addition (+)\n",
    "a = 5\n",
    "b = 3\n",
    "result = a + b\n",
    "print(result)\n",
    "# EXTRA\n",
    "b += a\n",
    "print(b)\n"
   ]
  },
  {
   "cell_type": "code",
   "execution_count": 33,
   "id": "6450c057-15e4-407a-98cd-4a6c3a5731d7",
   "metadata": {},
   "outputs": [
    {
     "name": "stdout",
     "output_type": "stream",
     "text": [
      "-18\n",
      "-18\n"
     ]
    }
   ],
   "source": [
    "# Substration (-)\n",
    "a = 5\n",
    "b = 23\n",
    "result = a - b\n",
    "print(result)\n",
    "# EXTRA\n",
    "b -= a;\n",
    "print(result)"
   ]
  },
  {
   "cell_type": "code",
   "execution_count": 30,
   "id": "93ae12e0-98c7-494c-93bb-100a8abd3559",
   "metadata": {},
   "outputs": [
    {
     "name": "stdout",
     "output_type": "stream",
     "text": [
      "115\n"
     ]
    }
   ],
   "source": [
    "# Mutliplication (X)\n",
    "a = 5\n",
    "b = 23\n",
    "result = a * b\n",
    "print(result)"
   ]
  },
  {
   "cell_type": "code",
   "execution_count": 32,
   "id": "f621c054-fe1d-4e65-91e4-08d2908a6000",
   "metadata": {},
   "outputs": [
    {
     "name": "stdout",
     "output_type": "stream",
     "text": [
      "0.21739130434782608\n"
     ]
    }
   ],
   "source": [
    "# Division (/)\n",
    "a = 5\n",
    "b = 23\n",
    "result = a / b\n",
    "print(result)"
   ]
  },
  {
   "cell_type": "code",
   "execution_count": 35,
   "id": "60379d15-9ed3-47c8-bddd-83c6e0ecfbc9",
   "metadata": {},
   "outputs": [
    {
     "name": "stdout",
     "output_type": "stream",
     "text": [
      "0\n"
     ]
    }
   ],
   "source": [
    "# Division2 (//)\n",
    "a = 4\n",
    "b = 5\n",
    "result = a // b\n",
    "print(result)"
   ]
  },
  {
   "cell_type": "code",
   "execution_count": 36,
   "id": "ab948996-1d6e-48a7-8f18-9461445d77a4",
   "metadata": {},
   "outputs": [
    {
     "name": "stdout",
     "output_type": "stream",
     "text": [
      "2\n"
     ]
    }
   ],
   "source": [
    "# Modulus (%), the remainder of division\n",
    "a  = 23\n",
    "b = 7\n",
    "result = a % b\n",
    "print(result)\n"
   ]
  },
  {
   "cell_type": "code",
   "execution_count": 38,
   "id": "99fb3dbb-4cd9-40b1-8868-6852f4a44a55",
   "metadata": {},
   "outputs": [
    {
     "name": "stdout",
     "output_type": "stream",
     "text": [
      "32\n",
      "25\n"
     ]
    }
   ],
   "source": [
    "# Exponentiation (**)\n",
    "a = 2\n",
    "b = 5\n",
    "result = a ** b\n",
    "print(result)\n",
    "b **= a\n",
    "print(b)"
   ]
  },
  {
   "cell_type": "code",
   "execution_count": 45,
   "id": "9c09a605-75ef-46a6-932b-90b18190249f",
   "metadata": {},
   "outputs": [
    {
     "name": "stdin",
     "output_type": "stream",
     "text": [
      "Enter 1st number:  2\n",
      "Enter 2nd number:  2\n"
     ]
    },
    {
     "name": "stdout",
     "output_type": "stream",
     "text": [
      "4\n"
     ]
    }
   ],
   "source": [
    "# Samples of Arithmatic Operations\n",
    "a = int(input(\"Enter 1st number: \"))\n",
    "b = int(input(\"Enter 2nd number: \"))\n",
    "result = a + b\n",
    "print(result)"
   ]
  },
  {
   "cell_type": "code",
   "execution_count": 50,
   "id": "b7d3b8c2-5a00-4805-aaa3-a3459b145e46",
   "metadata": {},
   "outputs": [
    {
     "name": "stdin",
     "output_type": "stream",
     "text": [
      "Enter a radius:  8\n"
     ]
    },
    {
     "name": "stdout",
     "output_type": "stream",
     "text": [
      "Area of circle is 78.977312\n"
     ]
    },
    {
     "name": "stdin",
     "output_type": "stream",
     "text": [
      "Enter a rectangle width:  5\n",
      "Enter a rectangle height:  4\n"
     ]
    },
    {
     "name": "stdout",
     "output_type": "stream",
     "text": [
      "Rectangle area is 20 and its perimeter is 18\n"
     ]
    }
   ],
   "source": [
    "# Handson Activity 1\n",
    "# 1a: get the radius from user, calculate the area of a circle\n",
    "# 1b: get the width and height from user, calculate the area of rectangle\n",
    "# 1c: get the width and height from user, calculate the perimeter of rectangle\n",
    "radius = int(input(\"Enter a radius: \"))\n",
    "circle_area = radius * 3.142 ** 2\n",
    "print(\"Area of circle is \" + str(circle_area))\n",
    "width = int(input(\"Enter a rectangle width: \"))\n",
    "height = int(input(\"Enter a rectangle height: \"))\n",
    "rectangle_area = width * height\n",
    "rectangle_perimeter = (2 * width) + (2 * height)\n",
    "print(\"Rectangle area is \" + str(rectangle_area) + \" and its perimeter is \" + str(rectangle_perimeter))"
   ]
  },
  {
   "cell_type": "code",
   "execution_count": 57,
   "id": "84c50772-c74c-4971-9ad4-391d5f27f594",
   "metadata": {},
   "outputs": [
    {
     "name": "stdout",
     "output_type": "stream",
     "text": [
      "Please enter the following inputs to get the Compound Interest\n"
     ]
    },
    {
     "name": "stdin",
     "output_type": "stream",
     "text": [
      "Enter initial principal balance: 100\n",
      "Enter interest rate: 0.1\n",
      "Enter number of times interest applied per year: 2\n",
      "Enter time (years): 1\n"
     ]
    },
    {
     "name": "stdout",
     "output_type": "stream",
     "text": [
      "The compound is 110.25\n"
     ]
    }
   ],
   "source": [
    "print(\"Please enter the following inputs to get the Compound Interest\")\n",
    "P = int(input(\"Enter initial principal balance:\"))\n",
    "r = float(input(\"Enter interest rate:\"))\n",
    "n = int(input(\"Enter number of times interest applied per year:\"))\n",
    "t = int(input(\"Enter time (years):\"))\n",
    "amount = P * (1 + (r / n)) ** (n * t)\n",
    "print(\"The compound is \" + str(amount))"
   ]
  },
  {
   "cell_type": "markdown",
   "id": "4da7bef3-4a6b-4f1b-843d-bc3f67777c94",
   "metadata": {},
   "source": [
    "## Comparison Operators"
   ]
  },
  {
   "cell_type": "code",
   "execution_count": 77,
   "id": "1518571a-e683-439a-a2a4-6a4632adf8a4",
   "metadata": {},
   "outputs": [
    {
     "name": "stdout",
     "output_type": "stream",
     "text": [
      "False\n",
      "True\n",
      "False\n",
      "True\n",
      "True\n",
      "True\n"
     ]
    }
   ],
   "source": [
    "# LHS: Left Hand Side: Right Hand Side\n",
    "print(2 > 3) # check if LHS more than RHS\n",
    "print(2 >= 2) # check if LHS more than or equal RHS\n",
    "print(2 < 2) # check if LHS less than RHS\n",
    "print(2 <= 3) # check if LHS less than or equal RHS\n",
    "print(2 == 2) # check if LHS is equal to RHS\n",
    "print(2 != 3) # check if LHS is not equal to RHS"
   ]
  },
  {
   "cell_type": "code",
   "execution_count": 80,
   "id": "afb25929-dba8-4dc9-94f2-9c7004fb92f5",
   "metadata": {},
   "outputs": [
    {
     "name": "stdout",
     "output_type": "stream",
     "text": [
      "True\n",
      "True\n",
      "True\n",
      "True\n",
      "True\n",
      "True\n"
     ]
    }
   ],
   "source": [
    "# EXER: Utilise all 6 comparison operatiosr, try to get the output of True for all of tehm\n",
    "print(2 > 0) # check if LHS more than RHS\n",
    "print(2 >= 2) # check if LHS more than or equal RHS\n",
    "print(2 < 5) # check if LHS less than RHS\n",
    "print(2 <= 3) # check if LHS less than or equal RHS\n",
    "print(2 == 2) # check if LHS is equal to RHS\n",
    "print(2 != 3) # check if LHS is not equal to RHS"
   ]
  },
  {
   "cell_type": "markdown",
   "id": "72e22c7a-deb9-4bd6-95ee-3c5f1cd17eff",
   "metadata": {},
   "source": [
    "## 2.3 Logical Operator\n",
    "- **and**: Return TRUE if both statements (LHS, RHS) are true\n",
    "- **or**: Return TRUE if one of the statements (LHS, RHS) are true\n",
    "- **not**: Reverse the result, return FALSE if result is true"
   ]
  },
  {
   "cell_type": "code",
   "execution_count": 82,
   "id": "1a04755b-d667-4b5c-a71d-3fc599e37d13",
   "metadata": {},
   "outputs": [
    {
     "name": "stdout",
     "output_type": "stream",
     "text": [
      "True\n",
      "False\n"
     ]
    }
   ],
   "source": [
    "# Examples for AND (both LHS & RHS need to be True)\n",
    "# Example 1\n",
    "a = True\n",
    "b = True\n",
    "print(a and b) # Output: True\n",
    "# Example 2\n",
    "c = True\n",
    "d = False\n",
    "print(c and d) # False"
   ]
  },
  {
   "cell_type": "code",
   "execution_count": 83,
   "id": "810b1dcd-0ea0-4098-9075-099c39ceb655",
   "metadata": {},
   "outputs": [
    {
     "name": "stdout",
     "output_type": "stream",
     "text": [
      "True\n",
      "True\n"
     ]
    }
   ],
   "source": [
    "# Examples for OR (Either LHS or RHS need to be True)\n",
    "# Example 1\n",
    "a = True\n",
    "b = True\n",
    "print(a or b) # Output: True\n",
    "# Example 2\n",
    "c = True\n",
    "d = False\n",
    "print(c or d) # False"
   ]
  },
  {
   "cell_type": "code",
   "execution_count": 90,
   "id": "87a0d9b0-4a91-46f4-9f1b-95bb690e4f6f",
   "metadata": {},
   "outputs": [
    {
     "name": "stdout",
     "output_type": "stream",
     "text": [
      "False\n"
     ]
    }
   ],
   "source": [
    "# Examples for NOT (Inverse original boolean value)\n",
    "# Example 1\n",
    "a = True\n",
    "\n",
    "print(not not not a) # Output: False\n"
   ]
  },
  {
   "cell_type": "markdown",
   "id": "f0898c21-d5fc-4405-8d2b-26c669c45b35",
   "metadata": {},
   "source": [
    "# 3. Control Flow Statement\n",
    "3.1: Conditional Statements <br>\n",
    "3.1.1: if  \n",
    "3.1.2: if-else  \n",
    "3.1.3: if-elif-else  \n",
    "3.1.4: nested if-else  \n",
    "3.2 Iterative Statement  \n",
    "3.2.1: for  \n",
    "3.2.2: while  \n",
    "3.3: Transfer statement  \n",
    "3.3.1: break\n",
    "3.3.2: continue  \n",
    "3.3.3: pass\n"
   ]
  },
  {
   "cell_type": "code",
   "execution_count": 92,
   "id": "d7c9a6d8-f6a8-45ab-9846-7efb5e57d012",
   "metadata": {},
   "outputs": [
    {
     "name": "stdout",
     "output_type": "stream",
     "text": [
      "NOT ADULT\n"
     ]
    }
   ],
   "source": [
    "# if\n",
    "age = 17\n",
    "if age >= 18:\n",
    "    print(\"ADULT\")"
   ]
  },
  {
   "cell_type": "code",
   "execution_count": 95,
   "id": "a609e208-97c8-48d2-b991-54b7641a208a",
   "metadata": {},
   "outputs": [
    {
     "name": "stdin",
     "output_type": "stream",
     "text": [
      "Enter a number:  8\n"
     ]
    },
    {
     "name": "stdout",
     "output_type": "stream",
     "text": [
      "D\n"
     ]
    }
   ],
   "source": [
    "# EXER: get the score from user, print D if the score is < 50\n",
    "i = int(input(\"Enter a number: \"))\n",
    "if i < 50:\n",
    "    print(\"D\")"
   ]
  },
  {
   "cell_type": "code",
   "execution_count": 97,
   "id": "0884f641-932c-42ed-8850-1e1bd9c17f7a",
   "metadata": {},
   "outputs": [
    {
     "name": "stdout",
     "output_type": "stream",
     "text": [
      "CHILD\n"
     ]
    }
   ],
   "source": [
    "# if-else\n",
    "age = 17\n",
    "if age >= 18:\n",
    "    print(\"ADULT\")\n",
    "else:\n",
    "    print(\"CHILD\")"
   ]
  },
  {
   "cell_type": "code",
   "execution_count": 99,
   "id": "6003d499-5018-4ab1-8c81-38843d93a236",
   "metadata": {},
   "outputs": [
    {
     "name": "stdin",
     "output_type": "stream",
     "text": [
      "Enter a score:  99\n"
     ]
    },
    {
     "name": "stdout",
     "output_type": "stream",
     "text": [
      "Pass\n"
     ]
    }
   ],
   "source": [
    "# EXER: get the score from user, print pass if the score is >= 50, otherwise fail\n",
    "i = int(input(\"Enter a score: \"))\n",
    "if i < 50:\n",
    "    print(\"Fail\")\n",
    "else:\n",
    "    print(\"Pass\");"
   ]
  },
  {
   "cell_type": "code",
   "execution_count": 104,
   "id": "6f66cb07-6013-4709-9c4e-63e54919b77d",
   "metadata": {},
   "outputs": [
    {
     "name": "stdout",
     "output_type": "stream",
     "text": [
      "Adult\n"
     ]
    }
   ],
   "source": [
    "# 3.1.1 if-leif-else\n",
    "age = 19\n",
    "if age >= 18:\n",
    "    print(\"Adult\")\n",
    "elif age >= 13 and age < 18:\n",
    "    print(\"teen\")\n",
    "else:\n",
    "    print(\"child\")\n",
    "\n",
    "    "
   ]
  },
  {
   "cell_type": "code",
   "execution_count": 106,
   "id": "c47b04ea-0d9e-4cae-98d1-db73d7463cf0",
   "metadata": {},
   "outputs": [
    {
     "name": "stdin",
     "output_type": "stream",
     "text": [
      "Enter a score:  87\n"
     ]
    },
    {
     "name": "stdout",
     "output_type": "stream",
     "text": [
      "A\n"
     ]
    }
   ],
   "source": [
    "# EXER: get score from user\n",
    "# fail is < 50, C between 50 - 64, B between 65 and 74 and A between 75 to 80\n",
    "score = int(input(\"Enter a score: \"))\n",
    "if score < 50:\n",
    "    print(\"Fail\");\n",
    "elif score >= 50 and score < 65:\n",
    "    print (\"C\")\n",
    "elif score >= 65 and score < 75:\n",
    "    print(\"B\")\n",
    "elif score >= 75 and score <= 80:\n",
    "    print(\"A-\")\n",
    "else:\n",
    "    print(\"A\")"
   ]
  },
  {
   "cell_type": "code",
   "execution_count": 109,
   "id": "4160ef21-98bf-47fc-86dd-fa1c1d8443e8",
   "metadata": {},
   "outputs": [
    {
     "name": "stdout",
     "output_type": "stream",
     "text": [
      "num1 is negative number\n"
     ]
    }
   ],
   "source": [
    "# 3.1.4 Nested if-else\n",
    "num1 = -1\n",
    "if(num1 != 0):\n",
    "    if(num1 > 0):\n",
    "        print(\"num1 is positive number\")\n",
    "    else:\n",
    "        print(\"num1 is negative number\")\n",
    "else:\n",
    "    print(\"number is not + or -\")"
   ]
  },
  {
   "cell_type": "code",
   "execution_count": 111,
   "id": "e8836b91-e07e-46e0-9305-3bc7ee0f2d1f",
   "metadata": {},
   "outputs": [
    {
     "name": "stdin",
     "output_type": "stream",
     "text": [
      "Enter a floting point number 0.00\n"
     ]
    },
    {
     "name": "stdout",
     "output_type": "stream",
     "text": [
      "number is not + or -\n"
     ]
    }
   ],
   "source": [
    "# EXER: get float from user, using nested if-else\n",
    "# determine wheter the number is zero ir positive or negatvie\n",
    "num1 = float(input(\"Enter a floting point number\"))\n",
    "if(num1 != 0):\n",
    "    if(num1 > 0):\n",
    "        print(\"num1 is positive number\")\n",
    "    else:\n",
    "        print(\"num1 is negative number\")\n",
    "else:\n",
    "    print(\"number is not + or -\")"
   ]
  },
  {
   "cell_type": "code",
   "execution_count": 113,
   "id": "c91d2956-820a-404a-86e9-c9a4225c3ede",
   "metadata": {},
   "outputs": [
    {
     "name": "stdout",
     "output_type": "stream",
     "text": [
      "D\n",
      "C\n",
      "B\n",
      "A\n"
     ]
    }
   ],
   "source": [
    "# 3.2.1 FOR loop\n",
    "# Example 1\n",
    "grades = [\"D\", \"C\", \"B\", \"A\"]\n",
    "for grade in grades:\n",
    "    print (grade)"
   ]
  },
  {
   "cell_type": "code",
   "execution_count": 115,
   "id": "4a841049-2112-446d-873a-c69e486c5154",
   "metadata": {},
   "outputs": [
    {
     "name": "stdout",
     "output_type": "stream",
     "text": [
      "7\n",
      "9\n",
      "11\n",
      "13\n",
      "15\n"
     ]
    }
   ],
   "source": [
    "# Example 3.2.1b\n",
    "ages = [7, 9, 11, 13, 15]\n",
    "for age in ages:\n",
    "    print(age)"
   ]
  },
  {
   "cell_type": "code",
   "execution_count": 117,
   "id": "40f2caa0-8e5c-4638-ac59-911c8e165e30",
   "metadata": {},
   "outputs": [
    {
     "name": "stdout",
     "output_type": "stream",
     "text": [
      "2\n",
      "3\n",
      "5\n",
      "7\n",
      "11\n",
      "13\n",
      "17\n",
      "19\n",
      "23\n",
      "31\n"
     ]
    }
   ],
   "source": [
    "# Exercise Find 10 prime numbers, store them in a list, then print them out suing for-loop\n",
    "primes = [2, 3, 5, 7, 11, 13, 17, 19, 23, 31]\n",
    "for prime in primes:\n",
    "    print(prime)\n"
   ]
  },
  {
   "cell_type": "code",
   "execution_count": 142,
   "id": "38cc5614-2b25-41e6-872f-f122470e8f3a",
   "metadata": {},
   "outputs": [
    {
     "name": "stdout",
     "output_type": "stream",
     "text": [
      "2\n",
      "8\n",
      "34\n",
      "144\n",
      "610\n",
      "2584\n",
      "10946\n",
      "46368\n",
      "196418\n",
      "832040\n",
      "3524578\n",
      "14930352\n",
      "63245986\n",
      "267914296\n",
      "1134903170\n"
     ]
    }
   ],
   "source": [
    "# Find 15 numbers from fibonacci sequence\n",
    "# Idemtofu amy number that is even the it it out\n",
    "n = 10\n",
    "num1 = 0\n",
    "num2 = 1\n",
    "next_number = num2  \n",
    "count = 0\n",
    "\n",
    "for f in range(0, 100):\n",
    "    # print (f)\n",
    "    # print(next_number, end=\" \")\n",
    "    num1, num2 = num2, next_number\n",
    "    next_number = num1 + num2\n",
    "    if(next_number % 2 == 0):\n",
    "        count += 1\n",
    "        print(next_number)\n",
    "        if(count == 15):\n",
    "            break\n",
    " "
   ]
  },
  {
   "cell_type": "code",
   "execution_count": 143,
   "id": "1dbd8be2-5bbc-4b51-a445-f1b675b37d17",
   "metadata": {},
   "outputs": [
    {
     "name": "stdin",
     "output_type": "stream",
     "text": [
      "Your company name:  CIAST\n",
      "Your position:  LECTURE\n"
     ]
    },
    {
     "name": "stdout",
     "output_type": "stream",
     "text": [
      "CIAST LECTURE\n"
     ]
    }
   ],
   "source": [
    "# EXER: User 2 variables to store your company and position. Then print them together\n",
    "name = str(input(\"Your company name: \"))\n",
    "position = str(input(\"Your position: \"))\n",
    "print(name + \" \" + position)"
   ]
  },
  {
   "cell_type": "code",
   "execution_count": 3,
   "id": "3bdd0030-75dd-48a4-ad51-b98eca3067e0",
   "metadata": {},
   "outputs": [
    {
     "name": "stdin",
     "output_type": "stream",
     "text": [
      "Enter a number:  -4\n"
     ]
    },
    {
     "name": "stdout",
     "output_type": "stream",
     "text": [
      "-\n"
     ]
    }
   ],
   "source": [
    "x = int(input(\"Enter a number: \"))\n",
    "sign = '-' if x < 0 else ('+' if x > 0 else 'Zero')\n",
    "print(sign)\n"
   ]
  },
  {
   "cell_type": "code",
   "execution_count": 5,
   "id": "dd9b782b-5455-40e1-a625-273b81981240",
   "metadata": {},
   "outputs": [
    {
     "name": "stdout",
     "output_type": "stream",
     "text": [
      "0\n",
      "1\n",
      "2\n",
      "3\n",
      "4\n",
      "1\n",
      "3\n",
      "5\n",
      "7\n"
     ]
    }
   ],
   "source": [
    "# 3.2.1 FOR Loop\n",
    "# Example 3.2.1b\n",
    "# Example with range\n",
    "for i in range(5):\n",
    "    print(i)\n",
    "for j in range(1, 8, 2):\n",
    "    print(j)"
   ]
  },
  {
   "cell_type": "code",
   "execution_count": 15,
   "id": "4660793b-9112-4ba8-835d-de4ca4f84dcc",
   "metadata": {},
   "outputs": [
    {
     "name": "stdout",
     "output_type": "stream",
     "text": [
      "0 2 4 6 8 10 12 14 16 18 20 22 24 26 28 30 32 34 36 38 40 42 44 46 48 50 52 54 56 58 60 62 64 66 68 70 72 74 76 78 80 82 84 86 88 90 92 94 96 98 100 \n",
      "Total: 2550\n"
     ]
    }
   ],
   "source": [
    "# Exercise: Calculate sum of even numbers from 0 to 100 (inclusive of 100). Use range() & FOR loop\n",
    "total = 0\n",
    "for num in range(0, 101, 2):\n",
    "    print(num, end=' ')\n",
    "    total = total + num\n",
    "print(\"\\nTotal: \" + str(total))\n"
   ]
  },
  {
   "cell_type": "code",
   "execution_count": 18,
   "id": "c660c918-9125-4cb9-9dbe-e7f01c0b67db",
   "metadata": {},
   "outputs": [
    {
     "name": "stdout",
     "output_type": "stream",
     "text": [
      "0 durian\n",
      "1 rambuan\n",
      "2 manggis\n",
      "rambuan\n",
      "manggis\n"
     ]
    }
   ],
   "source": [
    "# 3.2.1 FOR Loop\n",
    "# Example 3.2.1c ENUMERATE()\n",
    "# Example with range\n",
    "fruits = ['durian', 'rambuan', 'manggis']\n",
    "for index, fruit in enumerate(fruits):\n",
    "    print(index, fruit)\n",
    "# Sample: access the value of rambutan\n",
    "print(fruits[1])\n",
    "# Exer: access to print out the value of manggis\n",
    "print(fruits[2])"
   ]
  },
  {
   "cell_type": "code",
   "execution_count": 20,
   "id": "a953eaab-abb5-48f6-bf65-47f78716502e",
   "metadata": {},
   "outputs": [
    {
     "name": "stdout",
     "output_type": "stream",
     "text": [
      "0\n",
      "1\n",
      "2\n",
      "3\n",
      "4\n"
     ]
    }
   ],
   "source": [
    "# 3.2.2 WHILE LOOP\n",
    "# Example: Basic while loop\n",
    "count = 0\n",
    "while count < 5: # check if leff than 5 every loop\n",
    "    print(count)\n",
    "    count += 1"
   ]
  },
  {
   "cell_type": "code",
   "execution_count": 27,
   "id": "d4102fb8-3a6c-4ce1-b906-17d7d8a9f74c",
   "metadata": {},
   "outputs": [
    {
     "name": "stdout",
     "output_type": "stream",
     "text": [
      "4\n",
      "6\n",
      "8\n",
      "10\n"
     ]
    }
   ],
   "source": [
    "# Exer: print out even numbers from 4 to 10 using while loop only\n",
    "num = 4\n",
    "while num <= 10:\n",
    "    print(num)\n",
    "    num += 2\n",
    "    "
   ]
  },
  {
   "cell_type": "code",
   "execution_count": null,
   "id": "8b0c29d9-7af4-4a0c-afb2-80a2e75dc8bc",
   "metadata": {},
   "outputs": [],
   "source": []
  }
 ],
 "metadata": {
  "kernelspec": {
   "display_name": "Python 3 (ipykernel)",
   "language": "python",
   "name": "python3"
  },
  "language_info": {
   "codemirror_mode": {
    "name": "ipython",
    "version": 3
   },
   "file_extension": ".py",
   "mimetype": "text/x-python",
   "name": "python",
   "nbconvert_exporter": "python",
   "pygments_lexer": "ipython3",
   "version": "3.12.4"
  }
 },
 "nbformat": 4,
 "nbformat_minor": 5
}
