{
 "cells": [
  {
   "cell_type": "markdown",
   "id": "af2bae84-4e45-47ee-ae8c-6fe79abdc59a",
   "metadata": {
    "editable": true,
    "slideshow": {
     "slide_type": ""
    },
    "tags": []
   },
   "source": [
    "# Part 1: Python Exception Handling"
   ]
  },
  {
   "cell_type": "markdown",
   "id": "77791865-1712-4754-8179-4e5258690f45",
   "metadata": {},
   "source": [
    "## Section 1: Introduction to Try and Except\n",
    "Description: The try and except block in Python is used to handle exceptions, which are errors detected during code execution.l When an error occurs. Python will stop and generate an error message. The try block lets you test run a block of codes to see if there is any errors, the except block will let you handle the error.\n",
    "\n",
    "Concept:\n",
    "1. Basci Try and Except:\n",
    "\n",
    "- try: The block of code to be test run for errors\n",
    "- except: The blok of code to handle any errors that eppear from running the try"
   ]
  },
  {
   "cell_type": "code",
   "execution_count": 2,
   "id": "4180107b-a45a-4f0e-b02a-8efe005129f0",
   "metadata": {},
   "outputs": [
    {
     "ename": "TypeError",
     "evalue": "can only concatenate str (not \"int\") to str",
     "output_type": "error",
     "traceback": [
      "\u001b[1;31m---------------------------------------------------------------------------\u001b[0m",
      "\u001b[1;31mTypeError\u001b[0m                                 Traceback (most recent call last)",
      "Cell \u001b[1;32mIn[2], line 2\u001b[0m\n\u001b[0;32m      1\u001b[0m \u001b[38;5;66;03m# Without Exception Handling using Try-Except\u001b[39;00m\n\u001b[1;32m----> 2\u001b[0m \u001b[38;5;28mprint\u001b[39m(\u001b[38;5;124m\"\u001b[39m\u001b[38;5;124mHello\u001b[39m\u001b[38;5;124m\"\u001b[39m \u001b[38;5;241m+\u001b[39m \u001b[38;5;241m1\u001b[39m)\n",
      "\u001b[1;31mTypeError\u001b[0m: can only concatenate str (not \"int\") to str"
     ]
    }
   ],
   "source": [
    "# Without Exception Handling using Try-Except\n",
    "print(\"Hello\" + 1)"
   ]
  },
  {
   "cell_type": "code",
   "execution_count": 3,
   "id": "f6c232e8-30a6-409d-8763-809eb9f6a238",
   "metadata": {},
   "outputs": [
    {
     "name": "stdout",
     "output_type": "stream",
     "text": [
      "Dont mix with string and integer\n"
     ]
    }
   ],
   "source": [
    "# With Exception Handling\n",
    "try:\n",
    "    print(\"Hello\" + 1)\n",
    "except TypeError:\n",
    "    print(\"Dont mix with string and integer\")"
   ]
  },
  {
   "cell_type": "code",
   "execution_count": 5,
   "id": "b6a6c0db-1090-4ae9-9222-5d0944e104c5",
   "metadata": {},
   "outputs": [
    {
     "name": "stdout",
     "output_type": "stream",
     "text": [
      "Don't devide by zero\n"
     ]
    }
   ],
   "source": [
    "# Excercise: Handling error ZeroDivisionError\n",
    "try:\n",
    "    x = 0 /0\n",
    "except ZeroDivisionError:\n",
    "    print(\"Don't devide by zero\")"
   ]
  },
  {
   "cell_type": "code",
   "execution_count": 6,
   "id": "26db1392-83d7-489b-811c-73db1624b2c4",
   "metadata": {},
   "outputs": [
    {
     "ename": "TypeError",
     "evalue": "can only concatenate str (not \"int\") to str",
     "output_type": "error",
     "traceback": [
      "\u001b[1;31m---------------------------------------------------------------------------\u001b[0m",
      "\u001b[1;31mTypeError\u001b[0m                                 Traceback (most recent call last)",
      "Cell \u001b[1;32mIn[6], line 1\u001b[0m\n\u001b[1;32m----> 1\u001b[0m \u001b[38;5;28mprint\u001b[39m(\u001b[38;5;124m\"\u001b[39m\u001b[38;5;124mHello\u001b[39m\u001b[38;5;124m\"\u001b[39m \u001b[38;5;241m+\u001b[39m \u001b[38;5;241m1\u001b[39m)\n",
      "\u001b[1;31mTypeError\u001b[0m: can only concatenate str (not \"int\") to str"
     ]
    }
   ],
   "source": [
    "print(\"Hello\" + 1)"
   ]
  },
  {
   "cell_type": "markdown",
   "id": "327a80d4-2241-4d4a-a389-5c1a1ec91cf6",
   "metadata": {},
   "source": [
    "### Section 2: Catching Multiple Specific Exceptions\n",
    "Description: You can catch multiple exceptoins and handle each one differently. This allow for more specific error handling.\n",
    "\n",
    "Concepts:\n",
    "1. use multiple except + errorName to catch multiple specific Exceptions:all"
   ]
  },
  {
   "cell_type": "code",
   "execution_count": 7,
   "id": "1db5f411-7119-4b49-b376-4daa2f8ec1f8",
   "metadata": {},
   "outputs": [
    {
     "name": "stdout",
     "output_type": "stream",
     "text": [
      "dont print string and integer\n"
     ]
    }
   ],
   "source": [
    "try:\n",
    "    print(\"Hello\" + 1)\n",
    "    print(1 / 0)\n",
    "except TypeError:\n",
    "    print (\"dont print string and integer\")\n",
    "except ZeroDivisionError:\n",
    "    print (\"Dont divide by 0\")"
   ]
  },
  {
   "cell_type": "code",
   "execution_count": 1,
   "id": "0b7c0b97-b28c-439f-9933-4e275e566fa6",
   "metadata": {},
   "outputs": [
    {
     "name": "stdin",
     "output_type": "stream",
     "text": [
      "Give integer 1: 1\n",
      "Give integer 2: 2\n"
     ]
    }
   ],
   "source": [
    "try:\n",
    "    int1 = int(input(\"Give integer 1:\"))\n",
    "    int2 = int(input(\"Give integer 2:\"))\n",
    "    result = int1 / int2\n",
    "except ValueError:\n",
    "    print(\"Integer only\")\n",
    "except ZeroDivisionError:\n",
    "    print(\"No division by zero\")\n",
    "    "
   ]
  },
  {
   "cell_type": "markdown",
   "id": "077cd58a-65e2-47ab-97cd-f8193bd13624",
   "metadata": {},
   "source": [
    "## Section 4: Using Finally with Try and Except\n",
    "Description: The finally block allows you to execute codes, regardless of the result of the try and except blocks. \n",
    "<br>finally: Executes no matter what, even if an exceptoin is raised/error occurs"
   ]
  },
  {
   "cell_type": "code",
   "execution_count": 9,
   "id": "3629179c-182e-4b1a-afa4-688d1edc02bc",
   "metadata": {},
   "outputs": [
    {
     "name": "stdout",
     "output_type": "stream",
     "text": [
      "Division by zero\n",
      "This alway run\n"
     ]
    }
   ],
   "source": [
    "try:\n",
    "    result = 10 / 2\n",
    "    result = 10 / 0\n",
    "except ZeroDivisionError:\n",
    "    print(\"Division by zero\")\n",
    "finally:\n",
    "    print(\"This alway run\")"
   ]
  },
  {
   "cell_type": "code",
   "execution_count": 17,
   "id": "729800ba-c515-4e93-a1f7-073a87219946",
   "metadata": {},
   "outputs": [
    {
     "name": "stdin",
     "output_type": "stream",
     "text": [
      "Give integer 1: 1\n",
      "Give integer 2: 0\n"
     ]
    },
    {
     "name": "stdout",
     "output_type": "stream",
     "text": [
      "Dont divide by 0\n",
      "Thhank\n"
     ]
    }
   ],
   "source": [
    "# Exercise: Get 2 integers input from user and perform division\n",
    "# Catch all possible errors\n",
    "# print the result of division if no errors\n",
    "# print msg to thank user with / without eException\n",
    "\n",
    "try:\n",
    "    int1 = int(input(\"Give integer 1:\"))\n",
    "    int2 = int(input(\"Give integer 2:\"))\n",
    "    result = int1 / int2\n",
    "    print(f\"Answer: {result}\")\n",
    "except TypeError:\n",
    "    print (\"dont print string and integer\")\n",
    "except ZeroDivisionError:\n",
    "    print (\"Dont divide by 0\")\n",
    "except ValueError:\n",
    "    print(\"Value error\")\n",
    "finally:\n",
    "    print(\"Thhank\")"
   ]
  },
  {
   "cell_type": "markdown",
   "id": "28466590-b4f1-4491-ad22-9b96776042bb",
   "metadata": {},
   "source": [
    "## Section 5: Raising Exceptions\n",
    "DEsciption: You can use raise <br>\n",
    "Use raise to trigger an exception \n"
   ]
  },
  {
   "cell_type": "code",
   "execution_count": 29,
   "id": "e65165ac-2f67-4866-807d-e4bfe9c839da",
   "metadata": {},
   "outputs": [
    {
     "name": "stdout",
     "output_type": "stream",
     "text": [
      "An error has occured Negative Value is not allowed\n"
     ]
    }
   ],
   "source": [
    "try:\n",
    "    x = -1\n",
    "    if x < 0:\n",
    "        raise ZeroDivisionError(\"Negative Value is not allowed\")\n",
    "except ZeroDivisionError as ze:\n",
    "    print(f\"An error has occured {ze}\")"
   ]
  },
  {
   "cell_type": "markdown",
   "id": "d5875a92-564a-45e4-afbb-876b305eebea",
   "metadata": {},
   "source": [
    "## Part 2: Python File I/O\n",
    "Description: Opening a file is the first step in file I/O operations. You can open a file in various modes such as reading, writing, appending etc.\n",
    "\n",
    "- r: reading\n",
    "- w: writing\n",
    "- a: appending\n",
    "- rb: reading but in binary mode"
   ]
  },
  {
   "cell_type": "code",
   "execution_count": 65,
   "id": "854596c9-8e69-4226-976d-292116a78f8e",
   "metadata": {},
   "outputs": [
    {
     "name": "stdout",
     "output_type": "stream",
     "text": [
      "test are you? are you?\n"
     ]
    }
   ],
   "source": [
    "# Pening a file for eading (default mode)\n",
    "file = open(\"example.txt\", 'r')\n",
    "print(file.read())\n",
    "\n",
    "# Opening a file for writing (Create a new file or truncates existing file)\n",
    "file = open(\"test.txt\", \"w\")\n",
    "file.write(\" are you?\")\n",
    "\n",
    "# Opening a file for appending (adds to the end of the file)\n",
    "file = open(\"example.txt\", \"a\")\n",
    "file.write(\" are you OK?\")\n",
    "\n",
    "# OPening a file in binary mode\n",
    "file = open(\"example.txt\", \"rb\")"
   ]
  },
  {
   "cell_type": "markdown",
   "id": "49219311-f1fe-4e7a-b9c5-4325879643e6",
   "metadata": {},
   "source": [
    "## Section 2: Reading Files\n",
    "- read(): Reads the entire file content\n",
    "- readline(): Read one line at a time\n",
    "- readlines(): Read all lines into a list"
   ]
  },
  {
   "cell_type": "code",
   "execution_count": 68,
   "id": "7785c219-470e-49ba-b8a5-d33d49a27057",
   "metadata": {},
   "outputs": [
    {
     "name": "stdout",
     "output_type": "stream",
     "text": [
      "Main di kolam bersama itik\n",
      "Adik kecil malah tersandung\n",
      "Wahai engkau nona cantik\n",
      "Apa yang membuatmu murung?\n"
     ]
    }
   ],
   "source": [
    "# make sure you copy paste a pantun inside the pantun.txt\n",
    "with open(\"pantun.txt\", \"r\") as file:\n",
    "    content = file.read()\n",
    "    print(content)"
   ]
  },
  {
   "cell_type": "code",
   "execution_count": 72,
   "id": "576e85ec-c3e2-4762-a15f-c6faeb65ff22",
   "metadata": {},
   "outputs": [
    {
     "name": "stdout",
     "output_type": "stream",
     "text": [
      "Main di kolam bersama itik\n",
      "$Adik kecil malah tersandung\n",
      "$Wahai engkau nona cantik\n",
      "$Apa yang membuatmu murung?$"
     ]
    }
   ],
   "source": [
    "# readline()\n",
    "# Reading line by line\n",
    "with open(\"pantun.txt\") as file:\n",
    "    for line in file:\n",
    "        print(line, end=\"$\")"
   ]
  },
  {
   "cell_type": "code",
   "execution_count": 74,
   "id": "b926168d-fe03-43dc-92f3-2e525d1cec38",
   "metadata": {},
   "outputs": [
    {
     "name": "stdout",
     "output_type": "stream",
     "text": [
      "Main di kolam bersama itik\n",
      "Adik kecil malah tersandung\n",
      "Wahai engkau nona cantik\n",
      "Apa yang membuatmu murung?"
     ]
    }
   ],
   "source": [
    "# Section 2 Point 2 (read line by line)\n",
    "with open(\"pantun.txt\") as file:\n",
    "    line = file.readline()\n",
    "    while line:\n",
    "        print(line, end=\"\")\n",
    "        line = file.readline()"
   ]
  },
  {
   "cell_type": "code",
   "execution_count": 82,
   "id": "0dc93c4a-6afa-48da-97be-330443a69083",
   "metadata": {},
   "outputs": [
    {
     "name": "stdout",
     "output_type": "stream",
     "text": [
      "['Main di kolam bersama itik\\n', 'Adik kecil malah tersandung\\n', 'Wahai engkau nona cantik\\n', 'Apa yang membuatmu murung?']\n",
      "Main di kolam bersama itik\n",
      "Adik kecil malah tersandung\n",
      "Wahai engkau nona cantik\n",
      "Apa yang membuatmu murung?"
     ]
    }
   ],
   "source": [
    "# Section 2 point 3\n",
    "# Readlines()\n",
    "with open(\"pantun.txt\") as file:\n",
    "    line = file.readlines()\n",
    "    print(line)\n",
    "    for l in line:\n",
    "        print(l, end=\"\")"
   ]
  },
  {
   "cell_type": "markdown",
   "id": "906fd255-aa51-4c57-9cd3-61eb7a092460",
   "metadata": {},
   "source": [
    "## Section 3: Writing to Files\n",
    "Descripton: Writing to fles involves adding data to a file. You can write a single string or multiple lines to a file suing various methods\n",
    "\n",
    "- Write(): Write a single string to a file\n",
    "- Writelines(): Writes a list of string to a file"
   ]
  },
  {
   "cell_type": "code",
   "execution_count": 87,
   "id": "dec1eafa-4e1a-485e-911a-5363e9d6654f",
   "metadata": {},
   "outputs": [],
   "source": [
    "# Writing a single stirng to a file\n",
    "# I will use emaple2.txt without creating it beforehand\n",
    "with open(\"exampl2.text\", \"w\") as file:\n",
    "    file.write(\"Hello john\")"
   ]
  },
  {
   "cell_type": "code",
   "execution_count": 98,
   "id": "fd8cd934-943a-423a-bf6d-fc79abe15c61",
   "metadata": {},
   "outputs": [],
   "source": [
    "# Write multiple lines\n",
    "\n",
    "with open(\"exampl2.text\", \"w\") as file:\n",
    "    lines = ['during\\n', 'manggis\\n', 'nangka\\n']\n",
    "    file.writelines(lines)"
   ]
  },
  {
   "cell_type": "markdown",
   "id": "01ed9135-d4eb-4164-a202-e2aa46abbc5c",
   "metadata": {},
   "source": [
    "## Section 4: Apppending to a file\n",
    "Description: Appending to a file is adding data to the end of a file\n",
    "- write(): Write a single string to the end of the file when opened in append mode"
   ]
  },
  {
   "cell_type": "code",
   "execution_count": 103,
   "id": "39d7a953-cc61-4538-84a1-ed2478157dbe",
   "metadata": {},
   "outputs": [],
   "source": [
    "# Appending text\n",
    "with open(\"exampl2.text\", \"a\") as file:\n",
    "    file.write(\"I love manggis too\")"
   ]
  },
  {
   "cell_type": "markdown",
   "id": "34907dfd-cad0-4637-9ae7-3c77792f2e15",
   "metadata": {},
   "source": [
    "## Section 5: Using context manager (\"with\")\n",
    "Description: Using context manager (\"with\" statement) ensure that files are properly opened and closed."
   ]
  },
  {
   "cell_type": "code",
   "execution_count": 107,
   "id": "9a2bacb5-3ec8-4ebd-ae51-383e1648de1a",
   "metadata": {},
   "outputs": [
    {
     "name": "stderr",
     "output_type": "stream",
     "text": [
      "IOPub data rate exceeded.\n",
      "The Jupyter server will temporarily stop sending output\n",
      "to the client in order to avoid crashing it.\n",
      "To change this limit, set the config variable\n",
      "`--ServerApp.iopub_data_rate_limit`.\n",
      "\n",
      "Current values:\n",
      "ServerApp.iopub_data_rate_limit=1000000.0 (bytes/sec)\n",
      "ServerApp.rate_limit_window=3.0 (secs)\n",
      "\n"
     ]
    }
   ],
   "source": [
    "# Reading a binary file\n",
    "with open(\"_FAQ TVETIM.docx\", \"rb\") as file:\n",
    "    b = file.read()\n",
    "    print(b)"
   ]
  },
  {
   "cell_type": "markdown",
   "id": "b5f4943e-ebad-425b-a172-62179cc546e3",
   "metadata": {},
   "source": [
    "##  Section 7: Using seek() and tell()\n",
    "Description: The seek() is used to remove the file pointer to a specific position and tell() retruns the current position of hte file pointer\n",
    "\n",
    "- seek(offset)\n",
    "- tell(): Return the current file point position"
   ]
  },
  {
   "cell_type": "code",
   "execution_count": 112,
   "id": "b87159a3-d116-4dbf-a24a-eaae0af9f664",
   "metadata": {},
   "outputs": [
    {
     "name": "stdout",
     "output_type": "stream",
     "text": [
      "b'g\\r\\nmanggis'\n"
     ]
    }
   ],
   "source": [
    "# use example2.txt \n",
    "# Using seek() to more the file pointer\n",
    "with open(\"exampl2.text\", \"rb\") as file:\n",
    "    file.seek(5)\n",
    "    print(file.read(10))\n",
    "    "
   ]
  },
  {
   "cell_type": "code",
   "execution_count": 116,
   "id": "2c02c20b-dedb-496e-b2e0-7134c648d632",
   "metadata": {},
   "outputs": [
    {
     "name": "stdout",
     "output_type": "stream",
     "text": [
      "0\n",
      "5\n"
     ]
    }
   ],
   "source": [
    "# Using tell\n",
    "with open(\"exampl2.text\", \"rb\") as file:\n",
    "    print(file.tell())\n",
    "    file.seek(5)\n",
    "    print(file.tell())"
   ]
  },
  {
   "cell_type": "code",
   "execution_count": 120,
   "id": "c9f720bb-f4ee-455b-b40c-ae82d6caf506",
   "metadata": {},
   "outputs": [],
   "source": [
    "## Extra Info: Python File I/O without with\n",
    "f= open(\"example4.text\", \"w\")\n",
    "f.write(\"I love strwaberry\")\n",
    "f.close()"
   ]
  },
  {
   "cell_type": "code",
   "execution_count": null,
   "id": "0a775923-ecc7-4403-b534-08a8e7f7cf28",
   "metadata": {},
   "outputs": [],
   "source": []
  }
 ],
 "metadata": {
  "kernelspec": {
   "display_name": "Python 3 (ipykernel)",
   "language": "python",
   "name": "python3"
  },
  "language_info": {
   "codemirror_mode": {
    "name": "ipython",
    "version": 3
   },
   "file_extension": ".py",
   "mimetype": "text/x-python",
   "name": "python",
   "nbconvert_exporter": "python",
   "pygments_lexer": "ipython3",
   "version": "3.12.4"
  }
 },
 "nbformat": 4,
 "nbformat_minor": 5
}
