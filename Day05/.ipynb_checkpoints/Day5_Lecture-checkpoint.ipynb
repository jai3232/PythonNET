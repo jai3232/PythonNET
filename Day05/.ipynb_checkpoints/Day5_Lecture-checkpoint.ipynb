{
 "cells": [
  {
   "cell_type": "markdown",
   "id": "af2bae84-4e45-47ee-ae8c-6fe79abdc59a",
   "metadata": {},
   "source": [
    "# Part 1: Python Exception Handling"
   ]
  },
  {
   "cell_type": "markdown",
   "id": "77791865-1712-4754-8179-4e5258690f45",
   "metadata": {},
   "source": [
    "## Section 1: Introduction to Try and Except\n",
    "Description: The try and except block in Python is used to handle exceptions, which are errors detected during code execution.l When an error occurs. Python will stop and generate an error message. The try block lets you test run a block of codes to see if there is any errors, the except block will let you handle the error.\n",
    "\n",
    "Concept:\n",
    "1. Basci Try and Except:\n",
    "\n",
    "- try: The block of code to be test run for errors\n",
    "- except: The blok of code to handle any errors that eppear from running the try"
   ]
  },
  {
   "cell_type": "code",
   "execution_count": 2,
   "id": "4180107b-a45a-4f0e-b02a-8efe005129f0",
   "metadata": {},
   "outputs": [
    {
     "ename": "TypeError",
     "evalue": "can only concatenate str (not \"int\") to str",
     "output_type": "error",
     "traceback": [
      "\u001b[1;31m---------------------------------------------------------------------------\u001b[0m",
      "\u001b[1;31mTypeError\u001b[0m                                 Traceback (most recent call last)",
      "Cell \u001b[1;32mIn[2], line 2\u001b[0m\n\u001b[0;32m      1\u001b[0m \u001b[38;5;66;03m# Without Exception Handling using Try-Except\u001b[39;00m\n\u001b[1;32m----> 2\u001b[0m \u001b[38;5;28mprint\u001b[39m(\u001b[38;5;124m\"\u001b[39m\u001b[38;5;124mHello\u001b[39m\u001b[38;5;124m\"\u001b[39m \u001b[38;5;241m+\u001b[39m \u001b[38;5;241m1\u001b[39m)\n",
      "\u001b[1;31mTypeError\u001b[0m: can only concatenate str (not \"int\") to str"
     ]
    }
   ],
   "source": [
    "# Without Exception Handling using Try-Except\n",
    "print(\"Hello\" + 1)"
   ]
  },
  {
   "cell_type": "code",
   "execution_count": 3,
   "id": "f6c232e8-30a6-409d-8763-809eb9f6a238",
   "metadata": {},
   "outputs": [
    {
     "name": "stdout",
     "output_type": "stream",
     "text": [
      "Dont mix with string and integer\n"
     ]
    }
   ],
   "source": [
    "# With Exception Handling\n",
    "try:\n",
    "    print(\"Hello\" + 1)\n",
    "except TypeError:\n",
    "    print(\"Dont mix with string and integer\")"
   ]
  },
  {
   "cell_type": "code",
   "execution_count": 5,
   "id": "b6a6c0db-1090-4ae9-9222-5d0944e104c5",
   "metadata": {},
   "outputs": [
    {
     "name": "stdout",
     "output_type": "stream",
     "text": [
      "Don't devide by zero\n"
     ]
    }
   ],
   "source": [
    "# Excercise: Handling error ZeroDivisionError\n",
    "try:\n",
    "    x = 0 /0\n",
    "except ZeroDivisionError:\n",
    "    print(\"Don't devide by zero\")"
   ]
  },
  {
   "cell_type": "code",
   "execution_count": 6,
   "id": "26db1392-83d7-489b-811c-73db1624b2c4",
   "metadata": {},
   "outputs": [
    {
     "ename": "TypeError",
     "evalue": "can only concatenate str (not \"int\") to str",
     "output_type": "error",
     "traceback": [
      "\u001b[1;31m---------------------------------------------------------------------------\u001b[0m",
      "\u001b[1;31mTypeError\u001b[0m                                 Traceback (most recent call last)",
      "Cell \u001b[1;32mIn[6], line 1\u001b[0m\n\u001b[1;32m----> 1\u001b[0m \u001b[38;5;28mprint\u001b[39m(\u001b[38;5;124m\"\u001b[39m\u001b[38;5;124mHello\u001b[39m\u001b[38;5;124m\"\u001b[39m \u001b[38;5;241m+\u001b[39m \u001b[38;5;241m1\u001b[39m)\n",
      "\u001b[1;31mTypeError\u001b[0m: can only concatenate str (not \"int\") to str"
     ]
    }
   ],
   "source": [
    "print(\"Hello\" + 1)"
   ]
  },
  {
   "cell_type": "markdown",
   "id": "327a80d4-2241-4d4a-a389-5c1a1ec91cf6",
   "metadata": {},
   "source": [
    "### Section 2: Catching Multiple Specific Exceptions\n",
    "Description: You can catch multiple exceptoins and handle each one differently. This allow for more specific error handling.\n",
    "\n",
    "Concepts:\n",
    "1. use multiple except + errorName to catch multiple specific Exceptions:all"
   ]
  },
  {
   "cell_type": "code",
   "execution_count": 7,
   "id": "1db5f411-7119-4b49-b376-4daa2f8ec1f8",
   "metadata": {},
   "outputs": [
    {
     "name": "stdout",
     "output_type": "stream",
     "text": [
      "dont print string and integer\n"
     ]
    }
   ],
   "source": [
    "try:\n",
    "    print(\"Hello\" + 1)\n",
    "    print(1 / 0)\n",
    "except TypeError:\n",
    "    print (\"dont print string and integer\")\n",
    "except ZeroDivisionError:\n",
    "    print (\"Dont divide by 0\")"
   ]
  },
  {
   "cell_type": "code",
   "execution_count": 1,
   "id": "0b7c0b97-b28c-439f-9933-4e275e566fa6",
   "metadata": {},
   "outputs": [
    {
     "name": "stdin",
     "output_type": "stream",
     "text": [
      "Give integer 1: 1\n",
      "Give integer 2: 2\n"
     ]
    }
   ],
   "source": [
    "try:\n",
    "    int1 = int(input(\"Give integer 1:\"))\n",
    "    int2 = int(input(\"Give integer 2:\"))\n",
    "    result = int1 / int2\n",
    "except ValueError:\n",
    "    print(\"Integer only\")\n",
    "except ZeroDivisionError:\n",
    "    print(\"No division by zero\")\n",
    "    "
   ]
  },
  {
   "cell_type": "markdown",
   "id": "077cd58a-65e2-47ab-97cd-f8193bd13624",
   "metadata": {},
   "source": [
    "## Section 4: Using Finally with Try and Except\n",
    "Description: The finally block allows you to execute codes, regardless of the result of the try and except blocks. \n",
    "<br>finally: Executes no matter what, even if an exceptoin is raised/error occurs"
   ]
  },
  {
   "cell_type": "code",
   "execution_count": 9,
   "id": "3629179c-182e-4b1a-afa4-688d1edc02bc",
   "metadata": {},
   "outputs": [
    {
     "name": "stdout",
     "output_type": "stream",
     "text": [
      "Division by zero\n",
      "This alway run\n"
     ]
    }
   ],
   "source": [
    "try:\n",
    "    result = 10 / 2\n",
    "    result = 10 / 0\n",
    "except ZeroDivisionError:\n",
    "    print(\"Division by zero\")\n",
    "finally:\n",
    "    print(\"This alway run\")"
   ]
  },
  {
   "cell_type": "code",
   "execution_count": 17,
   "id": "729800ba-c515-4e93-a1f7-073a87219946",
   "metadata": {},
   "outputs": [
    {
     "name": "stdin",
     "output_type": "stream",
     "text": [
      "Give integer 1: 1\n",
      "Give integer 2: 0\n"
     ]
    },
    {
     "name": "stdout",
     "output_type": "stream",
     "text": [
      "Dont divide by 0\n",
      "Thhank\n"
     ]
    }
   ],
   "source": [
    "# Exercise: Get 2 integers input from user and perform division\n",
    "# Catch all possible errors\n",
    "# print the result of division if no errors\n",
    "# print msg to thank user with / without eException\n",
    "\n",
    "try:\n",
    "    int1 = int(input(\"Give integer 1:\"))\n",
    "    int2 = int(input(\"Give integer 2:\"))\n",
    "    result = int1 / int2\n",
    "    print(f\"Answer: {result}\")\n",
    "except TypeError:\n",
    "    print (\"dont print string and integer\")\n",
    "except ZeroDivisionError:\n",
    "    print (\"Dont divide by 0\")\n",
    "except ValueError:\n",
    "    print(\"Value error\")\n",
    "finally:\n",
    "    print(\"Thhank\")"
   ]
  },
  {
   "cell_type": "markdown",
   "id": "28466590-b4f1-4491-ad22-9b96776042bb",
   "metadata": {},
   "source": [
    "## Section 5: Raising Exceptions\n",
    "DEsciption: You can use raise <br>\n",
    "Use raise to trigger an exception \n"
   ]
  },
  {
   "cell_type": "code",
   "execution_count": 29,
   "id": "e65165ac-2f67-4866-807d-e4bfe9c839da",
   "metadata": {},
   "outputs": [
    {
     "name": "stdout",
     "output_type": "stream",
     "text": [
      "An error has occured Negative Value is not allowed\n"
     ]
    }
   ],
   "source": [
    "try:\n",
    "    x = -1\n",
    "    if x < 0:\n",
    "        raise ZeroDivisionError(\"Negative Value is not allowed\")\n",
    "except ZeroDivisionError as ze:\n",
    "    print(f\"An error has occured {ze}\")"
   ]
  },
  {
   "cell_type": "markdown",
   "id": "d5875a92-564a-45e4-afbb-876b305eebea",
   "metadata": {},
   "source": [
    "## Part 2: Python File I/O\n",
    "Description: Opening a file is the first step in file I/O operations. You can open a file in various modes such as reading, writing, appending etc.\n",
    "\n",
    "- r: reading\n",
    "- w: writing\n",
    "- a: appending\n",
    "- rb: reading but in binary mode"
   ]
  },
  {
   "cell_type": "code",
   "execution_count": 58,
   "id": "854596c9-8e69-4226-976d-292116a78f8e",
   "metadata": {},
   "outputs": [
    {
     "name": "stdout",
     "output_type": "stream",
     "text": [
      "test are you?\n"
     ]
    }
   ],
   "source": [
    "# Pening a file for eading (default mode)\n",
    "file = open(\"example.txt\", 'r')\n",
    "print(file.read())\n",
    "\n",
    "# Opening a file for writing (Create a new file or truncates existing file)\n",
    "file = open(\"test.txt\", \"w\")\n",
    "file.write(\" are you?\")\n",
    "\n",
    "# Opening a file for appending (adds to the end of the file)\n",
    "file = open(\"example.txt\", \"a\")\n",
    "file.write(\" are you OK?\")\n",
    "\n",
    "# OPening a file in binary mode\n",
    "file = open(\"example.txt\", \"rb\")"
   ]
  },
  {
   "cell_type": "markdown",
   "id": "49219311-f1fe-4e7a-b9c5-4325879643e6",
   "metadata": {},
   "source": [
    "## Section 2: Reading Files\n",
    "- read(): Reads the entire file content\n",
    "- readline(): Read one line at a time\n",
    "- readlines(): Read all lines into a list"
   ]
  },
  {
   "cell_type": "code",
   "execution_count": null,
   "id": "7785c219-470e-49ba-b8a5-d33d49a27057",
   "metadata": {},
   "outputs": [],
   "source": []
  }
 ],
 "metadata": {
  "kernelspec": {
   "display_name": "Python 3 (ipykernel)",
   "language": "python",
   "name": "python3"
  },
  "language_info": {
   "codemirror_mode": {
    "name": "ipython",
    "version": 3
   },
   "file_extension": ".py",
   "mimetype": "text/x-python",
   "name": "python",
   "nbconvert_exporter": "python",
   "pygments_lexer": "ipython3",
   "version": "3.11.7"
  }
 },
 "nbformat": 4,
 "nbformat_minor": 5
}
