{
 "cells": [
  {
   "cell_type": "markdown",
   "id": "fade64d7-5c0d-4512-b817-daee93473ee5",
   "metadata": {},
   "source": [
    "# Day 4: OOP\n",
    "## Part 1: Introduction to OOP (Classes, Objects, Contructions, Instance Method)\n",
    "Description: OOP is a programming paradigm that uses objects and classes. it helps in organizing code in resuable and interconnected compoennets, making it easer to mainain and understand.\n",
    "\n",
    "Concepts Covered:\n",
    "- **Classes and Objects**: A class is a blueprint for creating objects. An object is an instance of a class.\n",
    "- **Methods and Attribute**: Methods are functions defined inside a class. Attributes are variables that belong to a class.\n",
    "- **The `self` keyword**: Used to represent the intance of the class. It allows access to the attributes and methods of the class.\n",
    "- **Constructor(`__init__` method)**: A special method that initializes the attributes of a class when an object is created "
   ]
  },
  {
   "cell_type": "code",
   "execution_count": 3,
   "id": "da508b93-a194-4f2b-a79e-ecc30c38e45e",
   "metadata": {},
   "outputs": [
    {
     "name": "stdout",
     "output_type": "stream",
     "text": [
      "Buddy says woof!\n"
     ]
    }
   ],
   "source": [
    "# Define a class\n",
    "class Dog: \n",
    "    # Constructor \n",
    "    def __init__ (self, name_p, age_p):\n",
    "        self.name = name_p\n",
    "        self.age = age_p\n",
    "\n",
    "    def bark(self):\n",
    "        return f\"{self.name} says woof!\"\n",
    "\n",
    "my_dog = Dog('Buddy', 5)\n",
    "print(my_dog.bark())"
   ]
  },
  {
   "cell_type": "code",
   "execution_count": 4,
   "id": "c7ee7c22-ca80-4c14-a73c-c43e145010ac",
   "metadata": {},
   "outputs": [
    {
     "name": "stdout",
     "output_type": "stream",
     "text": [
      "John said Good Morning\n"
     ]
    }
   ],
   "source": [
    "# Exercise \n",
    "# Create a class 'Person with attributes 'name' and 'age'\n",
    "# Add a method greet that return the message from a person\n",
    "# Create an instance\n",
    "\n",
    "class Person:\n",
    "    def __init__(self, name, age):\n",
    "        self.name = name\n",
    "        self.age = age\n",
    "\n",
    "    def greeting(self):\n",
    "        return f\"{self.name} said Good Morning\" \n",
    "\n",
    "boy = Person(\"John\", 11)\n",
    "print(boy.greeting())"
   ]
  },
  {
   "cell_type": "markdown",
   "id": "c749f811-515b-4c77-b9ac-21edd8c01f21",
   "metadata": {},
   "source": [
    "## Part 2: Inheretence\n",
    "Description: Inheritance is a fundamental concept in OOP that allows a class to inherit attributes and methods from another class. This promotes code reuse and establishes a hierarchical relationship between classes\n",
    "\n",
    "- Base class: The class whose properties and methods are inherited by another class\n",
    "- Derived Class: the class that inheris properties and methods from the base class\n",
    "- Overridding Method: A derived class can provide a specific implementation of a method that is already defined in its base class\n"
   ]
  },
  {
   "cell_type": "code",
   "execution_count": 15,
   "id": "2e645a68-14a2-46a2-be96-be4b1f650ecf",
   "metadata": {
    "editable": true,
    "slideshow": {
     "slide_type": ""
    },
    "tags": []
   },
   "outputs": [
    {
     "name": "stdout",
     "output_type": "stream",
     "text": [
      "siam\n",
      "Garfield\n",
      "Meow\n",
      "German\n",
      "Bark\n"
     ]
    }
   ],
   "source": [
    "# Example - Inheritance\n",
    "# Base Class\n",
    "class Animal:\n",
    "    def __init__(self, name1):\n",
    "        self.name = name1\n",
    "\n",
    "    def make_sound(self):\n",
    "        return \"Some generic sound\"\n",
    "        \n",
    "# Derived class - Cat\n",
    "class Cat(Animal):\n",
    "    def __init__(self, name2, color):\n",
    "        super().__init__(name2) # class the constructor of the base class\n",
    "        self.color = color\n",
    "\n",
    "    # Overriding the method\n",
    "    def make_sound(self):\n",
    "        return \"Meow\"\n",
    "\n",
    "# Derived Class - Dog\n",
    "class Dog(Animal):\n",
    "    # Dog will use constructor from the base class\n",
    "\n",
    "    def make_sound(self):\n",
    "        return 'Bark'\n",
    "\n",
    "my_cat = Cat('siam', 'Garfield')\n",
    "my_dog = Dog('German')\n",
    "\n",
    "print(my_cat.name)\n",
    "print(my_cat.color)\n",
    "print(my_cat.make_sound())\n",
    "\n",
    "print(my_dog.name)\n",
    "print(my_dog.make_sound())"
   ]
  },
  {
   "cell_type": "markdown",
   "id": "2f42d123-c3fe-4ff6-8769-f6934a3eb2ec",
   "metadata": {},
   "source": [
    "## Part 3: Polymorphism\n",
    "Description: Polymorphism"
   ]
  },
  {
   "cell_type": "code",
   "execution_count": 17,
   "id": "25ab6e85-67b9-4db6-bd62-4ec3e5325b71",
   "metadata": {},
   "outputs": [
    {
     "name": "stdout",
     "output_type": "stream",
     "text": [
      "Sparrow is flying\n",
      "Eagle is soaring high\n"
     ]
    }
   ],
   "source": [
    "# Base Class\n",
    "class Bird: \n",
    "    def fly(self):\n",
    "        return \"Bird is flying\"\n",
    "\n",
    "# Derived Class\n",
    "class Sparrow(Bird):\n",
    "    def fly(self):\n",
    "        return \"Sparrow is flying\"\n",
    "\n",
    "class Eagle(Bird):\n",
    "    def fly(self):\n",
    "        return \"Eagle is soaring high\"\n",
    "\n",
    "#Polymorphisem in action\n",
    "def make_bird_fly(bird_x):\n",
    "    print(bird_x.fly()) # bird_x can be sparrow or eagle\n",
    "\n",
    "sparrow = Sparrow()\n",
    "eagle = Eagle()\n",
    "make_bird_fly(sparrow)\n",
    "make_bird_fly(eagle)"
   ]
  },
  {
   "cell_type": "code",
   "execution_count": 19,
   "id": "52472757-1e9b-476c-b272-b988983aa780",
   "metadata": {},
   "outputs": [
    {
     "name": "stdout",
     "output_type": "stream",
     "text": [
      "3\n",
      "6\n"
     ]
    }
   ],
   "source": [
    "# Mimick method overloading\n",
    "class Math:\n",
    "    def add(self, a, b, c = 0):\n",
    "        return a+b+c\n",
    "\n",
    "my_math = Math()\n",
    "print(my_math.add(1, 2))\n",
    "print(my_math.add(1, 2, 3))"
   ]
  },
  {
   "cell_type": "markdown",
   "id": "32909d7e-b73b-441e-a416-07ed4ead1008",
   "metadata": {},
   "source": [
    "Exercise Part 3: Polymorphism\n",
    "1. Create a base class `Shape` with a method `draw` that returns \"Drawing shape\"\n",
    "2. Create two derived classes `Circle` and `Rectangle` that override the `draw` method to return \"Drawing circle\" and \"Drawing rectangle\" respectively\n",
    "3. Create a function draw_shape that accepts a shape object and call its draw method\n",
    "4. Create instsances of Circle and Rectangle and pass them to the draw_shape function"
   ]
  },
  {
   "cell_type": "code",
   "execution_count": 23,
   "id": "e7f4a787-ef37-4447-b7fb-e1e005c465ec",
   "metadata": {
    "editable": true,
    "slideshow": {
     "slide_type": ""
    },
    "tags": []
   },
   "outputs": [
    {
     "name": "stdout",
     "output_type": "stream",
     "text": [
      "Drowing circle\n",
      "Drawing rectangle\n"
     ]
    }
   ],
   "source": [
    "class Shape:\n",
    "    def draw():\n",
    "        return \"Drawing shape\"\n",
    "\n",
    "class Circle(Shape):\n",
    "    def draw(self):\n",
    "        return \"Drowing circle\"\n",
    "\n",
    "class Rectangle(Shape):\n",
    "    def draw(self):\n",
    "        return \"Drawing rectangle\"\n",
    "\n",
    "def draw_shape(shape):\n",
    "    print(shape.draw())\n",
    "\n",
    "tyre = Circle()\n",
    "kite = Rectangle()\n",
    "draw_shape(tyre)\n",
    "draw_shape(kite)\n",
    "    "
   ]
  },
  {
   "cell_type": "code",
   "execution_count": 4,
   "id": "c6ed0ba9-abe8-4818-8585-f3ab050cc71c",
   "metadata": {},
   "outputs": [
    {
     "name": "stdout",
     "output_type": "stream",
     "text": [
      "Requirement already satisfied: ai-einblick-prompt in c:\\users\\suhaimi\\appdata\\local\\anaconda3\\lib\\site-packages (0.1.12)\n"
     ]
    }
   ],
   "source": [
    "!pip install ai-einblick-prompt"
   ]
  },
  {
   "cell_type": "code",
   "execution_count": 7,
   "id": "6229c490-3c4b-41c7-8f6d-280e8e5ae313",
   "metadata": {},
   "outputs": [
    {
     "data": {
      "text/html": [
       "<div>\n",
       "<style scoped>\n",
       "    .dataframe tbody tr th:only-of-type {\n",
       "        vertical-align: middle;\n",
       "    }\n",
       "\n",
       "    .dataframe tbody tr th {\n",
       "        vertical-align: top;\n",
       "    }\n",
       "\n",
       "    .dataframe thead th {\n",
       "        text-align: right;\n",
       "    }\n",
       "</style>\n",
       "<table border=\"1\" class=\"dataframe\">\n",
       "  <thead>\n",
       "    <tr style=\"text-align: right;\">\n",
       "      <th></th>\n",
       "      <th>Duration</th>\n",
       "      <th>Pulse</th>\n",
       "      <th>Maxpulse</th>\n",
       "      <th>Calories</th>\n",
       "    </tr>\n",
       "  </thead>\n",
       "  <tbody>\n",
       "    <tr>\n",
       "      <th>0</th>\n",
       "      <td>60</td>\n",
       "      <td>110</td>\n",
       "      <td>130</td>\n",
       "      <td>409.1</td>\n",
       "    </tr>\n",
       "    <tr>\n",
       "      <th>1</th>\n",
       "      <td>60</td>\n",
       "      <td>117</td>\n",
       "      <td>145</td>\n",
       "      <td>479.0</td>\n",
       "    </tr>\n",
       "    <tr>\n",
       "      <th>2</th>\n",
       "      <td>60</td>\n",
       "      <td>103</td>\n",
       "      <td>135</td>\n",
       "      <td>340.0</td>\n",
       "    </tr>\n",
       "    <tr>\n",
       "      <th>3</th>\n",
       "      <td>45</td>\n",
       "      <td>109</td>\n",
       "      <td>175</td>\n",
       "      <td>282.4</td>\n",
       "    </tr>\n",
       "    <tr>\n",
       "      <th>4</th>\n",
       "      <td>45</td>\n",
       "      <td>117</td>\n",
       "      <td>148</td>\n",
       "      <td>406.0</td>\n",
       "    </tr>\n",
       "    <tr>\n",
       "      <th>...</th>\n",
       "      <td>...</td>\n",
       "      <td>...</td>\n",
       "      <td>...</td>\n",
       "      <td>...</td>\n",
       "    </tr>\n",
       "    <tr>\n",
       "      <th>164</th>\n",
       "      <td>60</td>\n",
       "      <td>105</td>\n",
       "      <td>140</td>\n",
       "      <td>290.8</td>\n",
       "    </tr>\n",
       "    <tr>\n",
       "      <th>165</th>\n",
       "      <td>60</td>\n",
       "      <td>110</td>\n",
       "      <td>145</td>\n",
       "      <td>300.4</td>\n",
       "    </tr>\n",
       "    <tr>\n",
       "      <th>166</th>\n",
       "      <td>60</td>\n",
       "      <td>115</td>\n",
       "      <td>145</td>\n",
       "      <td>310.2</td>\n",
       "    </tr>\n",
       "    <tr>\n",
       "      <th>167</th>\n",
       "      <td>75</td>\n",
       "      <td>120</td>\n",
       "      <td>150</td>\n",
       "      <td>320.4</td>\n",
       "    </tr>\n",
       "    <tr>\n",
       "      <th>168</th>\n",
       "      <td>75</td>\n",
       "      <td>125</td>\n",
       "      <td>150</td>\n",
       "      <td>330.4</td>\n",
       "    </tr>\n",
       "  </tbody>\n",
       "</table>\n",
       "<p>169 rows × 4 columns</p>\n",
       "</div>"
      ],
      "text/plain": [
       "     Duration  Pulse  Maxpulse  Calories\n",
       "0          60    110       130     409.1\n",
       "1          60    117       145     479.0\n",
       "2          60    103       135     340.0\n",
       "3          45    109       175     282.4\n",
       "4          45    117       148     406.0\n",
       "..        ...    ...       ...       ...\n",
       "164        60    105       140     290.8\n",
       "165        60    110       145     300.4\n",
       "166        60    115       145     310.2\n",
       "167        75    120       150     320.4\n",
       "168        75    125       150     330.4\n",
       "\n",
       "[169 rows x 4 columns]"
      ]
     },
     "execution_count": 7,
     "metadata": {},
     "output_type": "execute_result"
    }
   ],
   "source": [
    "import pandas as pd\n",
    "\n",
    "df = pd.read_csv('data.csv')\n",
    "\n",
    "df\n"
   ]
  },
  {
   "cell_type": "code",
   "execution_count": 8,
   "id": "f91c596c-e526-4196-adb4-ac1b6e94706e",
   "metadata": {
    "editable": true,
    "slideshow": {
     "slide_type": ""
    },
    "tags": []
   },
   "outputs": [
    {
     "name": "stdout",
     "output_type": "stream",
     "text": [
      "Calling protected member of base class:  2\n",
      "Calling modified protected member outside class:  3\n",
      "Accessing protected member of obj1:  3\n",
      "Accessing protected member of obj2:  2\n"
     ]
    }
   ],
   "source": [
    "# Python program to \n",
    "# demonstrate protected members \n",
    "  \n",
    "# Creating a base class \n",
    "class Base: \n",
    "    def __init__(self): \n",
    "  \n",
    "        # Protected member \n",
    "        self._a = 2\n",
    "  \n",
    "# Creating a derived class \n",
    "class Derived(Base): \n",
    "    def __init__(self): \n",
    "  \n",
    "        # Calling constructor of \n",
    "        # Base class \n",
    "        Base.__init__(self) \n",
    "        print(\"Calling protected member of base class: \",  self._a) \n",
    "  \n",
    "        # Modify the protected variable: \n",
    "        self._a = 3\n",
    "        print(\"Calling modified protected member outside class: \", self._a) \n",
    "  \n",
    "  \n",
    "obj1 = Derived() \n",
    "obj2 = Base() \n",
    "  \n",
    "# Calling protected member \n",
    "# Can be accessed but should not be done due to convention \n",
    "print(\"Accessing protected member of obj1: \", obj1._a) \n",
    "  \n",
    "# Accessing the protected variable outside \n",
    "print(\"Accessing protected member of obj2: \", obj2._a) "
   ]
  },
  {
   "cell_type": "code",
   "execution_count": null,
   "id": "7b8e4bd0-aae5-48d2-a167-d0da11cc0698",
   "metadata": {},
   "outputs": [],
   "source": []
  }
 ],
 "metadata": {
  "kernelspec": {
   "display_name": "Python 3 (ipykernel)",
   "language": "python",
   "name": "python3"
  },
  "language_info": {
   "codemirror_mode": {
    "name": "ipython",
    "version": 3
   },
   "file_extension": ".py",
   "mimetype": "text/x-python",
   "name": "python",
   "nbconvert_exporter": "python",
   "pygments_lexer": "ipython3",
   "version": "3.12.4"
  }
 },
 "nbformat": 4,
 "nbformat_minor": 5
}
