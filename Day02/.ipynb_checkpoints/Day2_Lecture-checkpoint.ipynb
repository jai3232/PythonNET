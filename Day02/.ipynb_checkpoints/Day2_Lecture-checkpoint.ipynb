{
 "cells": [
  {
   "cell_type": "markdown",
   "id": "8c927949-d7c2-4e56-b774-b0b89a0d42e8",
   "metadata": {},
   "source": [
    "# Python List\n",
    "4. Common methods we can use for python list\n",
    "   - `append()`: Adds an element to the end of list\n",
    "   - `extend()`: Adds multiple elements to the end of list\n",
    "   - `insert()`: Inserts an element to to a specified position\n",
    "   - `remove()`: remove the first occurance of a specified value\n",
    "   - `pop()`: remove last element\n",
    "   - `clear()`: Empty the list\n",
    "   - `index()`: Return the index of the first occurance of a specified value\n",
    "   - `count()`: Return the  total occurance of a value\n",
    "   - `sort()`: Sort the list in ascending / descending\n",
    "   - `reverse()`: Reverse the order of the list"
   ]
  },
  {
   "cell_type": "code",
   "execution_count": 1,
   "id": "51571a74-f7d0-482e-9cb6-3ba22efe351d",
   "metadata": {},
   "outputs": [
    {
     "name": "stdout",
     "output_type": "stream",
     "text": [
      "[1, 2, 3]\n",
      "[]\n"
     ]
    }
   ],
   "source": [
    "# clear()\n",
    "numbers = [1, 2, 3]\n",
    "print(numbers)\n",
    "numbers.clear()\n",
    "print(numbers)"
   ]
  },
  {
   "cell_type": "code",
   "execution_count": 2,
   "id": "ba98db40-bb9e-4759-aba9-0439fed6ec88",
   "metadata": {},
   "outputs": [],
   "source": [
    "numbers.append(8)"
   ]
  },
  {
   "cell_type": "code",
   "execution_count": 5,
   "id": "c404b777-9b0b-40a6-a7e9-99fbaa6bd0b5",
   "metadata": {},
   "outputs": [
    {
     "name": "stdout",
     "output_type": "stream",
     "text": [
      "[8]\n",
      "1\n"
     ]
    }
   ],
   "source": [
    "# count()\n",
    "print(numbers)\n",
    "print(numbers.count(8))"
   ]
  },
  {
   "cell_type": "code",
   "execution_count": 6,
   "id": "337a6dbc-0781-48bd-ad96-8dc64b172cb8",
   "metadata": {},
   "outputs": [
    {
     "name": "stdout",
     "output_type": "stream",
     "text": [
      "['durian', 'manggis', 'apple']\n",
      "['apple', 'durian', 'manggis']\n"
     ]
    }
   ],
   "source": [
    "# sort()\n",
    "fruits = ['durian', 'manggis', 'apple']\n",
    "print(fruits)\n",
    "fruits.sort()\n",
    "print(fruits)"
   ]
  },
  {
   "cell_type": "code",
   "execution_count": 7,
   "id": "6cfee783-d60e-4325-bae9-6c5d69c9787a",
   "metadata": {},
   "outputs": [
    {
     "name": "stdout",
     "output_type": "stream",
     "text": [
      "['durian', 'manggis', 'apple']\n",
      "['apple', 'manggis', 'durian']\n"
     ]
    }
   ],
   "source": [
    "# reverse()\n",
    "fruits = ['durian', 'manggis', 'apple']\n",
    "print(fruits)\n",
    "fruits.reverse()\n",
    "print(fruits)"
   ]
  },
  {
   "cell_type": "markdown",
   "id": "23e51c88-8c72-4182-b7ed-3b7696a50210",
   "metadata": {},
   "source": [
    "## 5. Lists can be created using list comprehensions for concise and readable code"
   ]
  },
  {
   "cell_type": "code",
   "execution_count": 8,
   "id": "ad94c0d3-5e16-4b0f-8be7-cf5dd2793148",
   "metadata": {},
   "outputs": [
    {
     "name": "stdout",
     "output_type": "stream",
     "text": [
      "[0, 1, 4, 9, 16, 25, 36, 49, 64, 81]\n"
     ]
    }
   ],
   "source": [
    "# Basic Comprehension\n",
    "squares = [x ** 2 for x in range(10)]\n",
    "print(squares)"
   ]
  },
  {
   "cell_type": "code",
   "execution_count": 18,
   "id": "89b9af86-c306-4c8b-9ba2-7656df218487",
   "metadata": {},
   "outputs": [
    {
     "name": "stdout",
     "output_type": "stream",
     "text": [
      "[0, 4, 16, 36, 64]\n",
      "[4, 16, 36, 64, 100]\n"
     ]
    }
   ],
   "source": [
    "# Exer: User comprehension + python list, generate a list of squared even numbers\n",
    "squares = [x ** 2 for x in range(10)]\n",
    "new_list = []\n",
    "for square in squares:\n",
    "    if(square % 2 == 0):\n",
    "        new_list.append(square)\n",
    "print(new_list)\n",
    "# OE\n",
    "square_even = [x ** 2 for x in range(2, 11, 2)]\n",
    "print(square_even)"
   ]
  },
  {
   "cell_type": "code",
   "execution_count": 19,
   "id": "b94c2338-f5c2-4fef-ac5c-81e8d3806b38",
   "metadata": {},
   "outputs": [
    {
     "name": "stdout",
     "output_type": "stream",
     "text": [
      "[9, 25, 49, 81]\n"
     ]
    }
   ],
   "source": [
    "# Comprehension with condition\n",
    "# Generate a list of sqaured odd numbers (unitl 10)\n",
    "square_odd = [x ** 2 for x in range(2, 11) if x % 2 != 0]\n",
    "print(square_odd)"
   ]
  },
  {
   "cell_type": "code",
   "execution_count": 25,
   "id": "48b670e6-8957-4b46-a274-b34483a45b43",
   "metadata": {},
   "outputs": [
    {
     "name": "stdout",
     "output_type": "stream",
     "text": [
      "[0, 1, 1, 2, 3, 5, 8, 13, 21, 34, 55, 89, 144, 233, 377, 610, 987, 1597, 2584]\n",
      "[0, 4, 64, 1156, 20736, 372100, 6677056]\n"
     ]
    }
   ],
   "source": [
    "# Exercise: Create a list of 15 Fibonacci numbers\n",
    "# Use comprehnsion with condition, calculate squared of even fibonaci numbers\n",
    "# fibo = [0, 1, 1, 2, 3, 5, 8, 13, 21, 34, 55, 89, 144, 233]\n",
    "fibo = [0, 1]\n",
    "for x in range(0, 17):\n",
    "    fibo.append(fibo[x] + fibo[x + 1])\n",
    "print(fibo)\n",
    "square_fibo = [x ** 2 for x in fibo if x % 2 == 0]\n",
    "print(square_fibo)\n"
   ]
  },
  {
   "cell_type": "code",
   "execution_count": null,
   "id": "f79f48d9-1122-43c0-907f-76cbe51b116c",
   "metadata": {},
   "outputs": [],
   "source": []
  }
 ],
 "metadata": {
  "kernelspec": {
   "display_name": "Python 3 (ipykernel)",
   "language": "python",
   "name": "python3"
  },
  "language_info": {
   "codemirror_mode": {
    "name": "ipython",
    "version": 3
   },
   "file_extension": ".py",
   "mimetype": "text/x-python",
   "name": "python",
   "nbconvert_exporter": "python",
   "pygments_lexer": "ipython3",
   "version": "3.11.7"
  }
 },
 "nbformat": 4,
 "nbformat_minor": 5
}
