{
 "cells": [
  {
   "cell_type": "markdown",
   "id": "d99b2388-7493-4889-b9f9-9eceb34edcc7",
   "metadata": {},
   "source": [
    "## 2. Accessing elements"
   ]
  },
  {
   "cell_type": "code",
   "execution_count": 50,
   "id": "6540aa7d-8532-494b-a6d6-abf2c00b0d2a",
   "metadata": {},
   "outputs": [
    {
     "name": "stdout",
     "output_type": "stream",
     "text": [
      "['Penang', 'Melaka']\n"
     ]
    }
   ],
   "source": [
    "travel = ['Penang', 'Melaka', 'France', 'Spain', 'Itali']\n",
    "travel_first2 = travel[0:2]\n",
    "print(travel_first2)"
   ]
  },
  {
   "cell_type": "markdown",
   "id": "8c927949-d7c2-4e56-b774-b0b89a0d42e8",
   "metadata": {},
   "source": [
    "# Python List\n",
    "4. Common methods we can use for python list\n",
    "   - `append()`: Adds an element to the end of list\n",
    "   - `extend()`: Adds multiple elements to the end of list\n",
    "   - `insert()`: Inserts an element to to a specified position\n",
    "   - `remove()`: remove the first occurance of a specified value\n",
    "   - `pop()`: remove last element\n",
    "   - `clear()`: Empty the list\n",
    "   - `index()`: Return the index of the first occurance of a specified value\n",
    "   - `count()`: Return the  total occurance of a value\n",
    "   - `sort()`: Sort the list in ascending / descending\n",
    "   - `reverse()`: Reverse the order of the list"
   ]
  },
  {
   "cell_type": "code",
   "execution_count": 1,
   "id": "51571a74-f7d0-482e-9cb6-3ba22efe351d",
   "metadata": {},
   "outputs": [
    {
     "name": "stdout",
     "output_type": "stream",
     "text": [
      "[1, 2, 3]\n",
      "[]\n"
     ]
    }
   ],
   "source": [
    "# clear()\n",
    "numbers = [1, 2, 3]\n",
    "print(numbers)\n",
    "numbers.clear()\n",
    "print(numbers)"
   ]
  },
  {
   "cell_type": "code",
   "execution_count": 2,
   "id": "ba98db40-bb9e-4759-aba9-0439fed6ec88",
   "metadata": {},
   "outputs": [],
   "source": [
    "numbers.append(8)"
   ]
  },
  {
   "cell_type": "code",
   "execution_count": 5,
   "id": "c404b777-9b0b-40a6-a7e9-99fbaa6bd0b5",
   "metadata": {},
   "outputs": [
    {
     "name": "stdout",
     "output_type": "stream",
     "text": [
      "[8]\n",
      "1\n"
     ]
    }
   ],
   "source": [
    "# count()\n",
    "print(numbers)\n",
    "print(numbers.count(8))"
   ]
  },
  {
   "cell_type": "code",
   "execution_count": 6,
   "id": "337a6dbc-0781-48bd-ad96-8dc64b172cb8",
   "metadata": {},
   "outputs": [
    {
     "name": "stdout",
     "output_type": "stream",
     "text": [
      "['durian', 'manggis', 'apple']\n",
      "['apple', 'durian', 'manggis']\n"
     ]
    }
   ],
   "source": [
    "# sort()\n",
    "fruits = ['durian', 'manggis', 'apple']\n",
    "print(fruits)\n",
    "fruits.sort()\n",
    "print(fruits)"
   ]
  },
  {
   "cell_type": "code",
   "execution_count": 7,
   "id": "6cfee783-d60e-4325-bae9-6c5d69c9787a",
   "metadata": {},
   "outputs": [
    {
     "name": "stdout",
     "output_type": "stream",
     "text": [
      "['durian', 'manggis', 'apple']\n",
      "['apple', 'manggis', 'durian']\n"
     ]
    }
   ],
   "source": [
    "# reverse()\n",
    "fruits = ['durian', 'manggis', 'apple']\n",
    "print(fruits)\n",
    "fruits.reverse()\n",
    "print(fruits)"
   ]
  },
  {
   "cell_type": "markdown",
   "id": "23e51c88-8c72-4182-b7ed-3b7696a50210",
   "metadata": {},
   "source": [
    "## 5. Lists can be created using list comprehensions for concise and readable code"
   ]
  },
  {
   "cell_type": "code",
   "execution_count": 8,
   "id": "ad94c0d3-5e16-4b0f-8be7-cf5dd2793148",
   "metadata": {},
   "outputs": [
    {
     "name": "stdout",
     "output_type": "stream",
     "text": [
      "[0, 1, 4, 9, 16, 25, 36, 49, 64, 81]\n"
     ]
    }
   ],
   "source": [
    "# Basic Comprehension\n",
    "squares = [x ** 2 for x in range(10)]\n",
    "print(squares)"
   ]
  },
  {
   "cell_type": "code",
   "execution_count": 18,
   "id": "89b9af86-c306-4c8b-9ba2-7656df218487",
   "metadata": {},
   "outputs": [
    {
     "name": "stdout",
     "output_type": "stream",
     "text": [
      "[0, 4, 16, 36, 64]\n",
      "[4, 16, 36, 64, 100]\n"
     ]
    }
   ],
   "source": [
    "# Exer: User comprehension + python list, generate a list of squared even numbers\n",
    "squares = [x ** 2 for x in range(10)]\n",
    "new_list = []\n",
    "for square in squares:\n",
    "    if(square % 2 == 0):\n",
    "        new_list.append(square)\n",
    "print(new_list)\n",
    "# OE\n",
    "square_even = [x ** 2 for x in range(2, 11, 2)]\n",
    "print(square_even)"
   ]
  },
  {
   "cell_type": "code",
   "execution_count": 19,
   "id": "b94c2338-f5c2-4fef-ac5c-81e8d3806b38",
   "metadata": {},
   "outputs": [
    {
     "name": "stdout",
     "output_type": "stream",
     "text": [
      "[9, 25, 49, 81]\n"
     ]
    }
   ],
   "source": [
    "# Comprehension with condition\n",
    "# Generate a list of sqaured odd numbers (unitl 10)\n",
    "square_odd = [x ** 2 for x in range(2, 11) if x % 2 != 0]\n",
    "print(square_odd)"
   ]
  },
  {
   "cell_type": "code",
   "execution_count": 65,
   "id": "cec451d1-6aec-4654-bfad-daad36fa2aa9",
   "metadata": {},
   "outputs": [
    {
     "name": "stdout",
     "output_type": "stream",
     "text": [
      "[0, 1, 1, 2, 3, 5, 8, 13, 21, 34, 55, 89, 144, 233, 377, 610, 987, 1597, 2584]\n",
      "[0, 4, 64, 1156, 20736, 372100, 6677056]\n"
     ]
    }
   ],
   "source": [
    "# Exercise: Create a list of 15 Fibonacci numbers\n",
    "# Use comprehnsion with condition, calculate squared of even fibonaci numbers\n",
    "# fibo = [0, 1, 1, 2, 3, 5, 8, 13, 21, 34, 55, 89, 144, 233]\n",
    "fibo = [0, 1]\n",
    "for x in range(0, 17):\n",
    "    fibo.append(fibo[x] + fibo[x + 1])\n",
    "print(fibo)\n",
    "square_fibo = [x ** 2 for x in fibo if x % 2 == 0]\n",
    "print(square_fibo)\n"
   ]
  },
  {
   "cell_type": "markdown",
   "id": "609ebe05-adae-46a8-9e7f-ee3a4b4e65a7",
   "metadata": {},
   "source": [
    "## 6. List can contain other list, allowing for nulti-dimensional arrays"
   ]
  },
  {
   "cell_type": "code",
   "execution_count": 27,
   "id": "fc5a9afd-0007-4f9f-a7e1-226e4640cbad",
   "metadata": {},
   "outputs": [
    {
     "name": "stdout",
     "output_type": "stream",
     "text": [
      "2\n"
     ]
    }
   ],
   "source": [
    "matrix = [\n",
    "    [1, 2, 3],\n",
    "    [4, 5, 6],\n",
    "    [7, 8, 9],\n",
    "]\n",
    "print(matrix[0][1])"
   ]
  },
  {
   "cell_type": "code",
   "execution_count": 30,
   "id": "42a8d4b7-5051-4023-afa6-d4d41d07935e",
   "metadata": {},
   "outputs": [
    {
     "name": "stdout",
     "output_type": "stream",
     "text": [
      "9\n",
      "5\n"
     ]
    }
   ],
   "source": [
    "# Exercise: print the value of 9 and 5\n",
    "matrix = [\n",
    "    [1, 2, 3],\n",
    "    [4, 5, 6],\n",
    "    [7, 8, 9],\n",
    "]\n",
    "print(matrix[2][2])\n",
    "print(matrix[1][1])"
   ]
  },
  {
   "cell_type": "markdown",
   "id": "9d3ca7e0-4917-44a6-bdf0-f7e152195c56",
   "metadata": {},
   "source": [
    "Exercise for Python List\n",
    "Part 1: Basic\n",
    "1. Create a list called 'numbers' that contains integers from 1 to 20\n",
    "2. Access the 5 th element in the list and print it\n",
    "3. Slide the list to create new list 'frst-half' that contains the first 10 elements\n",
    "4. Append the number 21 to the 'numbers' list\n",
    "5. Insert the number 0 at the beginning of the 'numbers' list\n",
    "6. Remove the number 15 from the 'numbers' list\n",
    "7. Pop and print the last element from 'numbers' list\n",
    "8. Count how many times the number 10 appears in 'numbers' list\n",
    "\n",
    "Part 2: Advanced Operation <br>\n",
    "9. Sort the list in desending order <br>\n",
    "10. Reverse order <br>\n",
    "11. use list comprehension to crate new list that contains the squares of all elements in numbers <br>\n",
    "12. Filter the list using list comprehension to crate new list 'even_squares' that contains only the squares of the even numbers from 'numbers' <br>"
   ]
  },
  {
   "cell_type": "code",
   "execution_count": 67,
   "id": "db4bd89e-045c-4b98-9a08-a01fb3d6d8c4",
   "metadata": {},
   "outputs": [
    {
     "name": "stdout",
     "output_type": "stream",
     "text": [
      "[1, 2, 3, 4, 5, 6, 7, 8, 9, 10, 11, 12, 13, 14, 15, 16, 17, 18, 19, 20]\n",
      "The 5th element is 5\n",
      "[1, 2, 3, 4, 5, 6, 7, 8, 9, 10]\n",
      "[1, 2, 3, 4, 5, 6, 7, 8, 9, 10, 11, 12, 13, 14, 15, 16, 17, 18, 19, 20, 21]\n",
      "[0, 1, 2, 3, 4, 5, 6, 7, 8, 9, 10, 11, 12, 13, 14, 15, 16, 17, 18, 19, 20, 21]\n",
      "[0, 1, 2, 3, 4, 5, 6, 7, 8, 9, 10, 11, 12, 13, 14, 16, 17, 18, 19, 20, 21]\n",
      "21\n",
      "1\n",
      "///// ADVNACED PART //////\n",
      "[20, 19, 18, 17, 16, 14, 13, 12, 11, 10, 9, 8, 7, 6, 5, 4, 3, 2, 1, 0]\n",
      "[0, 1, 2, 3, 4, 5, 6, 7, 8, 9, 10, 11, 12, 13, 14, 16, 17, 18, 19, 20]\n",
      "[0, 1, 4, 9, 16, 25, 36, 49, 64, 81, 100, 121, 144, 169, 196, 256, 289, 324, 361, 400]\n",
      "[0, 4, 16, 36, 64, 100, 144, 196, 256, 324, 400]\n"
     ]
    }
   ],
   "source": [
    "numbers = []\n",
    "for x in range(1, 21):\n",
    "    numbers.append(x)\n",
    "print(numbers)\n",
    "print(\"The 5th element is \" + str(numbers[4]))\n",
    "first_half = numbers[0:10]\n",
    "print(first_half)\n",
    "numbers.append(21)\n",
    "print(numbers)\n",
    "numbers.insert(0, 0)\n",
    "print(numbers)\n",
    "numbers.remove(15)\n",
    "print(numbers)\n",
    "print(numbers.pop())\n",
    "print(numbers.count(10))\n",
    "print(\"///// ADVNACED PART //////\")\n",
    "numbers.sort(reverse = True)\n",
    "print(numbers)\n",
    "numbers.reverse()\n",
    "print(numbers)\n",
    "square_numbers = [x ** 2 for x in numbers]\n",
    "print(square_numbers)\n",
    "even_squares = [x ** 2 for x in numbers if x % 2 == 0]\n",
    "print(even_squares)"
   ]
  },
  {
   "cell_type": "markdown",
   "id": "6e125349-9de6-4dd2-8150-81556d52e340",
   "metadata": {},
   "source": [
    "### Exercises for Python List\n",
    "Part 3: Nested lists\n",
    "13. Create a nested list `matrix` with the following structure:\n",
    "```\n",
    "matrix = [\n",
    "    [1, 2, 3],\n",
    "    [4, 5, 6],\n",
    "    [7, 8, 9],\n",
    "]\n",
    "```\n",
    "14. Access and print the element in the second row and third row of the matrix\n",
    "15. Add new row `[10, 11, 12]` to the matrix"
   ]
  },
  {
   "cell_type": "code",
   "execution_count": 5,
   "id": "a356378a-d540-4651-87dd-c5f371bc7ea3",
   "metadata": {},
   "outputs": [
    {
     "name": "stdout",
     "output_type": "stream",
     "text": [
      "[[True, True, True], [True, True, True], [True, True, True]]\n"
     ]
    }
   ],
   "source": [
    "s = 0\n",
    "t = [[s in range(3)]*3 for i in range(3)]\n",
    "print(t)\n",
    "# print(j)"
   ]
  },
  {
   "cell_type": "code",
   "execution_count": 85,
   "id": "f1883b45-b422-4a51-b3c2-afd1ff51404b",
   "metadata": {},
   "outputs": [
    {
     "name": "stdout",
     "output_type": "stream",
     "text": [
      "6\n",
      "[[1, 2, 3], [4, 5, 6], [7, 8, 9], [10, 11, 12]]\n"
     ]
    }
   ],
   "source": [
    "matrix = [\n",
    "    [1, 2, 3],\n",
    "    [4, 5, 6],\n",
    "    [7, 8, 9],\n",
    "]\n",
    "print(matrix[1][2])\n",
    "matrix.append([10, 11, 12])\n",
    "print(matrix)"
   ]
  },
  {
   "cell_type": "code",
   "execution_count": 123,
   "id": "d9d0f0ac-5a61-444c-93bd-d015c763ba7d",
   "metadata": {},
   "outputs": [
    {
     "name": "stdout",
     "output_type": "stream",
     "text": [
      "{'name': 'John', 'age': 34, 'country': 'USA'}\n",
      "34\n",
      "None\n"
     ]
    }
   ],
   "source": [
    "# Empty dictionary\n",
    "empty_dict = {}\n",
    "# Dictionary with initial key-value pairs\n",
    "person = {\n",
    "    'name' : 'John',\n",
    "    'age' : 34,\n",
    "    'country' : 'USA'\n",
    "}\n",
    "print(person)\n",
    "print(person.get('age'))\n",
    "print(person.get('wie'))"
   ]
  },
  {
   "cell_type": "code",
   "execution_count": 110,
   "id": "7ae1070f-d4ef-4646-97dd-a4b47b5ddeca",
   "metadata": {},
   "outputs": [
    {
     "name": "stdout",
     "output_type": "stream",
     "text": [
      "{'My': '88', 'Sg': '61', 'Id': '62'}\n"
     ]
    }
   ],
   "source": [
    "# Exercise: Create a dictionary of 3 country name and its corresponding phone coutry codes\n",
    "country_code = {\n",
    "    'My' : '60',\n",
    "    'Sg' : '61',\n",
    "    'Id' : '62',\n",
    "    'My' : '88'\n",
    "}\n",
    "print(country_code)"
   ]
  },
  {
   "cell_type": "markdown",
   "id": "3e8318c8-f2e3-488f-84a9-9e30030cd3d4",
   "metadata": {},
   "source": [
    "## 3.0 Modifying Dictionaries\n",
    "1. Dictionaries are mutable, allowing for adding, changing and removing key-value pairs."
   ]
  },
  {
   "cell_type": "code",
   "execution_count": 7,
   "id": "57325dcf-53a0-4813-9bc8-a97397f1816d",
   "metadata": {},
   "outputs": [
    {
     "name": "stdout",
     "output_type": "stream",
     "text": [
      "{'name': 'John', 'age': 31, 'country': 'USA'}\n"
     ]
    }
   ],
   "source": [
    "# Changing a value\n",
    "person = {\n",
    "    'name' : 'John',\n",
    "    'age' : 34,\n",
    "    'country' : 'USA'\n",
    "}\n",
    "person['age'] = 31\n",
    "print(person)"
   ]
  },
  {
   "cell_type": "code",
   "execution_count": 8,
   "id": "3764ace3-7657-410f-b954-b819cf6e9fd0",
   "metadata": {},
   "outputs": [
    {
     "name": "stdout",
     "output_type": "stream",
     "text": [
      "{'name': 'John', 'age': 31, 'country': 'Saudi Arab'}\n"
     ]
    }
   ],
   "source": [
    "# Ex: change country from USA to Saudi Arab the print it\n",
    "person['country'] = 'Saudi Arab'\n",
    "print(person)"
   ]
  },
  {
   "cell_type": "code",
   "execution_count": 18,
   "id": "33fa213e-eada-4ac5-8dff-8b74fafb6206",
   "metadata": {},
   "outputs": [
    {
     "name": "stdout",
     "output_type": "stream",
     "text": [
      "{'name': 'John', 'age': 31, 'country': 'Saudi Arab', 'wins': 56, 'email': 'x@x.my'}\n"
     ]
    }
   ],
   "source": [
    "# Add Key value\n",
    "person['wins'] = 56\n",
    "person['email'] = 'x@x.my'\n",
    "print(person)"
   ]
  },
  {
   "cell_type": "code",
   "execution_count": 19,
   "id": "56fe84d7-e363-471a-aeb2-829338930035",
   "metadata": {},
   "outputs": [
    {
     "name": "stdout",
     "output_type": "stream",
     "text": [
      "{'name': 'John', 'age': 31, 'country': 'Saudi Arab', 'wins': 56}\n",
      "31\n",
      "{'name': 'John', 'country': 'Saudi Arab', 'wins': 56}\n"
     ]
    }
   ],
   "source": [
    "# Remove method 1\n",
    "del person['email']\n",
    "print(person)\n",
    "# Remove method 2\n",
    "age = person.pop('age')\n",
    "print(age)\n",
    "print(person)"
   ]
  },
  {
   "cell_type": "markdown",
   "id": "aced92bc-d522-4c1c-9cf1-6ce41675a9aa",
   "metadata": {},
   "source": [
    "### 4. Common Methods\n",
    "- `keys()`: return a view object of all keys\n",
    "- `values`: Return a view object of all values\n",
    "- `items()`: Return a view object of all key-value in the dictionary\n",
    "- `get()`: Return the value for a specified key if the key is in the dictionary\n",
    "- `update()`: Update the dictionary with specified -key-value pair\n",
    "- `pop()`: Remove the specified key and return the value\n",
    "- `popitem()`: \n",
    "- `clear()`:\n",
    "- `copy()`: "
   ]
  },
  {
   "cell_type": "code",
   "execution_count": 20,
   "id": "8fd30743-924c-4b60-8bd5-4f1d83c2bb0b",
   "metadata": {},
   "outputs": [
    {
     "name": "stdout",
     "output_type": "stream",
     "text": [
      "dict_keys(['name', 'country', 'wins'])\n"
     ]
    }
   ],
   "source": [
    "# keys\n",
    "keys = person.keys()\n",
    "print(keys)"
   ]
  },
  {
   "cell_type": "code",
   "execution_count": 22,
   "id": "0446a3da-8317-4613-a6ae-ec3f946e9021",
   "metadata": {},
   "outputs": [
    {
     "name": "stdout",
     "output_type": "stream",
     "text": [
      "dict_values(['John', 'Saudi Arab', 56])\n"
     ]
    }
   ],
   "source": [
    "# values\n",
    "values = person.values()\n",
    "print(values)"
   ]
  },
  {
   "cell_type": "code",
   "execution_count": 23,
   "id": "c2249582-6167-4724-a59b-452b2f417a01",
   "metadata": {},
   "outputs": [
    {
     "name": "stdout",
     "output_type": "stream",
     "text": [
      "dict_items([('name', 'John'), ('country', 'Saudi Arab'), ('wins', 56)])\n"
     ]
    }
   ],
   "source": [
    "# items\n",
    "items = person.items()\n",
    "print(items)"
   ]
  },
  {
   "cell_type": "code",
   "execution_count": 27,
   "id": "33487d1b-0c14-468c-b3db-485cbc95900f",
   "metadata": {},
   "outputs": [
    {
     "name": "stdout",
     "output_type": "stream",
     "text": [
      "{'name': 'Muhammad Ali', 'country': 'Saudi Arab', 'wins': 56, 'total_loss': 3, 'KOs': 4}\n"
     ]
    }
   ],
   "source": [
    "# update(): use to inser value, not change value\n",
    "# Exer: use pdate(), insert total loss and total KOs for muhammad ali\n",
    "person.update({'name': 'Muhammad Ali', 'total_loss': 3, 'KOs': 4})\n",
    "print(person)"
   ]
  },
  {
   "cell_type": "markdown",
   "id": "e1e0aae6-4fcd-4f5d-b603-0ebcaf35c260",
   "metadata": {},
   "source": [
    "# 5. Dictionary Comprensions\n",
    "comprehensions: dictionaries can be creatd using dictionary comprehensions for concise and readable code"
   ]
  },
  {
   "cell_type": "code",
   "execution_count": 29,
   "id": "cffe4b9d-3360-47d4-96b3-49d064efcca2",
   "metadata": {},
   "outputs": [
    {
     "name": "stdout",
     "output_type": "stream",
     "text": [
      "1\n",
      "2\n",
      "3\n",
      "4\n",
      "5\n",
      "6\n"
     ]
    }
   ],
   "source": [
    "# Creating a dictionary using comprehensions\n",
    "# Expected Output: key is number, value is square(number) from 1 to 6\n",
    "# key is 1, value is1\n",
    "# key is 2, value is 4 ... until key is 6\n",
    "# Step1: use for range to generate 1 to 6\n",
    "for x in range(1, 7):\n",
    "    print(x)"
   ]
  },
  {
   "cell_type": "code",
   "execution_count": 30,
   "id": "5b3816c7-c896-45e1-afe9-2d041907a25f",
   "metadata": {},
   "outputs": [
    {
     "name": "stdout",
     "output_type": "stream",
     "text": [
      "{1: 1, 2: 4, 3: 9, 4: 16, 5: 25, 6: 36}\n"
     ]
    }
   ],
   "source": [
    "squares = {x: x ** 2 for x in range(1, 7)}\n",
    "print(squares)"
   ]
  },
  {
   "cell_type": "code",
   "execution_count": 45,
   "id": "a265b248-e749-4a3c-b4c5-caf817eac047",
   "metadata": {},
   "outputs": [
    {
     "name": "stdout",
     "output_type": "stream",
     "text": [
      "[2, 3, 5, 7, 11, 13, 17, 19, 23, 29]\n",
      "{2: 4, 3: 9, 5: 25, 7: 49, 11: 121, 13: 169, 17: 289, 19: 361, 23: 529, 29: 841}\n"
     ]
    }
   ],
   "source": [
    "# Hand-on Activity 3\n",
    "# Create a list of 10 prime numbers and use dictionary comprehension to map each prime number to its square\n",
    "# Expected output\n",
    "primes = [x for x in range(2, 100) if not [t for t in range(2, x) if not x % t ]][:10]\n",
    "# primes = primes[:10]\n",
    "prime_dic = {prime: prime ** 2 for prime in primes}\n",
    "print(primes)\n",
    "print(prime_dic)"
   ]
  },
  {
   "cell_type": "code",
   "execution_count": 43,
   "id": "29f487fb-ae5d-4c36-8b7c-3f68b009d3d1",
   "metadata": {},
   "outputs": [
    {
     "name": "stdout",
     "output_type": "stream",
     "text": [
      "[2, 14, 42, 132, 1430, 4862]\n"
     ]
    }
   ],
   "source": [
    "# Hands-on Activity\n",
    "# Create a list of fisrt 10 Catalan Numbers (from google)\n",
    "# use comprehensions to filter out even number from the list (refer notes)\n",
    "catalans = [1, 1, 2, 5, 14, 42, 132, 429, 1430, 4862]\n",
    "even_catalans = [x for x in catalans if x % 2 == 0]\n",
    "print(even_catalans)"
   ]
  },
  {
   "cell_type": "code",
   "execution_count": 52,
   "id": "d48f2610-9974-4ab0-bbdf-9450ecd53202",
   "metadata": {},
   "outputs": [
    {
     "name": "stdout",
     "output_type": "stream",
     "text": [
      "{'name': 'UTM', 'year': 1978, 'country': 'MY'}\n",
      "{'name': 'Oxford', 'year': 1758, 'country': 'UK'}\n",
      "{'name': 'MIT', 'year': 1878, 'country': 'US'}\n"
     ]
    }
   ],
   "source": [
    "# Hands on activity\n",
    "# Create a contact directory of your favourite top 3 universities using python dictionary\n",
    "# key: uni name, year: year of establishment, country: country name\n",
    "universities = []\n",
    "universities.append({'name': 'UTM', 'year': 1978, 'country': 'MY'})\n",
    "universities.append({'name': 'Oxford', 'year': 1758, 'country': 'UK'})\n",
    "universities.append({'name': 'MIT', 'year': 1878, 'country': 'US'})\n",
    "# print(universities)\n",
    "for u in universities:\n",
    "    print(u)\n"
   ]
  },
  {
   "cell_type": "code",
   "execution_count": 57,
   "id": "929da1fd-733d-45cd-9c99-6d6a1f6c3191",
   "metadata": {},
   "outputs": [
    {
     "name": "stdout",
     "output_type": "stream",
     "text": [
      "{'ali': {'age': 16, 'city': 'Melaka'}, 'john': {'age': 45, 'city': 'Moscow'}}\n",
      "Moscow\n",
      "16\n"
     ]
    }
   ],
   "source": [
    "# Nested dictionary\n",
    "students = {\n",
    "    'ali': {'age': 16, 'city': 'Melaka'},\n",
    "    'john': {'age': 45, 'city': 'Moscow'}\n",
    "}\n",
    "print(students)\n",
    "print(students['john']['city'])\n",
    "print(students['ali']['age'])"
   ]
  },
  {
   "cell_type": "code",
   "execution_count": 58,
   "id": "25cc3a1a-649a-488d-8d92-a69e3ee22b05",
   "metadata": {},
   "outputs": [
    {
     "name": "stdout",
     "output_type": "stream",
     "text": [
      "{'ali': {'age': 16, 'city': 'Melaka'}, 'john': {'age': 45, 'city': 'Moscow'}, 'Lee': {'age': 33, 'city': 'Ulan Bator'}}\n"
     ]
    }
   ],
   "source": [
    "# Adding new student\n",
    "students['Lee'] = {'age': 33, 'city': 'Ulan Bator'}\n",
    "print(students)"
   ]
  },
  {
   "cell_type": "markdown",
   "id": "fbe1e63f-496a-4ff7-8b85-6de8cbf40db6",
   "metadata": {},
   "source": [
    "## 3.0 Python Tuples\n",
    "Desc: Tuples are ordered and immutable collections\n",
    "1. Creation: Tuples are created using parenthesis () or the tuple() function."
   ]
  },
  {
   "cell_type": "code",
   "execution_count": 59,
   "id": "d25f9b37-ea59-4280-98f0-c9164c6b67c9",
   "metadata": {},
   "outputs": [
    {
     "name": "stdout",
     "output_type": "stream",
     "text": [
      "('red', 'green', 'yellow')\n",
      "(4, 5)\n"
     ]
    }
   ],
   "source": [
    "# Empty tuple\n",
    "empty_tuple = ()\n",
    "# Tupe with initial elements\n",
    "coor = (4,5)\n",
    "color = ('red', 'green', 'yellow')\n",
    "print(color)\n",
    "print(coor)"
   ]
  },
  {
   "cell_type": "markdown",
   "id": "e758242b-dd80-434b-a9cf-823e6641737a",
   "metadata": {},
   "source": [
    "## 4.0 Python Sets\n",
    "Description: Sets contain unique elements supports maths operations like union and interction with comprehension, unordered, mutable. Use for membership tests and set operations (union etc). **cannot access element like we do in List, Dictionary, Tuple**\n",
    "1. Creation: Sets are created using curly braces {} or the set {} function. Sets are unordered collections of unique elements."
   ]
  },
  {
   "cell_type": "code",
   "execution_count": 1,
   "id": "b8eab109-752a-490a-88d4-60b2e2c2f439",
   "metadata": {},
   "outputs": [],
   "source": [
    "# Empty set\n",
    "empty_set = set()\n",
    "\n",
    "# Set with initial elements\n"
   ]
  },
  {
   "cell_type": "code",
   "execution_count": 2,
   "id": "5bcb212d-e033-40a3-8100-7a27c95ff093",
   "metadata": {},
   "outputs": [
    {
     "name": "stdout",
     "output_type": "stream",
     "text": [
      "{1, 2, 3, 4, 5}\n"
     ]
    }
   ],
   "source": [
    "# Using set() function\n",
    "numbers = set([1, 2, 3, 4, 5]) # package\n",
    "print(numbers)"
   ]
  },
  {
   "cell_type": "code",
   "execution_count": 4,
   "id": "5d0ab975-c3f8-4f44-849f-b815c9ce0421",
   "metadata": {},
   "outputs": [
    {
     "name": "stdout",
     "output_type": "stream",
     "text": [
      "{1, 2, 3, 4, 5}\n"
     ]
    }
   ],
   "source": [
    "# Sets contailn uniqe elements, but what does it mean by \"unique elements\"\n",
    "# task: Create a set of numbers (1,2,2,2,3,4,5) then print it out\n",
    "# What do you set ?\n",
    "sets_unique = {1,2,2,2,3,4,5}\n",
    "print(sets_unique)"
   ]
  },
  {
   "cell_type": "markdown",
   "id": "e2770718-5f6b-49da-a367-44f90b910e24",
   "metadata": {},
   "source": [
    "## 4.0: Python Sets\n",
    "3. Modifying sets (Mutable); Sets are mutable, allowing for adding, removing and updating elements"
   ]
  },
  {
   "cell_type": "code",
   "execution_count": 17,
   "id": "6edecbe1-819d-4eed-87cb-3585d06d4b08",
   "metadata": {},
   "outputs": [
    {
     "name": "stdout",
     "output_type": "stream",
     "text": [
      "{'durian', 'banana', 'apple'}\n"
     ]
    }
   ],
   "source": [
    "# Adding a single element'\n",
    "fruits = {'apple', 'banana'}\n",
    "fruits.add(\"durian\")\n",
    "print(fruits)"
   ]
  },
  {
   "cell_type": "code",
   "execution_count": 8,
   "id": "5ff93fc3-8617-4cb1-ab44-d13fbd288c62",
   "metadata": {},
   "outputs": [
    {
     "name": "stdout",
     "output_type": "stream",
     "text": [
      "{'durian', 'ciku', 'mata kucing', 'banana', 'apple'}\n"
     ]
    }
   ],
   "source": [
    "# Adding multiple elements\n",
    "fruits.update(['ciku', 'mata kucing'])\n",
    "print(fruits)"
   ]
  },
  {
   "cell_type": "code",
   "execution_count": 18,
   "id": "77a9f820-cd83-44a0-b83a-001ac1afed98",
   "metadata": {},
   "outputs": [
    {
     "name": "stdout",
     "output_type": "stream",
     "text": [
      "{'banana', 'apple'}\n"
     ]
    }
   ],
   "source": [
    "# remove element\n",
    "# use discard to remove without error if element does not exist\n",
    "fruits.remove('durian')\n",
    "fruits.discard('durian')\n",
    "print(fruits)"
   ]
  },
  {
   "cell_type": "code",
   "execution_count": 19,
   "id": "4b0b2f59-c323-4876-b2aa-3495b61bfec4",
   "metadata": {},
   "outputs": [
    {
     "name": "stdout",
     "output_type": "stream",
     "text": [
      "banana\n",
      "{'apple'}\n"
     ]
    }
   ],
   "source": [
    "# Pop\n",
    "removed = fruits.pop()\n",
    "print(removed)\n",
    "print(fruits)"
   ]
  },
  {
   "cell_type": "markdown",
   "id": "b2883435-bad3-481a-a900-aa0ba900b7e1",
   "metadata": {},
   "source": [
    "### Python Sets\n",
    "4. Common Methods\n",
    "- `add()`: Add an element\n",
    "- `update()`: Add multiple element\n",
    "- `remove()`: Remove the specified element\n",
    "- `discard()`: Remove the specified element\n",
    "- `pop()`: Remove and return element\n",
    "- `clear()`: Remove all\n",
    "- `copy()`: Return a copy of the set\n",
    "- `union()`: Return a set containing all elements\n",
    "- `intersection()'`: Return match both set\n",
    "- `difference()`:\n",
    "- `symmetric_difference()`: Return a set containing elements found in either set but not in both"
   ]
  },
  {
   "cell_type": "markdown",
   "id": "d2e8c398-c45a-44c3-9bc2-2f8bac02774e",
   "metadata": {},
   "source": [
    "# 4.0 Python Sets\n",
    "1. Set can be created using set comprehansions for concise and readable code"
   ]
  },
  {
   "cell_type": "code",
   "execution_count": 22,
   "id": "e29dee7f-f981-4094-abc3-b0b95eee4767",
   "metadata": {},
   "outputs": [
    {
     "name": "stdout",
     "output_type": "stream",
     "text": [
      "{2, 4, 6}\n"
     ]
    }
   ],
   "source": [
    "# Exer: create a SET using COMPREHENSION containing even number from 1 and 6\n",
    "even_set = {x for x in  range(1, 7) if x % 2 == 0}\n",
    "print(even_set)"
   ]
  },
  {
   "cell_type": "code",
   "execution_count": null,
   "id": "27af65ad-2ee1-4bd9-b162-1f36c3cde135",
   "metadata": {},
   "outputs": [],
   "source": []
  }
 ],
 "metadata": {
  "kernelspec": {
   "display_name": "Python 3 (ipykernel)",
   "language": "python",
   "name": "python3"
  },
  "language_info": {
   "codemirror_mode": {
    "name": "ipython",
    "version": 3
   },
   "file_extension": ".py",
   "mimetype": "text/x-python",
   "name": "python",
   "nbconvert_exporter": "python",
   "pygments_lexer": "ipython3",
   "version": "3.12.4"
  }
 },
 "nbformat": 4,
 "nbformat_minor": 5
}
