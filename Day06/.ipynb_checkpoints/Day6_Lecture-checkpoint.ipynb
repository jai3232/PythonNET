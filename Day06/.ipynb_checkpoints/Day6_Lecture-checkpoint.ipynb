{
 "cells": [
  {
   "cell_type": "code",
   "execution_count": 1,
   "id": "f3ce6486-a640-4062-aef4-3466e2433b71",
   "metadata": {},
   "outputs": [
    {
     "name": "stdout",
     "output_type": "stream",
     "text": [
      "Python 3.11.7\n"
     ]
    }
   ],
   "source": [
    "!python --version"
   ]
  },
  {
   "cell_type": "markdown",
   "id": "2b62f650-4b53-4429-87c2-c32ccbe2ca27",
   "metadata": {},
   "source": [
    "How to run multiple version of Python\n",
    "\n",
    "**Answer**: Use python environments\n",
    "Python environment is a self-contained directory that contains specific Python version and sets of libraries. It is used to manage dependencies and ensure that projects have the necesary libraries without conflict."
   ]
  },
  {
   "cell_type": "markdown",
   "id": "6a1fb8dc-2cdd-471a-a8bc-2b041d834291",
   "metadata": {},
   "source": [
    "#Common Tools for Managing Python Environments\n",
    "- venv: A built-in module for creating lightweights virtual environemnts\n",
    "- virtuaenv: An older, more feature rich tool for creating virtual environments\n",
    "- conda: A package and environemtn management system that supports multiple programming languages and is POPULAR in DATA SCIENCE COMMUNITY.In this class, we will use conda"
   ]
  },
  {
   "cell_type": "markdown",
   "id": "dca73680-a869-42c2-8a13-bf3005a8ca8f",
   "metadata": {},
   "source": [
    "## General Commands for **conda**\n",
    "# Environmnet Management\n",
    "- Create a new environmnet 'conda create --name evn_name [python=version] [other_packages]'\n",
    "- Activate an enviroment 'conda activate env_name'\n",
    "- Deactivate current environemnt 'conda deactivate'\n",
    "- Remove an environment 'conda remove --name env_name --all'\n",
    "- List all environment 'conda env list'\n",
    "- Export an environment 'conda env export environemnt.yml'\n",
    "- Create an enviroment from a file 'conda env crate -f enviromnet.yml'"
   ]
  },
  {
   "cell_type": "code",
   "execution_count": 1,
   "id": "3f158392-f469-4264-95ef-1600bb2c053f",
   "metadata": {},
   "outputs": [
    {
     "name": "stdout",
     "output_type": "stream",
     "text": [
      "# conda environments:\n",
      "#\n",
      "base                  *  C:\\Users\\suhaimi\\AppData\\Local\\anaconda3\n",
      "ciast_ai01               C:\\Users\\suhaimi\\AppData\\Local\\anaconda3\\envs\\ciast_ai01\n",
      "\n"
     ]
    }
   ],
   "source": [
    "!conda env list"
   ]
  },
  {
   "cell_type": "markdown",
   "id": "155a8339-9423-43a1-90ae-4dabf1c90646",
   "metadata": {},
   "source": [
    "# Part 1: Python Packages Management\n",
    "Python package management involves using tools to install, update and manage libraries & dependencies required for Python projects"
   ]
  },
  {
   "cell_type": "markdown",
   "id": "b19161ce-016e-4b5f-94ed-f897e06e2be9",
   "metadata": {},
   "source": [
    "## Common Tools for Managing Python Packages\n",
    "1. pip\n",
    "- The default and most widely used package manager for Python. It installs from Python Package Index (PyPI)\n",
    "- `pip install package name`: install a python package from PyPI\n",
    "- `pip install -r requirements.txt`: install packages listed in a rquirements file.\n",
    "- `pip list`: list installed packages\n",
    "- `pip uninstall package_name`: Unistalls a package\n",
    "\n",
    "2. conda\n",
    "- An environment manager whick **also can serve as package manager**\n",
    "- Compared to `pip` which only suppor Python package, `'conda` can support multiple languages (Python, R, etc)\n",
    "- `conda install package_name`: install a package\n",
    "- `conda list`: list installed package\n",
    "- environment.yml: A fle used with conda to specify the invironment configuration including all dependencies. It can be created using `conda export > environmnet.yml` and used with `conda env create -f environment.yml`"
   ]
  },
  {
   "cell_type": "markdown",
   "id": "cb3a8ecd-6481-442a-bb3f-a87efa5eef20",
   "metadata": {},
   "source": [
    "### Steps to connect Anaconda Environment to Jupyter Notepbook\n",
    "1. Inside anaconda prompt, make\n",
    "2. `conda install ipykernel`\n",
    "3. `python -m ipykernel install  --user --name=env_name`\n",
    "4. Refresh jupyter notebook\n"
   ]
  },
  {
   "cell_type": "markdown",
   "id": "25c49d7e-f035-4ee0-b4b7-b9fe99d39c6e",
   "metadata": {},
   "source": [
    "# Day 6: Numpy\n",
    "Description: Numpy is a fundamental python library for scientific computing in Python, proving support for arrays, matrices and many mathematical functions"
   ]
  },
  {
   "cell_type": "markdown",
   "id": "b303eaa4-67c6-400c-a042-472832ef2fa2",
   "metadata": {},
   "source": [
    "## 1. Creating Array\n",
    "Description: This section covers the creationg of arrays using different Numpy functions. Numpy provides several methods to initializ arrays, including from lists of tuples and creating arrays with specific values or patterns.\n",
    "- `numpy.array()`: Create arrays from lists or tuples\n",
    "- `numpy.zeros()`:\n",
    "- `numpy.arrange()`: Create arrays with a range of values\n",
    "- `numpy.linspace()`: Create arrays with linearly spaced values\n",
    "- `numpy.random()`: Generate random array values"
   ]
  },
  {
   "cell_type": "code",
   "execution_count": 2,
   "id": "7589cec8-12cb-43a9-b114-d1b468b33210",
   "metadata": {},
   "outputs": [
    {
     "name": "stdout",
     "output_type": "stream",
     "text": [
      "Numpy Array: \n",
      " [1 2 3]\n",
      "Numpy Array: \n",
      " [4 5 6]\n"
     ]
    }
   ],
   "source": [
    "# 1. numpy.array()\n",
    "# Creating Array\n",
    "import numpy as np\n",
    "\n",
    "# From lists\n",
    "a = np.array([1, 2, 3])\n",
    "b = np.array([4, 5, 6])\n",
    "print(\"Numpy Array: \\n\", a)\n",
    "print(\"Numpy Array: \\n\", b)"
   ]
  },
  {
   "cell_type": "code",
   "execution_count": 6,
   "id": "1bf98622-a802-4733-88f4-c0910c3de518",
   "metadata": {},
   "outputs": [
    {
     "name": "stdout",
     "output_type": "stream",
     "text": [
      "full 9: \n",
      " [[9 9 9]\n",
      " [9 9 9]\n",
      " [9 9 9]]\n"
     ]
    }
   ],
   "source": [
    "full_9 = np.full((3, 3), 9)\n",
    "print(\"full 9: \\n\", full_9)"
   ]
  },
  {
   "cell_type": "code",
   "execution_count": 5,
   "id": "9a69ee47-b64c-40a6-8c09-7fa94207d20b",
   "metadata": {},
   "outputs": [
    {
     "name": "stdout",
     "output_type": "stream",
     "text": [
      "np range: \n",
      " [0 2 4 6 8]\n"
     ]
    }
   ],
   "source": [
    "range_np = np.arange(0, 10, 2)\n",
    "print(\"np range: \\n\", range_np)"
   ]
  },
  {
   "cell_type": "code",
   "execution_count": 6,
   "id": "7c6917f4-f7f2-461d-95fe-1f50755d65bb",
   "metadata": {},
   "outputs": [
    {
     "name": "stdout",
     "output_type": "stream",
     "text": [
      "np linspace: \n",
      " [0.   0.25 0.5  0.75 1.  ]\n"
     ]
    }
   ],
   "source": [
    "linspace_np = np.linspace(0, 1, 5)\n",
    "print(\"np linspace: \\n\", linspace_np)"
   ]
  },
  {
   "cell_type": "code",
   "execution_count": 8,
   "id": "5cf685a3-1810-4919-8b21-6b375424746c",
   "metadata": {},
   "outputs": [
    {
     "name": "stdout",
     "output_type": "stream",
     "text": [
      "Random array: \n",
      " [[0.06299373 0.43109789]\n",
      " [0.46633962 0.03102715]]\n"
     ]
    }
   ],
   "source": [
    "# numpy.random():\n",
    "random_np = np.random.random((2, 2))\n",
    "print(\"Random array: \\n\", random_np)"
   ]
  },
  {
   "cell_type": "markdown",
   "id": "6be2cdcd-2c55-4655-9334-b554673be959",
   "metadata": {},
   "source": [
    "### Exercise for Section 1\n",
    "1. Create a 1D Numpy array with values from 10 to 50\n",
    "2. Create a 3x3 matrix with values ranging from 0 to 8\n",
    "3. Create a 5 x 5 identity matrix\n",
    "4. Create an array of 10 random numbers between 0 to 1\n",
    "5. Create a 1D array of 20 equally spaced values between 0 and 1"
   ]
  },
  {
   "cell_type": "code",
   "execution_count": 10,
   "id": "5db191cb-1864-409b-90aa-2c1beecf964d",
   "metadata": {},
   "outputs": [
    {
     "name": "stdout",
     "output_type": "stream",
     "text": [
      "[10 11 12 13 14 15 16 17 18 19 20 21 22 23 24 25 26 27 28 29 30 31 32 33\n",
      " 34 35 36 37 38 39 40 41 42 43 44 45 46 47 48 49 50]\n"
     ]
    }
   ],
   "source": [
    "import numpy as np\n",
    "\n",
    "arr = np.arange(10, 51) \n",
    "print(arr)"
   ]
  },
  {
   "cell_type": "code",
   "execution_count": 18,
   "id": "b417da69-de25-44ae-bddb-aeed4fd852b2",
   "metadata": {},
   "outputs": [
    {
     "name": "stdout",
     "output_type": "stream",
     "text": [
      "[[0 1 2]\n",
      " [3 4 5]\n",
      " [6 7 8]]\n"
     ]
    }
   ],
   "source": [
    "import numpy as np\n",
    "\n",
    "arr = np.arange(9)\n",
    "matrix = arr.reshape(3, 3)\n",
    "\n",
    "print(matrix)"
   ]
  },
  {
   "cell_type": "code",
   "execution_count": 20,
   "id": "5754b9ee-14ce-432b-88c3-25cbb80c5987",
   "metadata": {},
   "outputs": [
    {
     "name": "stdout",
     "output_type": "stream",
     "text": [
      "[[1. 0. 0. 0. 0.]\n",
      " [0. 1. 0. 0. 0.]\n",
      " [0. 0. 1. 0. 0.]\n",
      " [0. 0. 0. 1. 0.]\n",
      " [0. 0. 0. 0. 1.]]\n",
      "[[1. 0. 0. 0. 0.]\n",
      " [0. 1. 0. 0. 0.]\n",
      " [0. 0. 1. 0. 0.]\n",
      " [0. 0. 0. 1. 0.]\n",
      " [0. 0. 0. 0. 1.]]\n"
     ]
    }
   ],
   "source": [
    "import numpy as np\n",
    "\n",
    "identity_matrix = np.eye(5)\n",
    "print(identity_matrix)\n",
    "id = np.identity(5)\n",
    "print(id)"
   ]
  },
  {
   "cell_type": "code",
   "execution_count": 29,
   "id": "d0b69a84-a1e2-4380-9c24-e4424c5ce82c",
   "metadata": {},
   "outputs": [
    {
     "name": "stdout",
     "output_type": "stream",
     "text": [
      "[ 2  2  5  2  7  9  8  6  5 10]\n",
      "[0.18069495 0.03833142 0.23319503 0.70181925 0.2110329  0.79857486\n",
      " 0.97795315 0.89374117 0.92418645 0.20287034]\n"
     ]
    }
   ],
   "source": [
    "\n",
    "import numpy as np\n",
    "\n",
    "random_integers = np.random.randint(0, 11, size=10)\n",
    "print(random_integers)\n",
    "random_num = np.random.rand(10)\n",
    "print(random_num)"
   ]
  },
  {
   "cell_type": "code",
   "execution_count": 32,
   "id": "b71d048c-4a4b-423a-b3a2-117164f7a42c",
   "metadata": {},
   "outputs": [
    {
     "name": "stdout",
     "output_type": "stream",
     "text": [
      "[0.39108905 0.46878125 0.72804702 0.67824762 0.12701477 0.95151365\n",
      " 0.26361305 0.278934   0.08867763 0.30565748]\n"
     ]
    }
   ],
   "source": [
    "random_10 = np.random.rand(10)\n",
    "print(random_10)"
   ]
  },
  {
   "cell_type": "code",
   "execution_count": 34,
   "id": "77d262c6-51ce-42a4-9aca-98d0a9c32e77",
   "metadata": {},
   "outputs": [
    {
     "name": "stdout",
     "output_type": "stream",
     "text": [
      "[0.         0.05263158 0.10526316 0.15789474 0.21052632 0.26315789\n",
      " 0.31578947 0.36842105 0.42105263 0.47368421 0.52631579 0.57894737\n",
      " 0.63157895 0.68421053 0.73684211 0.78947368 0.84210526 0.89473684\n",
      " 0.94736842 1.        ]\n"
     ]
    }
   ],
   "source": [
    "array_20 = np.linspace(0, 1, 20)\n",
    "print(array_20)"
   ]
  },
  {
   "cell_type": "markdown",
   "id": "650a9385-e60c-40a0-acb4-8be3d8e72353",
   "metadata": {},
   "source": [
    "## Section 2: Array Operations\n",
    "Description: This section illustrates various operations that can be performed on Numpy arrays, including element \n",
    "- Element-wise operations: Addition, subtraction, multiplication, division\n",
    "- Aggregation functions: sum(), mean(), std(), min(), max()\n",
    "- Mathematical function\n",
    "- Linear algebra: dot(), transpose(), inv(), eig()"
   ]
  },
  {
   "cell_type": "code",
   "execution_count": 38,
   "id": "9c811445-5ab5-497c-af8a-a43d7f4d1e12",
   "metadata": {},
   "outputs": [
    {
     "name": "stdout",
     "output_type": "stream",
     "text": [
      "Sum:  [5 7 9]\n",
      "Subs [3 3 3]\n",
      "Multi [ 4 10 18]\n"
     ]
    }
   ],
   "source": [
    "# Element-wise operations:\n",
    "y = np.array([1, 2, 3])\n",
    "z = np.array([4, 5, 6])\n",
    "sum = z + y\n",
    "subs = z - y\n",
    "multi = z * y\n",
    "print(\"Sum: \", sum)\n",
    "print(\"Subs\", subs)\n",
    "print(\"Multi\", multi)"
   ]
  },
  {
   "cell_type": "code",
   "execution_count": 42,
   "id": "7367b7f6-aa8e-4626-b84e-b8ac6c14e4db",
   "metadata": {},
   "outputs": [
    {
     "name": "stdout",
     "output_type": "stream",
     "text": [
      "sumb_x: 6\n",
      "mean_x: 2.0\n"
     ]
    }
   ],
   "source": [
    "# Aggregation functions\n",
    "x = [1, 2, 3]\n",
    "sum_x = np.sum(x)\n",
    "mean_x = np.mean(x)\n",
    "print(\"sumb_x:\", sum_x)\n",
    "print(\"mean_x:\", mean_x)"
   ]
  },
  {
   "cell_type": "code",
   "execution_count": 45,
   "id": "b82c465f-643c-4a9b-8a61-7ecfcaee6c44",
   "metadata": {},
   "outputs": [
    {
     "name": "stdout",
     "output_type": "stream",
     "text": [
      "SINX:  0.8912073600614354\n",
      "COSX:  0.4535961214255773\n"
     ]
    }
   ],
   "source": [
    "# Mathemarical function: sin(), kos(), exp(), sqrt()\n",
    "x = 1.1\n",
    "sinx = np.sin(x)\n",
    "print(\"SINX: \", sinx)\n",
    "cosx = np.cos(x)\n",
    "print(\"COSX: \", cosx)"
   ]
  },
  {
   "cell_type": "code",
   "execution_count": 47,
   "id": "b0ded1e9-8a4c-4a93-88cf-fcdc5e6e4e21",
   "metadata": {},
   "outputs": [
    {
     "name": "stdout",
     "output_type": "stream",
     "text": [
      "[[19 16]\n",
      " [43 38]]\n"
     ]
    }
   ],
   "source": [
    "# Linear algebra: don(), traspnose(), inv(), eig()\n",
    "# dot(): MatrixA dot() MatrixB\n",
    "A = np.array([[1, 2], [3, 4]])\n",
    "B = np.array([[5, 6], [7, 5]])\n",
    "ans = np.dot(A, B)\n",
    "print(ans)"
   ]
  },
  {
   "cell_type": "code",
   "execution_count": 48,
   "id": "ee503c32-9bc0-4f6f-ba83-c64e78c235e1",
   "metadata": {},
   "outputs": [
    {
     "name": "stdout",
     "output_type": "stream",
     "text": [
      "[[1 3]\n",
      " [2 4]]\n"
     ]
    }
   ],
   "source": [
    "# transponse()\n",
    "A = np.array([[1, 2], [3, 4]])\n",
    "transpose = np.transpose(A)\n",
    "print(transpose)"
   ]
  },
  {
   "cell_type": "code",
   "execution_count": 49,
   "id": "31aa92bc-7f58-4744-8b8c-7f9f5a7e3730",
   "metadata": {},
   "outputs": [
    {
     "name": "stdout",
     "output_type": "stream",
     "text": [
      "[[-2 -3]\n",
      " [-4 -5]]\n"
     ]
    }
   ],
   "source": [
    "# inverse\n",
    "A = np.array([[1, 2], [3, 4]])\n",
    "inv = np.invert(A)\n",
    "print(inv)"
   ]
  },
  {
   "cell_type": "code",
   "execution_count": 51,
   "id": "8046fdf8-7357-4b96-ae38-5d6ba7a126e7",
   "metadata": {},
   "outputs": [
    {
     "name": "stdout",
     "output_type": "stream",
     "text": [
      "[[-10 -13]\n",
      " [-22 -29]]\n"
     ]
    }
   ],
   "source": [
    "inv_A = np.invert(A)\n",
    "A_dot_invA = np.dot(A, inv_A)\n",
    "print(A_dot_invA)"
   ]
  },
  {
   "cell_type": "code",
   "execution_count": 79,
   "id": "ca80b86e-a2b8-43e8-a629-3b10ad6c4c14",
   "metadata": {},
   "outputs": [
    {
     "name": "stdout",
     "output_type": "stream",
     "text": [
      "Eigenvalues of A:  [-0.37228132  5.37228132]\n",
      "Eigenvektor of A:  [[-0.82456484 -0.41597356]\n",
      " [ 0.56576746 -0.90937671]]\n"
     ]
    }
   ],
   "source": [
    "# Eigenvalues and eigenvectors\n",
    "eig_values, eig_vectors = np.linalg.eig(A)\n",
    "print(\"Eigenvalues of A: \", eig_values)\n",
    "print(\"Eigenvektor of A: \", eig_vectors)"
   ]
  },
  {
   "cell_type": "markdown",
   "id": "ab6405ef-afbd-4bd4-8fec-7ad4bef7cef8",
   "metadata": {},
   "source": [
    "### Dimensions of Numpy Arrays\n",
    "1. 1D Numpy Array (Vector)\n",
    "- Description: A 1D array is a simple array of elements arranged in a single line, like a list of numbers\n",
    "- Example: [1, 2, 3, 4, 5]\n",
    "- Shape: (5, ) if there a 5 elements\n",
    "\n",
    "2. 2D Numpy array  (matrix)\n",
    "- Description : A 2D array ia a tabble of elements arrange in rows and columns. Each element can be accessed using 2 indices python.\n",
    "[[1,2,3],\n",
    "[4,3,6],\n",
    "[7,8,9]]\n",
    "\n",
    "- Shape: (3,3) for a 3x3 matrix\n",
    "\n",
    "3. 3D Array (Tensor)\n",
    "- Description: A 3D array can be thought of as a stack of 2D matrices. It extend the concept of 2D matrices to an additional dimension\n",
    "[[[1,2], [3,4]], [[5,6], [7,8]], [[9,10], [11,12]]]\n",
    "\n",
    "Shape: (3, 2, 2) for 3 matrices of  2X2 matrice"
   ]
  },
  {
   "cell_type": "markdown",
   "id": "72709749-812e-4d69-97e5-6df45b722694",
   "metadata": {},
   "source": [
    "### SEction 2: Arrya Operations\n",
    "1. Create two 1D arrays and perform element-wise addition, subtraction, multiplication and division\n",
    "2. Find the minimum and maximum and mean ofa given 1d array\n",
    "3. Compute the sine and square root of each element in a given array\n",
    "4. Create tow 2D matrices and perform matrix multiplecations using dot()\n",
    "5. Calculate the transpose, inverse and eigenvlaues of a 3x3 matrix"
   ]
  },
  {
   "cell_type": "code",
   "execution_count": 57,
   "id": "ddedb98d-f616-4e3a-82ef-4ae14a67aa0e",
   "metadata": {},
   "outputs": [
    {
     "name": "stdout",
     "output_type": "stream",
     "text": [
      "Array 1:  [ 5  4  7  5 10]\n",
      "Array 2:  [8 2 8 2 8]\n"
     ]
    }
   ],
   "source": [
    "# 1\n",
    "import numpy as np\n",
    "arr1 = np.random.randint(0, 11, size=5)\n",
    "arr2 = np.random.randint(0, 11, size=5)\n",
    "print(\"Array 1: \", arr1)\n",
    "print(\"Array 2: \", arr2)"
   ]
  },
  {
   "cell_type": "code",
   "execution_count": 60,
   "id": "8d72c100-4456-49bd-af68-827c82c50665",
   "metadata": {},
   "outputs": [
    {
     "name": "stdout",
     "output_type": "stream",
     "text": [
      "Max Array 1: 10\n",
      "Max Array 2: 8\n",
      "Min Array 1: 4\n",
      "Min Array 2: 2\n"
     ]
    }
   ],
   "source": [
    "# 2\n",
    "max_arr1 = np.max(arr1)\n",
    "min_arr1 = np.min(arr1)\n",
    "max_arr2 = np.max(arr2)\n",
    "min_arr2 = np.min(arr2)\n",
    "print(\"Max Array 1:\", max_arr1)\n",
    "print(\"Max Array 2:\", max_arr2)\n",
    "print(\"Min Array 1:\", min_arr1)\n",
    "print(\"Min Array 2:\", min_arr2)"
   ]
  },
  {
   "cell_type": "code",
   "execution_count": 65,
   "id": "a129fcd1-5475-4505-b63f-6e1ed386af23",
   "metadata": {
    "scrolled": true
   },
   "outputs": [
    {
     "name": "stdout",
     "output_type": "stream",
     "text": [
      " Square root for  5 :  2.23606797749979\n",
      " Sine for  5 :  -0.9589242746631385\n",
      " Square root for  4 :  2.0\n",
      " Sine for  4 :  -0.7568024953079282\n",
      " Square root for  7 :  2.6457513110645907\n",
      " Sine for  7 :  0.6569865987187891\n",
      " Square root for  5 :  2.23606797749979\n",
      " Sine for  5 :  -0.9589242746631385\n",
      " Square root for  10 :  3.1622776601683795\n",
      " Sine for  10 :  -0.5440211108893698\n"
     ]
    }
   ],
   "source": [
    "# 3\n",
    "for sq in arr1:\n",
    "    print(\" Square root for \", sq, \": \", np.sqrt(sq))\n",
    "    print(\" Sine for \", sq, \": \", np.sin(sq))"
   ]
  },
  {
   "cell_type": "code",
   "execution_count": 75,
   "id": "458c3347-0d37-4772-8849-9ecc89e15539",
   "metadata": {},
   "outputs": [
    {
     "name": "stdout",
     "output_type": "stream",
     "text": [
      "Matrix 1:  [[3 4 2]\n",
      " [2 7 6]] \n",
      "Matrix 2:  [[4 2]\n",
      " [6 1]\n",
      " [9 5]]\n",
      "[[ 54  20]\n",
      " [104  41]]\n"
     ]
    }
   ],
   "source": [
    "# dot\n",
    "mat1 = np.array([[3, 4, 2], [2, 7, 6]])\n",
    "mat2 = np.array([[4, 2], [6, 1], [9, 5]])\n",
    "dot = np.dot(mat1, mat2)\n",
    "print(\"Matrix 1: \", mat1, \"\\nMatrix 2: \", mat2)\n",
    "print(dot)"
   ]
  },
  {
   "cell_type": "code",
   "execution_count": 78,
   "id": "937b6f85-cd62-4214-8134-9ab47e296870",
   "metadata": {
    "editable": true,
    "slideshow": {
     "slide_type": ""
    },
    "tags": []
   },
   "outputs": [
    {
     "name": "stdout",
     "output_type": "stream",
     "text": [
      "[[9 8 7]\n",
      " [5 6 4]\n",
      " [3 2 1]]\n",
      "[[9 5 3]\n",
      " [8 6 2]\n",
      " [7 4 1]]\n",
      "[[-10  -9  -8]\n",
      " [ -6  -7  -5]\n",
      " [ -4  -3  -2]]\n"
     ]
    }
   ],
   "source": [
    "arr_x = np.array([[9, 8, 7], [5, 6, 4], [3, 2, 1]])\n",
    "print(arr_x)\n",
    "arr_t = np.transpose(arr_x)\n",
    "print(arr_t)\n",
    "arr_i  = np.invert(arr_x)\n",
    "print(arr_i)"
   ]
  },
  {
   "cell_type": "markdown",
   "id": "ad3cb390-7813-4815-af75-3e4765088258",
   "metadata": {},
   "source": [
    "## Section 3: indexing and Slicing\n",
    "Description: This section covers how to access and modify elements inside Numpy arrays using indexing and slicing techniques\n",
    "- Access element, subarrays\n",
    "- Boolean indexing\n",
    "- Fancy indexing with integer arrays\n",
    "  "
   ]
  },
  {
   "cell_type": "code",
   "execution_count": 80,
   "id": "15b91785-5746-459f-bc9d-1d1f1300ea80",
   "metadata": {},
   "outputs": [
    {
     "name": "stdout",
     "output_type": "stream",
     "text": [
      "1st element:  1\n"
     ]
    }
   ],
   "source": [
    "a = np.array([1,3,4,5,4,3,3])\n",
    "element_1 = a[0]\n",
    "print(\"1st element: \", element_1)"
   ]
  },
  {
   "cell_type": "code",
   "execution_count": 81,
   "id": "79f0b125-f782-42d2-9f2d-f7c514aa5d32",
   "metadata": {},
   "outputs": [
    {
     "name": "stdout",
     "output_type": "stream",
     "text": [
      "[4 5 4]\n"
     ]
    }
   ],
   "source": [
    "subarray_3rd_5th = a[2:5]\n",
    "print(subarray_3rd_5th)"
   ]
  },
  {
   "cell_type": "code",
   "execution_count": 83,
   "id": "27fc1cab-ba2e-4f91-8df0-bf9c567c822f",
   "metadata": {},
   "outputs": [
    {
     "name": "stdout",
     "output_type": "stream",
     "text": [
      "Fancy indexing 1d: [10 30 50]\n"
     ]
    }
   ],
   "source": [
    "#f Fancy Indexing\n",
    "# 1D array\n",
    "b = np.array([10, 20, 30, 40, 50])\n",
    "indices = [0, 2, 4]\n",
    "resutl = b[indices]\n",
    "print(\"Fancy indexing 1d:\", resutl)"
   ]
  },
  {
   "cell_type": "code",
   "execution_count": 87,
   "id": "cfb79764-ec7c-424e-8397-d526efa73785",
   "metadata": {},
   "outputs": [
    {
     "name": "stdout",
     "output_type": "stream",
     "text": [
      "[3 5 7]\n"
     ]
    }
   ],
   "source": [
    "# 2D array example\n",
    "b_2d = np.array([[1,2,3], [4,5,6], [7,8,9]])\n",
    "row_indices = [0,1,2]\n",
    "col_indices = [2,1,0]\n",
    "result = b_2d[row_indices, col_indices]\n",
    "print(result)"
   ]
  },
  {
   "cell_type": "code",
   "execution_count": 91,
   "id": "20b28bf4-459c-4ee1-ac54-442604b7b785",
   "metadata": {},
   "outputs": [
    {
     "name": "stdout",
     "output_type": "stream",
     "text": [
      "Orginal array: [[1 2 3]\n",
      " [4 5 6]]\n",
      "Reshaped: [[1 2]\n",
      " [3 4]\n",
      " [5 6]]\n",
      "Reshaped: [[1]\n",
      " [2]\n",
      " [3]\n",
      " [4]\n",
      " [5]\n",
      " [6]]\n",
      "Reshaped: [[1 2 3 4 5 6]]\n"
     ]
    }
   ],
   "source": [
    "# reshape()\n",
    "import numpy as np\n",
    "a = np.array([[1,2,3], [4,5,6]])\n",
    "\n",
    "reshape_a = a.reshape((3,2))\n",
    "reshape_b = a.reshape((6,1))\n",
    "reshape_c = a.reshape((1,6))\n",
    "print('Orginal array:', a)\n",
    "print(\"Reshaped:\", reshape_a)\n",
    "print(\"Reshaped:\", reshape_b)\n",
    "print(\"Reshaped:\", reshape_c)"
   ]
  },
  {
   "cell_type": "code",
   "execution_count": 93,
   "id": "e3b0d4be-e7b0-4990-9724-ce032c113f4a",
   "metadata": {},
   "outputs": [
    {
     "name": "stdout",
     "output_type": "stream",
     "text": [
      "Orig array: [[1 2 3]\n",
      " [4 5 6]]\n",
      "ravel array:  [1 2 3 4 5 6]\n",
      "The shape:  (6,)\n"
     ]
    }
   ],
   "source": [
    "# ravel\n",
    "import numpy as np\n",
    "a = np.array([[1,2,3], [4,5,6]])\n",
    "print(\"Orig array:\", a)\n",
    "ravel_a = np.ravel(a)\n",
    "print(\"ravel array: \", ravel_a)\n",
    "print(\"The shape: \", ravel_a.shape)"
   ]
  },
  {
   "cell_type": "code",
   "execution_count": 98,
   "id": "51ab9553-9bbc-4058-9b66-5b9b43a8cf12",
   "metadata": {},
   "outputs": [
    {
     "name": "stdout",
     "output_type": "stream",
     "text": [
      "[ 1  2  3  4  5  6  7  8  9 10]\n",
      "[3 5 7]\n"
     ]
    }
   ],
   "source": [
    "# Create a 1D array and accesss the element at indices 2, 4, 6\n",
    "import numpy as np\n",
    "arr_1d = np.arange(1, 11)\n",
    "print(arr_1d)\n",
    "el = arr_1d[[2,4,6]]\n",
    "print(el)\n",
    "#slide to get the first 2 and the last to"
   ]
  },
  {
   "cell_type": "code",
   "execution_count": 102,
   "id": "df9f4c35-3504-44e2-998d-1e5ebdc69c81",
   "metadata": {},
   "outputs": [
    {
     "name": "stdout",
     "output_type": "stream",
     "text": [
      "[[1 2 3]\n",
      " [4 5 6]]\n",
      "[[2 3]\n",
      " [5 6]]\n"
     ]
    }
   ],
   "source": [
    "# Slide a 2D array to get the first two rows and the last two columns\n",
    "arr_2d = np.array([[1,2,3], [4,5,6]])\n",
    "print(arr_2d)\n",
    "sliced = arr_2d[:2, -2:]\n",
    "print(sliced)"
   ]
  },
  {
   "cell_type": "markdown",
   "id": "74d4f433-18b5-4bbb-8146-55924396081f",
   "metadata": {
    "editable": true,
    "slideshow": {
     "slide_type": ""
    },
    "tags": []
   },
   "source": [
    "# Section 4 part 2\n",
    "## Section 4 Part2.1: Undertanding Axes in Numpy\n",
    "An axis in Numpy refers to a specific dimennsion of an array. Arrays can have multiple dimensions (aces) and operations csa be applied along these dimensions. The number of aces is equal to the array's dimensions\n",
    "\n",
    "1D Array: has one axis (axis 0)\n",
    "a = np.array([1,2,3,4])\n",
    "Shape: (4,0)\n",
    "Axis 0 [1,2,3,4]"
   ]
  },
  {
   "cell_type": "markdown",
   "id": "ffe4b35d-1c43-480c-add4-0663506d9d31",
   "metadata": {},
   "source": [
    "**2D Array**: has to aces (axis 0 and axis 1)\n",
    "a = np.array([[1,2], [3,4], [5,6]])\n",
    "Shape: (3,2)\n",
    "Axis 0: [[1,2], [3,4], [5,6]]\n",
    "Axis 1: [[1,3,5], [2,4,6]]"
   ]
  },
  {
   "cell_type": "markdown",
   "id": "02aaca2e-a2c1-42cd-aad9-20f679d460bf",
   "metadata": {},
   "source": [
    "**3D Array**: has three axees (axis 0, axis 1 and axis 2)\n",
    "a = np.array([[[1,2], [3,4]], [[5,6],[7,8]]])\n",
    "Shape: (2,2,2)\n",
    "Axis 0: [[[1,2], [3,4]], [[5,6],7,8]]] //Depth\n",
    "Axis 1: [[[1,2], [5,6]], [[3,4],7,8]]] //Rows\n",
    "Axis 2: [[[1,3], [2,4]], [[6,8],7,8]]] //Rows"
   ]
  },
  {
   "cell_type": "code",
   "execution_count": 103,
   "id": "79d4192f-5b7a-4309-acb8-2ccf39b2ff04",
   "metadata": {},
   "outputs": [],
   "source": [
    "## Sectoin 4 Part 2.2\n",
    "\n"
   ]
  },
  {
   "cell_type": "markdown",
   "id": "b663bda9-6efa-4a63-9b39-9f921c97e4bd",
   "metadata": {},
   "source": [
    "`vstack`<br>\n",
    "Operation: Stacks arrays vertically (row-wise) <br>\n",
    "Requirements  = The input arrays musht have the same shape along first axis <br>\n",
    "Result: Combines arrays alongthe first axis (axis=0) "
   ]
  },
  {
   "cell_type": "code",
   "execution_count": 104,
   "id": "6b173860-7022-4a0f-a1df-95457d943161",
   "metadata": {},
   "outputs": [
    {
     "name": "stdout",
     "output_type": "stream",
     "text": [
      "[[1 2 3]\n",
      " [4 5 6]]\n"
     ]
    }
   ],
   "source": [
    "import numpy as np\n",
    "a = np.array([1,2,3])\n",
    "b = np.array([4,5,6])\n",
    "result = np.vstack((a,b))\n",
    "print(result)"
   ]
  },
  {
   "cell_type": "code",
   "execution_count": 106,
   "id": "2bf880dd-ed8d-40bc-b11f-8432f6728d49",
   "metadata": {},
   "outputs": [
    {
     "name": "stdout",
     "output_type": "stream",
     "text": [
      "[[1 2]\n",
      " [3 4]\n",
      " [5 6]\n",
      " [7 8]]\n"
     ]
    }
   ],
   "source": [
    "import numpy as np\n",
    "a = np.array([[1,2], [3,4]])\n",
    "b = np.array([[5,6],[7,8]])\n",
    "result = np.vstack((a,b))\n",
    "print(result)"
   ]
  },
  {
   "cell_type": "markdown",
   "id": "eed3abd0-e2ea-4bfb-b1ce-157935c1a788",
   "metadata": {},
   "source": [
    "`concatenate`\n",
    "Operatoin: Joins a sequence of arrays along an existing axis, which can be specified\n",
    "Requrments: The input arrays must have shape except in the dimension correcponsing to the specified axis <br>\n",
    "Result: Combines array along specified axis\n"
   ]
  },
  {
   "cell_type": "markdown",
   "id": "726d3682-e544-4d25-98fb-af136f5b4e9c",
   "metadata": {},
   "source": [
    "# Section 4 Part 2 (Splitting)\n",
    "`split`(array, indices, axis=0)` <br>\n",
    "Operation: Splits array into multiple sub-arrays along a specified axis\n",
    "Axis: The axis along whict to split can be specified using `axis` parameter. It defaults to axis 0 <br>\n",
    "Parameters: <br>\n",
    "- `array`: input array\n",
    "- indices: if an intieger, N, the array will divied into N equal array along the specified axis. If an array of sorted integers, the entries indicate where along the axis the array is split\n",
    "- axis: The axis along which to split. Default is 0\n",
    "\n",
    "Return: A list of sub-arrays\n"
   ]
  },
  {
   "cell_type": "code",
   "execution_count": 110,
   "id": "0e769154-bfdd-4c06-8ef8-076df5c81a0f",
   "metadata": {},
   "outputs": [
    {
     "name": "stdout",
     "output_type": "stream",
     "text": [
      "(3, 3)\n",
      "Split result along axis0: [array([[1, 2, 3]]), array([[4, 5, 6]]), array([[7, 8, 9]])]\n",
      "split result along axis1: [array([[1, 2, 3]]), array([[4, 5, 6]]), array([[7, 8, 9]])]\n"
     ]
    }
   ],
   "source": [
    "import numpy as np\n",
    "\n",
    "a = np.array([[1,2,3], [4,5,6], [7,8,9]])\n",
    "print(a.shape)\n",
    "split_axis0 = np.split(a, 3)\n",
    "print(\"Split result along axis0:\", split_axis0)\n",
    "\n",
    "split_axis1_indices = np.split(a, [1,2])\n",
    "print(\"split result along axis1:\", split_axis1_indices)"
   ]
  },
  {
   "cell_type": "code",
   "execution_count": 111,
   "id": "11fe89ce-439c-4435-856d-3da59f86c72a",
   "metadata": {},
   "outputs": [
    {
     "name": "stdout",
     "output_type": "stream",
     "text": [
      "Split: [array([[1, 2, 3]]), array([[4, 5, 6]]), array([[ 7,  8,  9],\n",
      "       [10, 11, 12],\n",
      "       [13, 14, 15]])]\n"
     ]
    }
   ],
   "source": [
    "b = np.array([[1,2,3], [4,5,6], [7,8,9], [10,11,12],[13,14,15]])\n",
    "b_axist_indices = np.split(b, [1,2])\n",
    "print(\"Split:\", b_axist_indices)\n"
   ]
  },
  {
   "cell_type": "code",
   "execution_count": 118,
   "id": "8576d227-a555-4362-bc60-94804e6f83c6",
   "metadata": {},
   "outputs": [
    {
     "name": "stdout",
     "output_type": "stream",
     "text": [
      "(5, 3)\n",
      "(3, 5)\n",
      "[[ 1  2  3  4  5]\n",
      " [ 6  7  8  9 10]\n",
      " [11 12 13 14 15]]\n",
      "[array([[1, 2, 3, 4, 5]]), array([[ 6,  7,  8,  9, 10]]), array([[11, 12, 13, 14, 15]])]\n"
     ]
    }
   ],
   "source": [
    "c = np.array([[1,2,3], [4,5,6], [7,8,9], [10,11,12],[13,14,15]])\n",
    "print(c.shape)\n",
    "# reshpe 3X5\n",
    "c = c.reshape(3,5)\n",
    "print(c.shape)\n",
    "print(c)\n",
    "c_split = np.split(c, [1,2])\n",
    "print(c_split)"
   ]
  },
  {
   "cell_type": "markdown",
   "id": "95dc488d-b7e1-471c-a5f5-5def9ff5611e",
   "metadata": {},
   "source": [
    "`hsplit(array, indices)` <br>\n",
    "Operation: Splits into multiple sub-arrays horizontally \n",
    "- array: input array\n",
    "- indices\n",
    "- Return: A list of sub arrays"
   ]
  },
  {
   "cell_type": "code",
   "execution_count": 122,
   "id": "60b77af5-af75-480c-a7cc-6702acc52a26",
   "metadata": {},
   "outputs": [
    {
     "name": "stdout",
     "output_type": "stream",
     "text": [
      "hsplit 2 equal:  [array([[1],\n",
      "       [5]]), array([[2, 3],\n",
      "       [6, 7]]), array([[4],\n",
      "       [8]])]\n"
     ]
    }
   ],
   "source": [
    "a = np.array([[1,2,3,4], [5,6,7,8]])\n",
    "a_split_equal2 = np.hsplit(a, [1,3])\n",
    "print(\"hsplit 2 equal: \", a_split_equal2)"
   ]
  },
  {
   "cell_type": "code",
   "execution_count": 127,
   "id": "6636b61e-3fd2-4a35-b9b6-e5a7a20666c8",
   "metadata": {},
   "outputs": [
    {
     "name": "stdout",
     "output_type": "stream",
     "text": [
      "[[1 2 3 4]\n",
      " [5 6 7 8]]\n",
      "[array([[1, 2, 3, 4]]), array([[5, 6, 7, 8]])]\n",
      "[array([[1, 2, 3, 4]]), array([[5, 6, 7, 8]]), array([], shape=(0, 4), dtype=int64)]\n"
     ]
    }
   ],
   "source": [
    "a = np.array([[1,2,3,4], [5,6,7,8]])\n",
    "print(a)\n",
    "a_vspilit = np.vsplit(a, 2)\n",
    "print(a_vspilit)\n",
    "a_vspilit12 = np.vsplit(a, [1,2])\n",
    "print(a_vspilit12)"
   ]
  },
  {
   "cell_type": "markdown",
   "id": "076f51f6-ac31-4860-a585-6f5748bf3ede",
   "metadata": {},
   "source": [
    "# Section 4: Array Manipulation\n",
    "Desc: This section demostrates how to manipulate the shape and structure of Numpy arrays\n",
    "- Descript statistics: mean(), median(), std(), var()\n",
    "- Matrix operations: matmul(), det() svd(), trace()"
   ]
  },
  {
   "cell_type": "code",
   "execution_count": 132,
   "id": "d6e0f8fa-fb45-4520-96ec-f868330b86ba",
   "metadata": {},
   "outputs": [
    {
     "name": "stdout",
     "output_type": "stream",
     "text": [
      "2.5\n",
      "2.5\n",
      "1.118033988749895\n",
      "1.25\n"
     ]
    }
   ],
   "source": [
    "import numpy as np\n",
    "\n",
    "a = np.array([[1,2], [3,4]])\n",
    "mean_a = np.mean(a)\n",
    "print(mean_a)\n",
    "median_a = np.median(a)\n",
    "print(median_a)\n",
    "std_a = np.std(a)\n",
    "print(std_a)\n",
    "var_a = np.var(a)\n",
    "print(var_a)"
   ]
  },
  {
   "cell_type": "code",
   "execution_count": 134,
   "id": "3bab7d40-92d7-4f7b-8071-031b99aa1cc9",
   "metadata": {},
   "outputs": [
    {
     "name": "stdout",
     "output_type": "stream",
     "text": [
      "[[ 7 10]\n",
      " [15 22]]\n",
      "[[ 7 10]\n",
      " [15 22]]\n"
     ]
    }
   ],
   "source": [
    "# Matrix Op (Matmul)\n",
    "matrix_dot = np.dot(a,a)\n",
    "matrix_product = np.matmul(a, a)\n",
    "print(matrix_dot)\n",
    "print(matrix_product)"
   ]
  },
  {
   "cell_type": "code",
   "execution_count": 137,
   "id": "507ddcf9-e530-4503-a63f-48c8c6537bd9",
   "metadata": {},
   "outputs": [
    {
     "name": "stdout",
     "output_type": "stream",
     "text": [
      "matrix_det -2.0000000000000004\n"
     ]
    }
   ],
   "source": [
    "# det(), determinant\n",
    "matrix_det = np.linalg.det(a)\n",
    "print(\"matrix_det\", matrix_det)"
   ]
  },
  {
   "cell_type": "code",
   "execution_count": 138,
   "id": "a337ab09-7ab1-4889-92e4-f062006a10a7",
   "metadata": {
    "editable": true,
    "slideshow": {
     "slide_type": ""
    },
    "tags": []
   },
   "outputs": [
    {
     "name": "stdout",
     "output_type": "stream",
     "text": [
      "Matrix SVD: SVDResult(U=array([[-0.40455358, -0.9145143 ],\n",
      "       [-0.9145143 ,  0.40455358]]), S=array([5.4649857 , 0.36596619]), Vh=array([[-0.57604844, -0.81741556],\n",
      "       [ 0.81741556, -0.57604844]]))\n"
     ]
    }
   ],
   "source": [
    "# svd(): Singulare value decomposition\n",
    "matrix_svd = np.linalg.svd(a)\n",
    "print(\"Matrix SVD:\", matrix_svd)"
   ]
  },
  {
   "cell_type": "code",
   "execution_count": 139,
   "id": "805d12f9-9cd7-4fe9-836b-007960c6c9c9",
   "metadata": {},
   "outputs": [
    {
     "name": "stdout",
     "output_type": "stream",
     "text": [
      "5\n"
     ]
    }
   ],
   "source": [
    "# trace(): for 2d array, sum along its diagnal with the given offset is returned\n",
    "matrix_trace = np.trace(a)\n",
    "print(matrix_trace)"
   ]
  },
  {
   "cell_type": "code",
   "execution_count": 140,
   "id": "0bcce2c3-d2ee-4ffc-9a64-0450001fe0d2",
   "metadata": {},
   "outputs": [
    {
     "name": "stdout",
     "output_type": "stream",
     "text": [
      "[6 6 6]\n"
     ]
    }
   ],
   "source": [
    "## Section 6: Numpy Broadcasting\n",
    "a = np.array([2,2,2,])\n",
    "b = np.array([3,3,3])\n",
    "print(a * b)"
   ]
  },
  {
   "cell_type": "code",
   "execution_count": 142,
   "id": "205cd0bb-7465-4592-a918-815d427d739e",
   "metadata": {},
   "outputs": [
    {
     "name": "stdout",
     "output_type": "stream",
     "text": [
      "[6 6 6]\n"
     ]
    }
   ],
   "source": [
    "# Perform a * 3\n",
    "print(a * 3)"
   ]
  },
  {
   "cell_type": "markdown",
   "id": "e9e38ac4-00b2-4986-93e8-5c366e89e4d8",
   "metadata": {},
   "source": [
    "Broadcasting: Numpy convert 3 to [3 3 3] and called it broadcasting"
   ]
  },
  {
   "cell_type": "markdown",
   "id": "5f33c6d3-5f73-4410-9ce3-390d0b778c87",
   "metadata": {
    "editable": true,
    "slideshow": {
     "slide_type": ""
    },
    "tags": []
   },
   "source": [
    "\\begin{equation}\r\n",
    "H← ​​​60 ​+​ \\frac{​​30(B−R)​​}{Vmax−Vmin}  ​​, if V​max​​ = G\r\n",
    "\\end{equation}"
   ]
  },
  {
   "cell_type": "code",
   "execution_count": 145,
   "id": "d12cb1da-44df-48b9-ad41-a0b23f38f58e",
   "metadata": {},
   "outputs": [
    {
     "name": "stdout",
     "output_type": "stream",
     "text": [
      "Collecting pandas\n",
      "  Downloading pandas-2.2.2-cp312-cp312-win_amd64.whl.metadata (19 kB)\n",
      "Requirement already satisfied: numpy>=1.26.0 in c:\\users\\suhaimi\\appdata\\local\\anaconda3\\envs\\ciast_ai01\\lib\\site-packages (from pandas) (2.0.0)\n",
      "Requirement already satisfied: python-dateutil>=2.8.2 in c:\\users\\suhaimi\\appdata\\local\\anaconda3\\envs\\ciast_ai01\\lib\\site-packages (from pandas) (2.9.0.post0)\n",
      "Requirement already satisfied: pytz>=2020.1 in c:\\users\\suhaimi\\appdata\\local\\anaconda3\\envs\\ciast_ai01\\lib\\site-packages (from pandas) (2024.1)\n",
      "Collecting tzdata>=2022.7 (from pandas)\n",
      "  Downloading tzdata-2024.1-py2.py3-none-any.whl.metadata (1.4 kB)\n",
      "Requirement already satisfied: six>=1.5 in c:\\users\\suhaimi\\appdata\\local\\anaconda3\\envs\\ciast_ai01\\lib\\site-packages (from python-dateutil>=2.8.2->pandas) (1.16.0)\n",
      "Downloading pandas-2.2.2-cp312-cp312-win_amd64.whl (11.5 MB)\n",
      "   ---------------------------------------- 0.0/11.5 MB ? eta -:--:--\n",
      "   ---------------------------------------- 0.0/11.5 MB ? eta -:--:--\n",
      "    --------------------------------------- 0.2/11.5 MB 1.8 MB/s eta 0:00:07\n",
      "   -- ------------------------------------- 0.6/11.5 MB 5.0 MB/s eta 0:00:03\n",
      "   ---- ----------------------------------- 1.3/11.5 MB 7.3 MB/s eta 0:00:02\n",
      "   ------- -------------------------------- 2.0/11.5 MB 9.3 MB/s eta 0:00:02\n",
      "   ---------- ----------------------------- 3.1/11.5 MB 11.5 MB/s eta 0:00:01\n",
      "   -------------- ------------------------- 4.3/11.5 MB 13.7 MB/s eta 0:00:01\n",
      "   -------------------- ------------------- 5.9/11.5 MB 16.5 MB/s eta 0:00:01\n",
      "   --------------------------- ------------ 7.9/11.5 MB 19.4 MB/s eta 0:00:01\n",
      "   ----------------------------------- ---- 10.2/11.5 MB 22.5 MB/s eta 0:00:01\n",
      "   ---------------------------------------  11.5/11.5 MB 32.8 MB/s eta 0:00:01\n",
      "   ---------------------------------------- 11.5/11.5 MB 31.2 MB/s eta 0:00:00\n",
      "Downloading tzdata-2024.1-py2.py3-none-any.whl (345 kB)\n",
      "   ---------------------------------------- 0.0/345.4 kB ? eta -:--:--\n",
      "   --------------------------------------- 345.4/345.4 kB 20.9 MB/s eta 0:00:00\n",
      "Installing collected packages: tzdata, pandas\n",
      "Successfully installed pandas-2.2.2 tzdata-2024.1\n"
     ]
    }
   ],
   "source": [
    "!pip install pandas"
   ]
  },
  {
   "cell_type": "code",
   "execution_count": 148,
   "id": "6f323249-7d82-43cd-9b3c-b8fedffbe542",
   "metadata": {},
   "outputs": [
    {
     "name": "stderr",
     "output_type": "stream",
     "text": [
      "usage: conda-script.py [-h] [-v] [--no-plugins] [-V] COMMAND ...\n",
      "conda-script.py: error: unrecognized arguments: -all.\n"
     ]
    }
   ],
   "source": [
    "!conda update -all."
   ]
  },
  {
   "cell_type": "markdown",
   "id": "cc46d7fe-f9dc-4c6b-bd83-3585ba3a0b67",
   "metadata": {},
   "source": [
    "# Exercise SEction 4\n",
    "1. Reshape a 1D array of 12 elements into a 3x4 matrix. arr = [1,2,3,4,5,6,7,8,9,10,11,12]\n",
    "2. Flatten a 3x3 matrix into a 1D array. arr = [1,2,3],[4,5,6]\n",
    "3. Stack 2 1D arrays vertically and horizontally. arr1 = [2,3,4] arr2 = [6,7,8]\n",
    "4. Split a 1D array of 10 elements into 2 equal parts. arr = [1,2,3,4,5,6,7,8,910]\n",
    "5. Concacenate 2 2D arrays along rows and columns. A = np.array([[1,2], [3,4]]), B = np.array([[5,6],[7,8])"
   ]
  },
  {
   "cell_type": "code",
   "execution_count": 154,
   "id": "b508bcfa-f591-44f2-987e-68e053cc52a4",
   "metadata": {},
   "outputs": [
    {
     "name": "stdout",
     "output_type": "stream",
     "text": [
      "[[ 1  2  3  4]\n",
      " [ 5  6  7  8]\n",
      " [ 9 10 11 12]]\n",
      "[1 2 3 4 5 6 7 8 9]\n",
      "Horizontally stacked array:\n",
      "[1 2 3 4 5 6]\n",
      "Vertically stacked array:\n",
      "[[1 2 3]\n",
      " [4 5 6]]\n",
      "Original Array: [ 1  2  3  4  5  6  7  8  9 10]\n",
      "Split Part 1: [1 2 3 4 5]\n",
      "Split Part 2: [ 6  7  8  9 10]\n"
     ]
    }
   ],
   "source": [
    "# 1\n",
    "import numpy as np\n",
    "arr = [1,2,3,4,5,6,7,8,9,10,11,12]\n",
    "arr = np.reshape(arr, (3,4))\n",
    "print(arr)\n",
    "\n",
    "# 2\n",
    "\n",
    "matrix = np.array([[1, 2, 3],\n",
    "                   [4, 5, 6],\n",
    "                   [7, 8, 9]])\n",
    "\n",
    "flattened_array = matrix.flatten()\n",
    "print(flattened_array)\n",
    "\n",
    "# 3\n",
    "\n",
    "array1 = np.array([1, 2, 3])\n",
    "array2 = np.array([4, 5, 6])\n",
    "\n",
    "horizontal_stack = np.hstack((array1, array2))\n",
    "\n",
    "print(\"Horizontally stacked array:\")\n",
    "print(horizontal_stack)\n",
    "\n",
    "vertical_stack = np.vstack((array1, array2))\n",
    "\n",
    "print(\"Vertically stacked array:\")\n",
    "print(vertical_stack)\n",
    "\n",
    "# 4\n",
    "\n",
    "array = np.array([1, 2, 3, 4, 5, 6, 7, 8, 9, 10])\n",
    "midpoint = len(array) // 2\n",
    "part1 = array[:midpoint]\n",
    "part2 = array[midpoint:]\n",
    "\n",
    "print(\"Original Array:\", array)\n",
    "print(\"Split Part 1:\", part1)\n",
    "print(\"Split Part 2:\", part2)\n",
    " \n"
   ]
  },
  {
   "cell_type": "code",
   "execution_count": null,
   "id": "66655bcb-c2ff-4342-8fc1-5f485b08480b",
   "metadata": {},
   "outputs": [],
   "source": []
  }
 ],
 "metadata": {
  "kernelspec": {
   "display_name": "ciast_ai01",
   "language": "python",
   "name": "ciast_ai01"
  },
  "language_info": {
   "codemirror_mode": {
    "name": "ipython",
    "version": 3
   },
   "file_extension": ".py",
   "mimetype": "text/x-python",
   "name": "python",
   "nbconvert_exporter": "python",
   "pygments_lexer": "ipython3",
   "version": "3.12.4"
  }
 },
 "nbformat": 4,
 "nbformat_minor": 5
}
